{
 "cells": [
  {
   "cell_type": "code",
   "execution_count": 1,
   "metadata": {
    "ExecuteTime": {
     "end_time": "2020-05-27T07:23:45.183856Z",
     "start_time": "2020-05-27T07:23:45.178672Z"
    }
   },
   "outputs": [],
   "source": [
    "import os"
   ]
  },
  {
   "cell_type": "markdown",
   "metadata": {},
   "source": [
    "# 环境变量\n",
    "\n",
    "## 所有环境变量获取\n",
    "> ```os.environ: Dict```\n",
    "\n",
    "## 单个环境变量获取\n",
    "> ```python\n",
    "#方法1\n",
    "#os.getenv() == os.environ.get()\n",
    "os.getenv(key, default = None) #获取环境变量键的值，不存在则返回默认值\n",
    "#方法2\n",
    "os.environ[] #表示的是一个dict型的数据，比如os.environ[‘APPDATA’]就表示 'APPDATA’这个key键对的值。但如果key不存在，就会报错\n",
    ">```\n",
    "## 单个环境变量赋值\n",
    ">```python\n",
    "os.environ['WORKON_HOME'] = \"value\"\n",
    ">```\n",
    "\n",
    "## 删除环境变量\n",
    ">```python\n",
    "del os.environ['WORKON_HOME']\n",
    ">```"
   ]
  },
  {
   "cell_type": "code",
   "execution_count": 12,
   "metadata": {
    "collapsed": true,
    "jupyter": {
     "outputs_hidden": true
    }
   },
   "outputs": [
    {
     "data": {
      "text/plain": [
       "environ{'TERM_PROGRAM': 'Apple_Terminal',\n",
       "        'SHELL': '/bin/zsh',\n",
       "        'TERM': 'xterm-color',\n",
       "        'TMPDIR': '/var/folders/my/0_kym9hn0mxd5vzxr5dyqjkh0000gn/T/',\n",
       "        'CONDA_SHLVL': '2',\n",
       "        'CONDA_PROMPT_MODIFIER': '(tf2.0) ',\n",
       "        'TERM_PROGRAM_VERSION': '443',\n",
       "        'OLDPWD': '/Users/macuser',\n",
       "        'TERM_SESSION_ID': 'A643927A-1D9F-43EC-8EC5-315CFDE0C79C',\n",
       "        'USER': 'macuser',\n",
       "        'CONDA_EXE': '/Users/macuser/opt/anaconda3/bin/conda',\n",
       "        'SSH_AUTH_SOCK': '/private/tmp/com.apple.launchd.pHKFtNQojw/Listeners',\n",
       "        '_CE_CONDA': '',\n",
       "        'CONDA_PREFIX_1': '/Users/macuser/opt/anaconda3',\n",
       "        'PATH': '/Users/macuser/opt/anaconda3/envs/tf2.0/bin:/Users/macuser/opt/anaconda3/condabin:/usr/local/bin:/usr/bin:/bin:/usr/sbin:/sbin',\n",
       "        'CONDA_PREFIX': '/Users/macuser/opt/anaconda3/envs/tf2.0',\n",
       "        '__CFBundleIdentifier': 'com.apple.Terminal',\n",
       "        'PWD': '/Users/macuser',\n",
       "        'LANG': 'zh_CN.UTF-8',\n",
       "        'XPC_FLAGS': '0x0',\n",
       "        '_CE_M': '',\n",
       "        'XPC_SERVICE_NAME': '0',\n",
       "        'SHLVL': '2',\n",
       "        'HOME': '/Users/macuser',\n",
       "        'CONDA_PYTHON_EXE': '/Users/macuser/opt/anaconda3/bin/python',\n",
       "        'LOGNAME': 'macuser',\n",
       "        'CONDA_DEFAULT_ENV': 'tf2.0',\n",
       "        '_': '/Users/macuser/opt/anaconda3/envs/tf2.0/bin/jupyter-lab',\n",
       "        'JPY_PARENT_PID': '1593',\n",
       "        'CLICOLOR': '1',\n",
       "        'PAGER': 'cat',\n",
       "        'GIT_PAGER': 'cat',\n",
       "        'MPLBACKEND': 'module://ipykernel.pylab.backend_inline'}"
      ]
     },
     "execution_count": 12,
     "metadata": {},
     "output_type": "execute_result"
    }
   ],
   "source": [
    "os.environ"
   ]
  },
  {
   "cell_type": "markdown",
   "metadata": {},
   "source": [
    "# 查看脚本的绝对路径"
   ]
  },
  {
   "cell_type": "markdown",
   "metadata": {},
   "source": [
    "* **查看当前运行file所在文件夹路径:**\n",
    "\n",
    "`os.path.abspath('.')`\n",
    "\n",
    "`os.getcwd()`\n",
    "\n",
    "* **查看一个模块内部被调用时，这个模块所在文件的路径**（注意：如果还用os.getcwd，只会返回当前运行脚本的路径）\n",
    "\n",
    "`os.path.dirname(__file__)`\n",
    "> /Users/macuser/SynologyDrive/pythonBase/argparseStudy\n",
    "\n",
    "其中，`__file__`:\n",
    "> /Users/macuser/SynologyDrive/pythonBase/argparseStudy/global_vars.py\n"
   ]
  },
  {
   "cell_type": "code",
   "execution_count": 2,
   "metadata": {},
   "outputs": [
    {
     "data": {
      "text/plain": [
       "'/Users/macuser/SynologyDrive/pythonBase/1-files_handle'"
      ]
     },
     "execution_count": 2,
     "metadata": {},
     "output_type": "execute_result"
    }
   ],
   "source": [
    "os.path.abspath('.')"
   ]
  },
  {
   "cell_type": "code",
   "execution_count": 3,
   "metadata": {},
   "outputs": [
    {
     "data": {
      "text/plain": [
       "'/Users/macuser/SynologyDrive/pythonBase/1-files_handle'"
      ]
     },
     "execution_count": 3,
     "metadata": {},
     "output_type": "execute_result"
    }
   ],
   "source": [
    "os.getcwd()"
   ]
  },
  {
   "cell_type": "markdown",
   "metadata": {},
   "source": [
    "# 对文件/目录的操作的常用库\n",
    "\n",
    "* OS\n",
    "* filter函数\n",
    "* glob\n",
    "* random"
   ]
  },
  {
   "cell_type": "markdown",
   "metadata": {},
   "source": [
    "## OS 模块"
   ]
  },
  {
   "cell_type": "markdown",
   "metadata": {},
   "source": [
    "### Python os.walk() 方法\n",
    "[菜鸟](https://www.runoob.com/python/os-walk.html)\n",
    "\n",
    "\n",
    "概述:\n",
    "> os.walk() 方法用于通过在目录树中游走输出在目录中的文件名，向上或者向下。\n",
    "> os.walk() 方法是一个简单易用的文件、目录遍历器，可以帮助我们高效的处理文件、目录方面的事情。\n",
    "\n",
    "\n",
    "os.walk(top[, topdown=True[, onerror=None[, followlinks=False]]])\n",
    "参数\n",
    "* top -- 是你所要遍历的**目录的地址(绝对/相对路径均可)**, 返回的是一个三元组(root,dirs,files)。\n",
    "\n",
    "> root 所指的是当前正在遍历的这个文件夹的本身的地址\n",
    "\n",
    "> dirs 是一个 list ，内容是该文件夹中所有的**目录（文件夹）的名字**(不包括子目录)\n",
    "\n",
    "> files 同样是 list , 内容是该文件夹中所有的**文件**(不包括子目录)\n",
    "\n",
    "* topdown --可选，为 True，则优先遍历 top 目录，否则优先遍历 top 的子目录(默认为开启)。如果 topdown 参数为 True，walk 会遍历top文件夹，与top 文件夹中每一个子目录。\n",
    "\n",
    "* onerror -- 可选，需要一个 callable 对象，当 walk 需要异常时，会调用。\n",
    "\n",
    "* followlinks -- 可选，如果为 True，则会遍历目录下的快捷方式(linux 下是软连接 symbolic link )实际所指的目录(默认关闭)，如果为 False，则优先遍历 top 的子目录。\n",
    "\n",
    "返回值:该方法没有返回值。"
   ]
  },
  {
   "cell_type": "code",
   "execution_count": 6,
   "metadata": {
    "ExecuteTime": {
     "end_time": "2020-05-27T07:34:29.834693Z",
     "start_time": "2020-05-27T07:34:29.827710Z"
    }
   },
   "outputs": [
    {
     "name": "stdout",
     "output_type": "stream",
     "text": [
      "E:\\1-OneDrive\\OneDrive\\1-Machine Learning\\python_study\\1-files_handle\n",
      "['.ipynb_checkpoints']\n",
      "['files_handle_methods.ipynb']\n",
      "------------------------------------------------------------\n",
      "E:\\1-OneDrive\\OneDrive\\1-Machine Learning\\python_study\\1-files_handle\\.ipynb_checkpoints\n",
      "[]\n",
      "['files_handle_methods-checkpoint.ipynb']\n",
      "------------------------------------------------------------\n"
     ]
    }
   ],
   "source": [
    "for root, dirs, files in os.walk(r'E:\\1-OneDrive\\OneDrive\\1-Machine Learning\\python_study\\1-files_handle'):\n",
    "    print(root)\n",
    "    print(dirs)\n",
    "    print(files)\n",
    "    print('---'*20)"
   ]
  },
  {
   "cell_type": "markdown",
   "metadata": {},
   "source": [
    "### os.makedirs\n",
    "\n",
    "os.makedirs(path(**绝对/相对路径均可**), mode=0o777,exist_ok: int = False)\n",
    "\n",
    "* 参数\n",
    "\n",
    "> path -- 需要递归创建的目录。\n",
    "\n",
    "> mode -- 权限模式。\n",
    "\n",
    "工作方式类似于mkdir，但如果中间路径段不存在，将创建任何中间路径段(而不仅仅是最右边的路径段)。如果目标目录已经存在，如果exist_ok为False，则引发OSError。否则不会引发异常。这是递归的。"
   ]
  },
  {
   "cell_type": "markdown",
   "metadata": {},
   "source": [
    "### os.listdir() 方法\n",
    "\n",
    "概述\n",
    "os.listdir() 方法用于返回指定的文件夹包含的**文件或文件夹**的名字的列表。**注意不算子文件夹里面的东西**\n",
    "\n",
    "它不包括 . 和 .. 即使它在文件夹中。\n"
   ]
  },
  {
   "cell_type": "code",
   "execution_count": 7,
   "metadata": {
    "ExecuteTime": {
     "end_time": "2020-05-27T07:51:06.908516Z",
     "start_time": "2020-05-27T07:51:06.900535Z"
    }
   },
   "outputs": [
    {
     "data": {
      "text/plain": [
       "['.ipynb_checkpoints', 'files_handle_methods.ipynb']"
      ]
     },
     "execution_count": 7,
     "metadata": {},
     "output_type": "execute_result"
    }
   ],
   "source": [
    "os.listdir(r'E:\\1-OneDrive\\OneDrive\\1-Machine Learning\\python_study\\1-files_handle')"
   ]
  },
  {
   "cell_type": "markdown",
   "metadata": {},
   "source": [
    "### OS.path模块\n",
    "\n",
    "[菜鸟教程](https://www.runoob.com/python/python-os-path.html)\n",
    "\n"
   ]
  },
  {
   "cell_type": "markdown",
   "metadata": {},
   "source": [
    "os.path.join(path1[, path2[, ...]])\t把目录和文件名合成一个路径"
   ]
  },
  {
   "cell_type": "code",
   "execution_count": 2,
   "metadata": {
    "ExecuteTime": {
     "end_time": "2020-05-27T07:23:48.184364Z",
     "start_time": "2020-05-27T07:23:48.165416Z"
    }
   },
   "outputs": [
    {
     "data": {
      "text/plain": [
       "'..\\\\..\\\\data\\\\RMB_data'"
      ]
     },
     "execution_count": 2,
     "metadata": {},
     "output_type": "execute_result"
    }
   ],
   "source": [
    "os.path.join(\"..\", \"..\", \"data\", \"RMB_data\")"
   ]
  },
  {
   "cell_type": "markdown",
   "metadata": {},
   "source": [
    "os.path.exists(path):如果路径 path 存在，返回 True；如果路径 path 不存在，返回 False。**path既可以相对路径也可以决对路径**"
   ]
  },
  {
   "cell_type": "code",
   "execution_count": 3,
   "metadata": {
    "ExecuteTime": {
     "end_time": "2020-05-27T07:29:57.096050Z",
     "start_time": "2020-05-27T07:29:57.088065Z"
    }
   },
   "outputs": [
    {
     "data": {
      "text/plain": [
       "True"
      ]
     },
     "execution_count": 3,
     "metadata": {},
     "output_type": "execute_result"
    }
   ],
   "source": [
    "os.path.exists(r'E:\\1-OneDrive\\OneDrive\\1-Machine Learning\\python_study\\1-files_handle')"
   ]
  },
  {
   "cell_type": "markdown",
   "metadata": {},
   "source": [
    "## filter函数"
   ]
  },
  {
   "cell_type": "code",
   "execution_count": null,
   "metadata": {},
   "outputs": [],
   "source": []
  },
  {
   "cell_type": "code",
   "execution_count": null,
   "metadata": {},
   "outputs": [],
   "source": []
  },
  {
   "cell_type": "markdown",
   "metadata": {},
   "source": [
    "## shutil\n",
    "[参考](https://www.cnblogs.com/xiangsikai/p/7787101.html)\n",
    "\n",
    "主要作用与拷贝文件用的。\n",
    "\n",
    "1. shutil.copyfileobj(文件1，文件2)：将文件1的数据覆盖copy给文件2。\n",
    "```python\n",
    "import shutil\n",
    "f1 = open(\"1.txt\",encoding=\"utf-8\")\n",
    "f2 = open(\"2.txt\",\"w\",encoding=\"utf-8\")\n",
    "shutil.copyfileobj(f1,f2)\n",
    "```\n",
    "\n",
    "2. shutil.copyfile(文件1，文件2)：不用打开文件，直接用文件名进行覆盖copy。\n",
    "```python\n",
    "import shutil\n",
    "\n",
    "shutil.copyfile(\"1.txt\",\"3.txt\")\n",
    "```"
   ]
  },
  {
   "cell_type": "markdown",
   "metadata": {},
   "source": [
    "### shutil.copy"
   ]
  },
  {
   "cell_type": "markdown",
   "metadata": {},
   "source": [
    "shutil.copy(src_path(既可以相对路径也可以决对路径), target_path(既可以相对路径也可以决对路径))"
   ]
  },
  {
   "cell_type": "code",
   "execution_count": null,
   "metadata": {},
   "outputs": [],
   "source": []
  }
 ],
 "metadata": {
  "hide_input": false,
  "kernelspec": {
   "display_name": "Python 3",
   "language": "python",
   "name": "python3"
  },
  "language_info": {
   "codemirror_mode": {
    "name": "ipython",
    "version": 3
   },
   "file_extension": ".py",
   "mimetype": "text/x-python",
   "name": "python",
   "nbconvert_exporter": "python",
   "pygments_lexer": "ipython3",
   "version": "3.7.9"
  },
  "toc": {
   "base_numbering": 1,
   "nav_menu": {},
   "number_sections": true,
   "sideBar": true,
   "skip_h1_title": false,
   "title_cell": "Table of Contents",
   "title_sidebar": "Contents",
   "toc_cell": false,
   "toc_position": {},
   "toc_section_display": true,
   "toc_window_display": true
  },
  "varInspector": {
   "cols": {
    "lenName": 16,
    "lenType": 16,
    "lenVar": 40
   },
   "kernels_config": {
    "python": {
     "delete_cmd_postfix": "",
     "delete_cmd_prefix": "del ",
     "library": "var_list.py",
     "varRefreshCmd": "print(var_dic_list())"
    },
    "r": {
     "delete_cmd_postfix": ") ",
     "delete_cmd_prefix": "rm(",
     "library": "var_list.r",
     "varRefreshCmd": "cat(var_dic_list()) "
    }
   },
   "types_to_exclude": [
    "module",
    "function",
    "builtin_function_or_method",
    "instance",
    "_Feature"
   ],
   "window_display": false
  }
 },
 "nbformat": 4,
 "nbformat_minor": 4
}
