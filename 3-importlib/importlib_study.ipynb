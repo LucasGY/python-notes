{
 "cells": [
  {
   "cell_type": "markdown",
   "metadata": {
    "pycharm": {
     "name": "#%% md\n"
    }
   },
   "source": [
    "# 一、importlib(动态导入模块)介绍\n",
    "一般而言，当我们需要某些功能的模块时（无论是内置模块或自定义功能的模块），\n",
    "可以通过import module 或者 from * import module的方式导入，这属于静态导入，很容易理解。\n",
    "\n",
    "而如果当我们需要在程序的运行过程时才能决定导入某个文件中的模块时，\n",
    "并且这些文件提供了同样的接口名字，上面说的方式就不适用了，这时候需要使用python的动态导入\n",
    "\n",
    "还有一种情况：我们有时希望从配置文件等地获取要被动态加载的 module，\n",
    "但是所读取的配置项通常为字符串类型，无法用 import 加载。\n",
    "\n",
    "[参考](https://www.jianshu.com/p/946a17c70a9d)"
   ]
  },
  {
   "cell_type": "code",
   "execution_count": 1,
   "metadata": {
    "collapsed": false,
    "jupyter": {
     "outputs_hidden": false
    },
    "pycharm": {
     "is_executing": false,
     "name": "#%%\n"
    }
   },
   "outputs": [
    {
     "data": {
      "text/plain": [
       "array([1, 2, 3])"
      ]
     },
     "execution_count": 1,
     "metadata": {},
     "output_type": "execute_result"
    }
   ],
   "source": [
    "import importlib\n",
    "\n",
    "np = importlib.import_module('numpy') # 接受字符串\n",
    "a = np.array([1,2,3])\n",
    "a"
   ]
  }
 ],
 "metadata": {
  "kernelspec": {
   "display_name": "Python 3",
   "language": "python",
   "name": "python3"
  },
  "language_info": {
   "codemirror_mode": {
    "name": "ipython",
    "version": 3
   },
   "file_extension": ".py",
   "mimetype": "text/x-python",
   "name": "python",
   "nbconvert_exporter": "python",
   "pygments_lexer": "ipython3",
   "version": "3.7.9"
  },
  "pycharm": {
   "stem_cell": {
    "cell_type": "raw",
    "metadata": {
     "collapsed": false
    },
    "source": []
   }
  }
 },
 "nbformat": 4,
 "nbformat_minor": 4
}
