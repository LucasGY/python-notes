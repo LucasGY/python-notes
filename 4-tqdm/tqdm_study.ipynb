{
 "cells": [
  {
   "cell_type": "markdown",
   "metadata": {
    "collapsed": true,
    "pycharm": {
     "name": "#%% md\n"
    }
   },
   "source": [
    "# 一、tqdm（进度条）介绍\n",
    "参数：\n",
    "\n",
    "```\n",
    "iterable=None,            \n",
    "desc=None,      传入str类型，作为进度条标题（类似于说明）\n",
    "total=None,     预期的迭代次数\n",
    "leave=True,             \n",
    "file=None, \n",
    "ncols=None,         可以自定义进度条的总长度\n",
    "mininterval=0.1,    最小的更新间隔\n",
    "maxinterval=10.0,   最大更新间隔\n",
    "miniters=None, \n",
    "ascii=None, \n",
    "unit='it',\n",
    "unit_scale=False, \n",
    "dynamic_ncols=False, \n",
    "smoothing=0.3,\n",
    "bar_format=None, \n",
    "initial=0, \n",
    "position=None, \n",
    "postfix             以字典形式传入 详细信息 例如  速度= 10，  \n",
    "```\n",
    "\n",
    "参考：\n",
    "1. [github](https://github.com/tqdm/tqdm)\n",
    "2. [简单例子](https://www.cnblogs.com/WSX1994/p/10101570.html)"
   ]
  },
  {
   "cell_type": "code",
   "execution_count": 5,
   "outputs": [
    {
     "name": "stderr",
     "text": [
      "WSX: 100it [00:00, ?it/s, a=123, b=456]                                                             \n"
     ],
     "output_type": "stream"
    }
   ],
   "source": [
    "from tqdm import tqdm\n",
    " \n",
    "dict = {\"a\":123,\"b\":456}\n",
    "for i in tqdm(iterable = range(100),\n",
    "              total=10,\n",
    "              desc = \"WSX\",\n",
    "              ncols = 100,\n",
    "              postfix = dict,\n",
    "              mininterval = 0.3):\n",
    "    pass"
   ],
   "metadata": {
    "collapsed": false,
    "pycharm": {
     "name": "#%%\n",
     "is_executing": false
    }
   }
  },
  {
   "cell_type": "code",
   "execution_count": 7,
   "outputs": [
    {
     "name": "stderr",
     "text": [
      "下载速度 99: 100%|██████████| 100/100 [00:11<00:00,  8.87it/s, gen=393, loss=0.458, lst=[1, 2], str=详细信息]\n"
     ],
     "output_type": "stream"
    }
   ],
   "source": [
    "from tqdm import trange\n",
    "from random import random, randint\n",
    "from time import sleep\n",
    "with trange(100) as t:\n",
    "    for i in t:\n",
    "        # Description will be displayed on the left\n",
    "        t.set_description('下载速度 %i' % i)\n",
    "        # Postfix will be displayed on the right,\n",
    "        # formatted automatically based on argument's datatype\n",
    "        t.set_postfix(loss=random(), gen=randint(1,999), str='详细信息',\n",
    "                     lst=[1, 2])\n",
    "        sleep(0.1)\n"
   ],
   "metadata": {
    "collapsed": false,
    "pycharm": {
     "name": "#%%\n",
     "is_executing": false
    }
   }
  }
 ],
 "metadata": {
  "kernelspec": {
   "display_name": "Python 3",
   "language": "python",
   "name": "python3"
  },
  "language_info": {
   "codemirror_mode": {
    "name": "ipython",
    "version": 2
   },
   "file_extension": ".py",
   "mimetype": "text/x-python",
   "name": "python",
   "nbconvert_exporter": "python",
   "pygments_lexer": "ipython2",
   "version": "2.7.6"
  },
  "pycharm": {
   "stem_cell": {
    "cell_type": "raw",
    "source": [],
    "metadata": {
     "collapsed": false
    }
   }
  }
 },
 "nbformat": 4,
 "nbformat_minor": 0
}