{
 "cells": [
  {
   "cell_type": "markdown",
   "metadata": {
    "pycharm": {
     "name": "#%% md\n"
    }
   },
   "source": [
    "# 一、argparse介绍\n",
    "[argparse](https://docs.python.org/3/library/argparse.html) 是python自带的命令行参数解析包，\n",
    "可以用来方便地读取命令行参数，当你的代码需要频繁地修改参数的时候，\n",
    "使用这个工具可以将参数和代码分离开来，让你的代码更简洁，适用范围更广。\n",
    "\n",
    "参考：\n",
    "1. [argparse简要用法总结](http://vra.github.io/2017/12/02/argparse-usage/)\n",
    "2. [更详细版本](https://www.jianshu.com/p/e2f9de45a981)\n",
    "3. [argparse模块如何在jupyter notebook中用于传参？](https://zhuanlan.zhihu.com/p/145720581)"
   ]
  },
  {
   "cell_type": "markdown",
   "metadata": {
    "pycharm": {
     "name": "#%% md\n"
    }
   },
   "source": [
    "# 二、简单示例"
   ]
  },
  {
   "cell_type": "code",
   "execution_count": 2,
   "metadata": {
    "pycharm": {
     "is_executing": false,
     "name": "#%%\n"
    }
   },
   "outputs": [
    {
     "name": "stdout",
     "output_type": "stream",
     "text": [
      "Namespace(embedding='pre_trained', foo=None, model='pre_trained')\n",
      "pre_trained\n"
     ]
    }
   ],
   "source": [
    "import argparse\n",
    "#参数解析器实例化\n",
    "parser = argparse.ArgumentParser(description=\"Demo of argparse\") #description描述这个参数解析器是干什么的，当我们在命令行显示帮助信息的时候会看到description描述的信息\n",
    "\n",
    "#add_argument函数来增加参数\n",
    "parser.add_argument('-m',\n",
    "                    '--model', #当'-'和'--'同时出现的时候，系统默认后者为参数名，前者不是，但是在命令行输入的时候没有这个区分\n",
    "                    default='pre_trained',# required=True时没用\n",
    "                    type=str, \n",
    "#                     required=True, # True：如果没有手动指定，就会报错；False: 不会报错，直接将default或None赋值\n",
    "                    help='choose a model')\n",
    "parser.add_argument('--embedding', \n",
    "                    default='pre_trained', #default参数表示我们在运行命令时若没有提供参数，程序会将此值当做参数值\n",
    "                    type=str, \n",
    "                    help='random or pre_trained')\n",
    "\n",
    "# add_argument_group：只是方便帮助显示。它不影响解析或检查错误。 \n",
    "group = parser.add_argument_group('group1') #该对象具有 add_argument() 方法，就像常规的 ArgumentParser 一样。\n",
    "group.add_argument('--foo', help='foo help') #将参数添加到组时，解析器将其视为普通参数，但将参数显示在单独的组中以获取帮助消息。\n",
    "\n",
    "# parse_args获取解析的参数！！！\n",
    "# args = parser.parse_args() # py file\n",
    "args = parser.parse_args(args=[]) #jupyter file\n",
    "print(args) # Namespace类型的一个对象\n",
    "vars(args) # Namespace -> dict\n",
    "\n",
    "# 取命令行参数\n",
    "print(args.embedding)"
   ]
  },
  {
   "cell_type": "code",
   "execution_count": 3,
   "metadata": {},
   "outputs": [
    {
     "name": "stdout",
     "output_type": "stream",
     "text": [
      "usage: ipykernel_launcher.py [-h] [-m MODEL] [--embedding EMBEDDING]\n",
      "                             [--foo FOO]\n",
      "\n",
      "Demo of argparse\n",
      "\n",
      "optional arguments:\n",
      "  -h, --help            show this help message and exit\n",
      "  -m MODEL, --model MODEL\n",
      "                        choose a model\n",
      "  --embedding EMBEDDING\n",
      "                        random or pre_trained\n",
      "\n",
      "group1:\n",
      "  --foo FOO             foo help\n"
     ]
    }
   ],
   "source": [
    "parser.print_help()"
   ]
  },
  {
   "cell_type": "markdown",
   "metadata": {},
   "source": [
    "## 修改args"
   ]
  },
  {
   "cell_type": "code",
   "execution_count": 4,
   "metadata": {},
   "outputs": [],
   "source": [
    "vars(args)['model']='a'\n",
    "args"
   ]
  },
  {
   "cell_type": "code",
   "execution_count": 7,
   "metadata": {},
   "outputs": [
    {
     "data": {
      "text/plain": [
       "Namespace(embedding='pre_trained', foo=None, model='b')"
      ]
     },
     "execution_count": 7,
     "metadata": {},
     "output_type": "execute_result"
    }
   ],
   "source": [
    "args.model = 'b'\n",
    "args"
   ]
  },
  {
   "cell_type": "code",
   "execution_count": 9,
   "metadata": {},
   "outputs": [
    {
     "data": {
      "text/plain": [
       "Namespace(embedding='pre_trained', foo=None, model='c')"
      ]
     },
     "execution_count": 9,
     "metadata": {},
     "output_type": "execute_result"
    }
   ],
   "source": [
    "setattr(args, 'model', 'c')\n",
    "args"
   ]
  },
  {
   "cell_type": "code",
   "execution_count": null,
   "metadata": {},
   "outputs": [],
   "source": []
  }
 ],
 "metadata": {
  "kernelspec": {
   "display_name": "Python 3",
   "language": "python",
   "name": "python3"
  },
  "language_info": {
   "codemirror_mode": {
    "name": "ipython",
    "version": 3
   },
   "file_extension": ".py",
   "mimetype": "text/x-python",
   "name": "python",
   "nbconvert_exporter": "python",
   "pygments_lexer": "ipython3",
   "version": "3.7.9"
  },
  "pycharm": {
   "stem_cell": {
    "cell_type": "raw",
    "metadata": {
     "collapsed": false
    },
    "source": []
   }
  },
  "toc": {
   "base_numbering": 1,
   "nav_menu": {},
   "number_sections": true,
   "sideBar": true,
   "skip_h1_title": false,
   "title_cell": "Table of Contents",
   "title_sidebar": "Contents",
   "toc_cell": false,
   "toc_position": {},
   "toc_section_display": true,
   "toc_window_display": true
  },
  "toc-autonumbering": false,
  "varInspector": {
   "cols": {
    "lenName": 16,
    "lenType": 16,
    "lenVar": 40
   },
   "kernels_config": {
    "python": {
     "delete_cmd_postfix": "",
     "delete_cmd_prefix": "del ",
     "library": "var_list.py",
     "varRefreshCmd": "print(var_dic_list())"
    },
    "r": {
     "delete_cmd_postfix": ") ",
     "delete_cmd_prefix": "rm(",
     "library": "var_list.r",
     "varRefreshCmd": "cat(var_dic_list()) "
    }
   },
   "types_to_exclude": [
    "module",
    "function",
    "builtin_function_or_method",
    "instance",
    "_Feature"
   ],
   "window_display": false
  }
 },
 "nbformat": 4,
 "nbformat_minor": 4
}
