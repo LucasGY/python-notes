{
 "cells": [
  {
   "cell_type": "code",
   "execution_count": 3,
   "metadata": {
    "ExecuteTime": {
     "end_time": "2020-04-01T03:32:14.038510Z",
     "start_time": "2020-04-01T03:32:13.111017Z"
    },
    "pycharm": {
     "is_executing": false
    }
   },
   "outputs": [],
   "source": [
    "import pandas as pd\n",
    "import numpy as np\n",
    "import matplotlib.pyplot as plt\n",
    "from IPython.core.interactiveshell import InteractiveShell\n",
    "#让所有的变量或者声明都能显示出来\n",
    "InteractiveShell.ast_node_interactivity = 'all'\n",
    "#import mglearn"
   ]
  },
  {
   "cell_type": "markdown",
   "metadata": {},
   "source": [
    "# 面对对象编程"
   ]
  },
  {
   "cell_type": "markdown",
   "metadata": {},
   "source": [
    "## 基础知识\n",
    "\n",
    "1. 类是抽象的模板，而实例是根据类创建出来的一个个具体的“对象”\n",
    "2. 和静态语言不同，Python允许对实例变量绑定任何数据，也就是说，对于两个实例变量，虽然它们都是同一个类的不同实例，但拥有的变量名称都可能不同"
   ]
  },
  {
   "cell_type": "markdown",
   "metadata": {},
   "source": [
    "### 数据封装——实例的方法访问实例的数据"
   ]
  },
  {
   "cell_type": "code",
   "execution_count": 2,
   "metadata": {
    "ExecuteTime": {
     "end_time": "2020-03-25T02:32:28.767264Z",
     "start_time": "2020-03-25T02:32:28.760605Z"
    }
   },
   "outputs": [
    {
     "name": "stdout",
     "output_type": "stream",
     "text": [
      "GouYue: 99\n"
     ]
    }
   ],
   "source": [
    "class Student(object):\n",
    "\n",
    "    def __init__(self, name, score):\n",
    "        self.name = name\n",
    "        self.score = score\n",
    "\n",
    "    def print_score(self):\n",
    "        print('%s: %s' % (self.name, self.score))\n",
    "\n",
    "gy = Student('GouYue',99)\n",
    "gy.print_score()"
   ]
  },
  {
   "cell_type": "markdown",
   "metadata": {},
   "source": [
    "### 继承\n",
    "* 好处：\n",
    "    1. 子类获得了父类的全部方法；\n",
    "    2. 子类可以覆盖父类的方法——多态"
   ]
  },
  {
   "cell_type": "code",
   "execution_count": 2,
   "metadata": {
    "ExecuteTime": {
     "end_time": "2020-03-25T02:45:32.798356Z",
     "start_time": "2020-03-25T02:45:32.790356Z"
    }
   },
   "outputs": [
    {
     "name": "stdout",
     "output_type": "stream",
     "text": [
      "Animal is running...\n",
      "Animal is running...\n",
      "Cat is running...\n"
     ]
    }
   ],
   "source": [
    "class Animal(object):\n",
    "    def run(self):\n",
    "        print('Animal is running...')\n",
    "class Dog(Animal):\n",
    "    pass\n",
    "class Cat(Animal):\n",
    "\n",
    "    def run(self):\n",
    "        super().run()\n",
    "        print('Cat is running...')\n",
    "dog = Dog()\n",
    "dog.run()\n",
    "\n",
    "cat = Cat()\n",
    "cat.run()\n"
   ]
  },
  {
   "cell_type": "markdown",
   "metadata": {},
   "source": [
    "### 多态\n",
    "\n",
    "* 提高了代码的维护性(继承保证)\n",
    "* 提高了代码的扩展性(由多态保证)\n",
    "\n",
    "开闭原则：\n",
    "* 对扩展开放（Open for extension）：允许子类重写方法函数\n",
    "* 对修改封闭（Closed for modification）：不重写，直接继承父类方法函数"
   ]
  },
  {
   "cell_type": "code",
   "execution_count": 5,
   "metadata": {
    "ExecuteTime": {
     "end_time": "2020-03-25T02:38:46.279317Z",
     "start_time": "2020-03-25T02:38:46.263807Z"
    }
   },
   "outputs": [
    {
     "data": {
      "text/plain": [
       "True"
      ]
     },
     "execution_count": 5,
     "metadata": {},
     "output_type": "execute_result"
    },
    {
     "data": {
      "text/plain": [
       "False"
      ]
     },
     "execution_count": 5,
     "metadata": {},
     "output_type": "execute_result"
    },
    {
     "data": {
      "text/plain": [
       "True"
      ]
     },
     "execution_count": 5,
     "metadata": {},
     "output_type": "execute_result"
    },
    {
     "data": {
      "text/plain": [
       "True"
      ]
     },
     "execution_count": 5,
     "metadata": {},
     "output_type": "execute_result"
    }
   ],
   "source": [
    "class Animal(object):\n",
    "    def run(self):\n",
    "        print('Animal is running...')\n",
    "class Dog(Animal):\n",
    "\n",
    "    def run(self):\n",
    "        print('Dog is running...')\n",
    "\n",
    "class Cat(Animal):\n",
    "\n",
    "    def run(self):\n",
    "        print('Cat is running...')\n",
    "b = Animal() # b是Animal类型\n",
    "c = Dog() # c是Dog类型\n",
    "isinstance(b, Animal)\n",
    "isinstance(b, Dog)\n",
    "isinstance(c, Dog)\n",
    "isinstance(c, Animal)"
   ]
  },
  {
   "cell_type": "markdown",
   "metadata": {},
   "source": [
    "#### 动态语言的鸭子类型——Duck Typing\n",
    "\n",
    "动态语言的“鸭子类型”，它并不要求严格的继承体系，一个对象只要“看起来像鸭子，走起路来像鸭子”，那它就可以被看做是鸭子。使用Duck Typing，我们根本不检查类型。相反，我们检查给定方法或属性的存在。"
   ]
  },
  {
   "cell_type": "code",
   "execution_count": 8,
   "metadata": {
    "ExecuteTime": {
     "end_time": "2020-03-25T02:57:44.871882Z",
     "start_time": "2020-03-25T02:57:44.854892Z"
    }
   },
   "outputs": [
    {
     "name": "stdout",
     "output_type": "stream",
     "text": [
      "fly with wings\n",
      "fly with fuel\n"
     ]
    },
    {
     "ename": "AttributeError",
     "evalue": "'Fish' object has no attribute 'fly'",
     "output_type": "error",
     "traceback": [
      "\u001b[1;31m---------------------------------------------------------------------------\u001b[0m",
      "\u001b[1;31mAttributeError\u001b[0m                            Traceback (most recent call last)",
      "\u001b[1;32m<ipython-input-8-d0bd3d3ae95b>\u001b[0m in \u001b[0;36m<module>\u001b[1;34m\u001b[0m\n\u001b[0;32m     18\u001b[0m \u001b[1;31m# considered as duck typing\u001b[0m\u001b[1;33m\u001b[0m\u001b[1;33m\u001b[0m\u001b[1;33m\u001b[0m\u001b[0m\n\u001b[0;32m     19\u001b[0m \u001b[1;32mfor\u001b[0m \u001b[0mobj\u001b[0m \u001b[1;32min\u001b[0m \u001b[0mBird\u001b[0m\u001b[1;33m(\u001b[0m\u001b[1;33m)\u001b[0m\u001b[1;33m,\u001b[0m \u001b[0mAirplane\u001b[0m\u001b[1;33m(\u001b[0m\u001b[1;33m)\u001b[0m\u001b[1;33m,\u001b[0m \u001b[0mFish\u001b[0m\u001b[1;33m(\u001b[0m\u001b[1;33m)\u001b[0m\u001b[1;33m:\u001b[0m\u001b[1;33m\u001b[0m\u001b[1;33m\u001b[0m\u001b[0m\n\u001b[1;32m---> 20\u001b[1;33m     \u001b[0mobj\u001b[0m\u001b[1;33m.\u001b[0m\u001b[0mfly\u001b[0m\u001b[1;33m(\u001b[0m\u001b[1;33m)\u001b[0m\u001b[1;33m\u001b[0m\u001b[1;33m\u001b[0m\u001b[0m\n\u001b[0m",
      "\u001b[1;31mAttributeError\u001b[0m: 'Fish' object has no attribute 'fly'"
     ]
    }
   ],
   "source": [
    "# Python program to demonstrate \n",
    "# duck typing \n",
    "  \n",
    "  \n",
    "class Bird: \n",
    "    def fly(self): \n",
    "        print(\"fly with wings\") \n",
    "  \n",
    "class Airplane: \n",
    "    def fly(self): \n",
    "        print(\"fly with fuel\") \n",
    "  \n",
    "class Fish: \n",
    "    def swim(self): \n",
    "        print(\"fish swim in sea\") \n",
    "  \n",
    "# Attributes having same name are \n",
    "# considered as duck typing \n",
    "for obj in Bird(), Airplane(), Fish(): \n",
    "    obj.fly() "
   ]
  },
  {
   "cell_type": "code",
   "execution_count": 7,
   "metadata": {
    "ExecuteTime": {
     "end_time": "2020-03-25T02:56:03.976242Z",
     "start_time": "2020-03-25T02:56:03.768873Z"
    }
   },
   "outputs": [
    {
     "data": {
      "text/plain": [
       "<__main__.TheHobbit at 0x206351f8108>"
      ]
     },
     "execution_count": 7,
     "metadata": {},
     "output_type": "execute_result"
    },
    {
     "data": {
      "text/plain": [
       "95022"
      ]
     },
     "execution_count": 7,
     "metadata": {},
     "output_type": "execute_result"
    },
    {
     "data": {
      "text/plain": [
       "11"
      ]
     },
     "execution_count": 7,
     "metadata": {},
     "output_type": "execute_result"
    },
    {
     "data": {
      "text/plain": [
       "4"
      ]
     },
     "execution_count": 7,
     "metadata": {},
     "output_type": "execute_result"
    },
    {
     "data": {
      "text/plain": [
       "3"
      ]
     },
     "execution_count": 7,
     "metadata": {},
     "output_type": "execute_result"
    },
    {
     "data": {
      "text/plain": [
       "95022"
      ]
     },
     "execution_count": 7,
     "metadata": {},
     "output_type": "execute_result"
    },
    {
     "ename": "TypeError",
     "evalue": "object of type 'int' has no len()",
     "output_type": "error",
     "traceback": [
      "\u001b[1;31m---------------------------------------------------------------------------\u001b[0m",
      "\u001b[1;31mTypeError\u001b[0m                                 Traceback (most recent call last)",
      "\u001b[1;32m<ipython-input-7-6b0e335cf7ca>\u001b[0m in \u001b[0;36m<module>\u001b[1;34m\u001b[0m\n\u001b[0;32m     16\u001b[0m \u001b[0mmy_int\u001b[0m \u001b[1;33m=\u001b[0m \u001b[1;36m7\u001b[0m\u001b[1;33m\u001b[0m\u001b[1;33m\u001b[0m\u001b[0m\n\u001b[0;32m     17\u001b[0m \u001b[0mmy_float\u001b[0m \u001b[1;33m=\u001b[0m \u001b[1;36m42.3\u001b[0m\u001b[1;33m\u001b[0m\u001b[1;33m\u001b[0m\u001b[0m\n\u001b[1;32m---> 18\u001b[1;33m \u001b[0mlen\u001b[0m\u001b[1;33m(\u001b[0m\u001b[0mmy_int\u001b[0m\u001b[1;33m)\u001b[0m\u001b[1;33m\u001b[0m\u001b[1;33m\u001b[0m\u001b[0m\n\u001b[0m\u001b[0;32m     19\u001b[0m \u001b[0mlen\u001b[0m\u001b[1;33m(\u001b[0m\u001b[0mmy_float\u001b[0m\u001b[1;33m)\u001b[0m\u001b[1;33m\u001b[0m\u001b[1;33m\u001b[0m\u001b[0m\n",
      "\u001b[1;31mTypeError\u001b[0m: object of type 'int' has no len()"
     ]
    }
   ],
   "source": [
    "class TheHobbit:\n",
    "    def __len__(self):\n",
    "        return 95022\n",
    "the_hobbit = TheHobbit()\n",
    "the_hobbit\n",
    "len(the_hobbit)\n",
    "\n",
    "my_str = \"Hello World\"\n",
    "my_list = [34, 54, 65, 78]\n",
    "my_dict = {\"one\": 123, \"two\": 456, \"three\": 789}\n",
    "len(my_str)\n",
    "len(my_list)\n",
    "len(my_dict)\n",
    "len(the_hobbit)\n",
    "\n",
    "my_int = 7\n",
    "my_float = 42.3\n",
    "len(my_int)\n",
    "len(my_float)"
   ]
  },
  {
   "cell_type": "markdown",
   "metadata": {},
   "source": [
    "### 获取实例的内部信息"
   ]
  },
  {
   "cell_type": "markdown",
   "metadata": {},
   "source": [
    "#### 使用type()——判断实例类型"
   ]
  },
  {
   "cell_type": "code",
   "execution_count": 10,
   "metadata": {
    "ExecuteTime": {
     "end_time": "2020-03-25T03:29:42.481075Z",
     "start_time": "2020-03-25T03:29:42.470574Z"
    }
   },
   "outputs": [
    {
     "data": {
      "text/plain": [
       "__main__.Animal"
      ]
     },
     "execution_count": 10,
     "metadata": {},
     "output_type": "execute_result"
    },
    {
     "data": {
      "text/plain": [
       "__main__.Dog"
      ]
     },
     "execution_count": 10,
     "metadata": {},
     "output_type": "execute_result"
    }
   ],
   "source": [
    "class Animal(object):\n",
    "    def run(self):\n",
    "        print('Animal is running...')\n",
    "class Dog(Animal):\n",
    "\n",
    "    def run(self):\n",
    "        print('Dog is running...')\n",
    "\n",
    "class Cat(Animal):\n",
    "\n",
    "    def run(self):\n",
    "        print('Cat is running...')\n",
    "b = Animal() # b是Animal类型\n",
    "c = Dog() # c是Dog类型\n",
    "type(b)\n",
    "type(c)\n"
   ]
  },
  {
   "cell_type": "markdown",
   "metadata": {},
   "source": [
    "#### 使用isinstance()——还可以判断是否属于某父类\n",
    "\n",
    "注意：总是优先使用isinstance()判断类型，可以将指定类型及其子类“一网打尽”。"
   ]
  },
  {
   "cell_type": "code",
   "execution_count": 13,
   "metadata": {
    "ExecuteTime": {
     "end_time": "2020-03-25T03:44:32.826978Z",
     "start_time": "2020-03-25T03:44:32.813972Z"
    }
   },
   "outputs": [
    {
     "data": {
      "text/plain": [
       "True"
      ]
     },
     "execution_count": 13,
     "metadata": {},
     "output_type": "execute_result"
    },
    {
     "data": {
      "text/plain": [
       "True"
      ]
     },
     "execution_count": 13,
     "metadata": {},
     "output_type": "execute_result"
    }
   ],
   "source": [
    "class Animal(object):\n",
    "    def run(self):\n",
    "        print('Animal is running...')\n",
    "class Dog(Animal):\n",
    "\n",
    "    def run(self):\n",
    "        print('Dog is running...')\n",
    "\n",
    "class Cat(Animal):\n",
    "\n",
    "    def run(self):\n",
    "        print('Cat is running...')\n",
    "b = Animal() # b是Animal类型\n",
    "c = Dog() # c是Dog类型\n",
    "isinstance(c, Dog)\n",
    "isinstance(c, Animal)"
   ]
  },
  {
   "cell_type": "markdown",
   "metadata": {},
   "source": [
    "#### 使用dir()——获得一个对象的所有属性和方法"
   ]
  },
  {
   "cell_type": "code",
   "execution_count": 12,
   "metadata": {
    "ExecuteTime": {
     "end_time": "2020-03-25T03:41:52.512157Z",
     "start_time": "2020-03-25T03:41:52.503121Z"
    },
    "scrolled": true
   },
   "outputs": [
    {
     "data": {
      "text/plain": [
       "['__class__',\n",
       " '__delattr__',\n",
       " '__dict__',\n",
       " '__dir__',\n",
       " '__doc__',\n",
       " '__eq__',\n",
       " '__format__',\n",
       " '__ge__',\n",
       " '__getattribute__',\n",
       " '__gt__',\n",
       " '__hash__',\n",
       " '__init__',\n",
       " '__init_subclass__',\n",
       " '__le__',\n",
       " '__lt__',\n",
       " '__module__',\n",
       " '__ne__',\n",
       " '__new__',\n",
       " '__reduce__',\n",
       " '__reduce_ex__',\n",
       " '__repr__',\n",
       " '__setattr__',\n",
       " '__sizeof__',\n",
       " '__str__',\n",
       " '__subclasshook__',\n",
       " '__weakref__',\n",
       " 'run']"
      ]
     },
     "execution_count": 12,
     "metadata": {},
     "output_type": "execute_result"
    }
   ],
   "source": [
    "class Animal(object):\n",
    "    def run(self):\n",
    "        print('Animal is running...')\n",
    "a = Animal()\n",
    "dir(a)"
   ]
  },
  {
   "cell_type": "markdown",
   "metadata": {},
   "source": [
    "#### 操作实例的状态\n",
    "\n",
    "* getattr(实例，'属性/方法'(字符串))：获取属性/方法xxx？\n",
    "* setattr((实例，'属性/方法'(字符串)), 值)：设置一个属性/方法.\n",
    "* hasattr(实例，'属性/方法'(字符串))：有属性/方法xxx吗？\n"
   ]
  },
  {
   "cell_type": "code",
   "execution_count": 14,
   "metadata": {
    "ExecuteTime": {
     "end_time": "2020-03-25T03:48:06.508192Z",
     "start_time": "2020-03-25T03:48:06.491197Z"
    }
   },
   "outputs": [
    {
     "data": {
      "text/plain": [
       "True"
      ]
     },
     "execution_count": 14,
     "metadata": {},
     "output_type": "execute_result"
    },
    {
     "data": {
      "text/plain": [
       "9"
      ]
     },
     "execution_count": 14,
     "metadata": {},
     "output_type": "execute_result"
    },
    {
     "data": {
      "text/plain": [
       "False"
      ]
     },
     "execution_count": 14,
     "metadata": {},
     "output_type": "execute_result"
    },
    {
     "data": {
      "text/plain": [
       "19"
      ]
     },
     "execution_count": 14,
     "metadata": {},
     "output_type": "execute_result"
    },
    {
     "data": {
      "text/plain": [
       "19"
      ]
     },
     "execution_count": 14,
     "metadata": {},
     "output_type": "execute_result"
    }
   ],
   "source": [
    "class MyObject(object):\n",
    "    def __init__(self):\n",
    "        self.x = 9\n",
    "    def power(self):\n",
    "        return self.x * self.x\n",
    "obj = MyObject()\n",
    "\n",
    "hasattr(obj, 'x') # 有属性'x'吗？\n",
    "obj.x\n",
    "hasattr(obj, 'y') # 有属性'y'吗？\n",
    "setattr(obj, 'y', 19) # 设置一个属性'y'\n",
    "getattr(obj, 'y') # 获取属性'y'\n",
    "obj.y # 获取属性'y'"
   ]
  },
  {
   "cell_type": "markdown",
   "metadata": {},
   "source": [
    "通过内置的一系列函数，我们可以对任意一个Python对象进行剖析，拿到其内部的数据。要注意的是，只有在不知道对象信息的时候，我们才会去获取对象信息。如果可以直接写：\n",
    "\n",
    "`sum = obj.x + obj.y`\n",
    "\n",
    "就不要写：\n",
    "\n",
    "`sum = getattr(obj, 'x') + getattr(obj, 'y')`"
   ]
  },
  {
   "cell_type": "markdown",
   "metadata": {},
   "source": [
    "### 实例属性和类属性\n",
    "\n",
    "**注意：千万不要对实例属性和类属性使用相同的名字，因为相同名称的实例属性将屏蔽掉类属性，但是当你删除实例属性后，再使用相同的名称，访问到的将是类属性。**"
   ]
  },
  {
   "cell_type": "code",
   "execution_count": 9,
   "metadata": {
    "ExecuteTime": {
     "end_time": "2020-03-25T03:20:08.918636Z",
     "start_time": "2020-03-25T03:20:08.912673Z"
    }
   },
   "outputs": [
    {
     "name": "stdout",
     "output_type": "stream",
     "text": [
      "Student\n",
      "Student\n",
      "Michael\n",
      "Student\n",
      "Student\n"
     ]
    }
   ],
   "source": [
    "class Student(object):\n",
    "    name = 'Student'#定义了一个类属性\n",
    "    \n",
    "\n",
    "s = Student() # 创建实例s\n",
    "print(s.name) # 打印name属性，因为实例并没有name属性，所以会继续查找class的name属性\n",
    "\n",
    "print(Student.name) # 打印类的name属性\n",
    "\n",
    "s.name = 'Michael' # 给实例绑定name属性\n",
    "print(s.name) # 由于实例属性优先级比类属性高，因此，它会屏蔽掉类的name属性\n",
    "\n",
    "print(Student.name) # 但是类属性并未消失，用Student.name仍然可以访问\n",
    "\n",
    "del s.name # 如果删除实例的name属性\n",
    "print(s.name) # 再次调用s.name，由于实例的name属性没有找到，类的name属性就显示出来了\n"
   ]
  },
  {
   "cell_type": "code",
   "execution_count": 4,
   "metadata": {
    "ExecuteTime": {
     "end_time": "2020-03-26T01:01:02.814164Z",
     "start_time": "2020-03-26T01:01:02.798621Z"
    }
   },
   "outputs": [
    {
     "data": {
      "text/plain": [
       "'regressor'"
      ]
     },
     "execution_count": 4,
     "metadata": {},
     "output_type": "execute_result"
    },
    {
     "data": {
      "text/plain": [
       "'a'"
      ]
     },
     "execution_count": 4,
     "metadata": {},
     "output_type": "execute_result"
    },
    {
     "ename": "AttributeError",
     "evalue": "'StackingRegressor' object has no attribute '__add'",
     "output_type": "error",
     "traceback": [
      "\u001b[1;31m---------------------------------------------------------------------------\u001b[0m",
      "\u001b[1;31mAttributeError\u001b[0m                            Traceback (most recent call last)",
      "\u001b[1;32m<ipython-input-4-9b67526a7c5c>\u001b[0m in \u001b[0;36m<module>\u001b[1;34m\u001b[0m\n\u001b[0;32m      9\u001b[0m \u001b[0mstr\u001b[0m\u001b[1;33m.\u001b[0m\u001b[0m_estimator_type\u001b[0m\u001b[1;33m\u001b[0m\u001b[1;33m\u001b[0m\u001b[0m\n\u001b[0;32m     10\u001b[0m \u001b[0mstr\u001b[0m\u001b[1;33m.\u001b[0m\u001b[0m_RegressorMixin__add\u001b[0m\u001b[1;33m\u001b[0m\u001b[1;33m\u001b[0m\u001b[0m\n\u001b[1;32m---> 11\u001b[1;33m \u001b[0mstr\u001b[0m\u001b[1;33m.\u001b[0m\u001b[0m__add\u001b[0m\u001b[1;33m\u001b[0m\u001b[1;33m\u001b[0m\u001b[0m\n\u001b[0m",
      "\u001b[1;31mAttributeError\u001b[0m: 'StackingRegressor' object has no attribute '__add'"
     ]
    }
   ],
   "source": [
    "class RegressorMixin:\n",
    "    \"\"\"Mixin class for all regression estimators in scikit-learn.\"\"\"\n",
    "    _estimator_type = \"regressor\"\n",
    "    __add = 'a'\n",
    "    pass\n",
    "class StackingRegressor(RegressorMixin,):\n",
    "    pass\n",
    "str = StackingRegressor()\n",
    "str._estimator_type\n",
    "str._RegressorMixin__add\n",
    "str.__add"
   ]
  },
  {
   "cell_type": "markdown",
   "metadata": {},
   "source": [
    "### 使用__slots__——限制实例的属性\n",
    "注意:\\_\\_slots\\_\\_定义的属性仅对当前类实例起作用，对继承的子类是不起作用的;除非在子类中也定义\\_\\_slots\\_\\_，这样，子类实例允许定义的属性就是自身的\\_\\_slots\\_\\_加上父类的\\_\\_slots\\_\\_。"
   ]
  },
  {
   "cell_type": "code",
   "execution_count": 17,
   "metadata": {
    "ExecuteTime": {
     "end_time": "2020-03-25T04:56:16.309358Z",
     "start_time": "2020-03-25T04:56:16.266267Z"
    }
   },
   "outputs": [
    {
     "ename": "AttributeError",
     "evalue": "'Student' object has no attribute 'score'",
     "output_type": "error",
     "traceback": [
      "\u001b[1;31m---------------------------------------------------------------------------\u001b[0m",
      "\u001b[1;31mAttributeError\u001b[0m                            Traceback (most recent call last)",
      "\u001b[1;32m<ipython-input-17-3486225e829e>\u001b[0m in \u001b[0;36m<module>\u001b[1;34m\u001b[0m\n\u001b[0;32m      5\u001b[0m \u001b[0ms\u001b[0m\u001b[1;33m.\u001b[0m\u001b[0mage\u001b[0m \u001b[1;33m=\u001b[0m \u001b[1;36m25\u001b[0m \u001b[1;31m# 绑定属性'age'\u001b[0m\u001b[1;33m\u001b[0m\u001b[1;33m\u001b[0m\u001b[0m\n\u001b[0;32m      6\u001b[0m \u001b[1;31m# 由于'score'没有被放到__slots__中，所以不能绑定score属性，试图绑定score将得到AttributeError的错误。\u001b[0m\u001b[1;33m\u001b[0m\u001b[1;33m\u001b[0m\u001b[1;33m\u001b[0m\u001b[0m\n\u001b[1;32m----> 7\u001b[1;33m \u001b[0ms\u001b[0m\u001b[1;33m.\u001b[0m\u001b[0mscore\u001b[0m \u001b[1;33m=\u001b[0m \u001b[1;36m99\u001b[0m \u001b[1;31m# 绑定属性'score'\u001b[0m\u001b[1;33m\u001b[0m\u001b[1;33m\u001b[0m\u001b[0m\n\u001b[0m\u001b[0;32m      8\u001b[0m \u001b[1;33m\u001b[0m\u001b[0m\n",
      "\u001b[1;31mAttributeError\u001b[0m: 'Student' object has no attribute 'score'"
     ]
    }
   ],
   "source": [
    "class Student(object):\n",
    "    __slots__ = ('name', 'age') # 用tuple定义允许绑定的属性名称\n",
    "s = Student() # 创建新的实例\n",
    "s.name = 'Michael' # 绑定属性'name'\n",
    "s.age = 25 # 绑定属性'age'\n",
    "# 由于'score'没有被放到__slots__中，所以不能绑定score属性，试图绑定score将得到AttributeError的错误。\n",
    "s.score = 99 # 绑定属性'score'\n",
    "    "
   ]
  },
  {
   "cell_type": "code",
   "execution_count": 18,
   "metadata": {
    "ExecuteTime": {
     "end_time": "2020-03-25T04:56:20.887497Z",
     "start_time": "2020-03-25T04:56:20.882499Z"
    }
   },
   "outputs": [],
   "source": [
    "class GraduateStudent(Student):\n",
    "    pass\n",
    "\n",
    "g = GraduateStudent()\n",
    "g.score = 9999"
   ]
  },
  {
   "cell_type": "markdown",
   "metadata": {},
   "source": [
    "### 使用@property——既能检查参数，又可以用类似属性这样简单的方式来访问类的变量\n",
    "\n",
    "@property的实现比较复杂，我们先考察如何使用。把一个getter方法变成属性，只需要加上@property就可以了，此时，@property本身又创建了另一个装饰器@score.setter，负责把一个setter方法变成属性赋值，于是，我们就拥有一个可控的属性操作："
   ]
  },
  {
   "cell_type": "code",
   "execution_count": 19,
   "metadata": {
    "ExecuteTime": {
     "end_time": "2020-03-25T05:01:32.192454Z",
     "start_time": "2020-03-25T05:01:32.183436Z"
    }
   },
   "outputs": [],
   "source": [
    "class Student(object):\n",
    "\n",
    "    @property  # getter方法\n",
    "    def score(self):\n",
    "        return self._score\n",
    "\n",
    "    @score.setter\n",
    "    def score(self, value):\n",
    "        if not isinstance(value, int):\n",
    "            raise ValueError('score must be an integer!')\n",
    "        if value < 0 or value > 100:\n",
    "            raise ValueError('score must between 0 ~ 100!')\n",
    "        self._score = value"
   ]
  },
  {
   "cell_type": "markdown",
   "metadata": {},
   "source": [
    "@property的实现比较复杂，我们先考察如何使用。把一个getter方法变成属性，只需要加上@property就可以了，此时，@property本身又创建了另一个装饰器@score.setter，负责把一个setter方法变成属性赋值，于是，我们就拥有一个可控的属性操作："
   ]
  },
  {
   "cell_type": "code",
   "execution_count": 21,
   "metadata": {
    "ExecuteTime": {
     "end_time": "2020-03-25T05:02:43.268285Z",
     "start_time": "2020-03-25T05:02:43.246244Z"
    }
   },
   "outputs": [
    {
     "data": {
      "text/plain": [
       "60"
      ]
     },
     "execution_count": 21,
     "metadata": {},
     "output_type": "execute_result"
    },
    {
     "ename": "ValueError",
     "evalue": "score must between 0 ~ 100!",
     "output_type": "error",
     "traceback": [
      "\u001b[1;31m---------------------------------------------------------------------------\u001b[0m",
      "\u001b[1;31mValueError\u001b[0m                                Traceback (most recent call last)",
      "\u001b[1;32m<ipython-input-21-0caee1bcca75>\u001b[0m in \u001b[0;36m<module>\u001b[1;34m\u001b[0m\n\u001b[0;32m      2\u001b[0m \u001b[0ms\u001b[0m\u001b[1;33m.\u001b[0m\u001b[0mscore\u001b[0m \u001b[1;33m=\u001b[0m \u001b[1;36m60\u001b[0m \u001b[1;31m# OK，实际转化为s.set_score(60)\u001b[0m\u001b[1;33m\u001b[0m\u001b[1;33m\u001b[0m\u001b[0m\n\u001b[0;32m      3\u001b[0m \u001b[0ms\u001b[0m\u001b[1;33m.\u001b[0m\u001b[0mscore\u001b[0m \u001b[1;31m# OK，实际转化为s.get_score()\u001b[0m\u001b[1;33m\u001b[0m\u001b[1;33m\u001b[0m\u001b[0m\n\u001b[1;32m----> 4\u001b[1;33m \u001b[0ms\u001b[0m\u001b[1;33m.\u001b[0m\u001b[0mscore\u001b[0m \u001b[1;33m=\u001b[0m \u001b[1;36m9999\u001b[0m\u001b[1;33m\u001b[0m\u001b[1;33m\u001b[0m\u001b[0m\n\u001b[0m",
      "\u001b[1;32m<ipython-input-19-57f562f34ace>\u001b[0m in \u001b[0;36mscore\u001b[1;34m(self, value)\u001b[0m\n\u001b[0;32m     10\u001b[0m             \u001b[1;32mraise\u001b[0m \u001b[0mValueError\u001b[0m\u001b[1;33m(\u001b[0m\u001b[1;34m'score must be an integer!'\u001b[0m\u001b[1;33m)\u001b[0m\u001b[1;33m\u001b[0m\u001b[1;33m\u001b[0m\u001b[0m\n\u001b[0;32m     11\u001b[0m         \u001b[1;32mif\u001b[0m \u001b[0mvalue\u001b[0m \u001b[1;33m<\u001b[0m \u001b[1;36m0\u001b[0m \u001b[1;32mor\u001b[0m \u001b[0mvalue\u001b[0m \u001b[1;33m>\u001b[0m \u001b[1;36m100\u001b[0m\u001b[1;33m:\u001b[0m\u001b[1;33m\u001b[0m\u001b[1;33m\u001b[0m\u001b[0m\n\u001b[1;32m---> 12\u001b[1;33m             \u001b[1;32mraise\u001b[0m \u001b[0mValueError\u001b[0m\u001b[1;33m(\u001b[0m\u001b[1;34m'score must between 0 ~ 100!'\u001b[0m\u001b[1;33m)\u001b[0m\u001b[1;33m\u001b[0m\u001b[1;33m\u001b[0m\u001b[0m\n\u001b[0m\u001b[0;32m     13\u001b[0m         \u001b[0mself\u001b[0m\u001b[1;33m.\u001b[0m\u001b[0m_score\u001b[0m \u001b[1;33m=\u001b[0m \u001b[0mvalue\u001b[0m\u001b[1;33m\u001b[0m\u001b[1;33m\u001b[0m\u001b[0m\n",
      "\u001b[1;31mValueError\u001b[0m: score must between 0 ~ 100!"
     ]
    }
   ],
   "source": [
    "s = Student()\n",
    "s.score = 60 # OK，实际转化为s.set_score(60)\n",
    "s.score # OK，实际转化为s.get_score()\n",
    "s.score = 9999"
   ]
  },
  {
   "cell_type": "markdown",
   "metadata": {},
   "source": [
    "还可以只给getter方法，不写setter方法，相当于对参数的写入保护"
   ]
  },
  {
   "cell_type": "code",
   "execution_count": null,
   "metadata": {},
   "outputs": [],
   "source": [
    "class Student(object):\n",
    "\n",
    "    @property  # getter方法\n",
    "    def birth(self):\n",
    "        return self._birth\n",
    "\n",
    "    @birth.setter\n",
    "    def birth(self, value):\n",
    "        self._birth = value\n",
    "\n",
    "    @property\n",
    "    def age(self):\n",
    "        return 2015 - self._birth"
   ]
  },
  {
   "cell_type": "markdown",
   "metadata": {
    "ExecuteTime": {
     "end_time": "2020-03-25T05:23:10.892457Z",
     "start_time": "2020-03-25T05:23:10.886417Z"
    }
   },
   "source": [
    "上面的birth是可读写属性，而age就是一个只读属性，因为age可以根据birth和当前时间计算出来。"
   ]
  },
  {
   "cell_type": "markdown",
   "metadata": {},
   "source": [
    "### 多重继承——MixIn设计模式\n",
    "\n",
    "一个主线类，多个从线（MixIn）。MixIn的目的就是给一个类增加多个功能，这样，在设计类的时候，我们优先考虑通过多重继承来组合多个MixIn的功能，而不是设计多层次的复杂的继承关系。只允许单一继承的语言（如Java）不能使用MixIn的设计。"
   ]
  },
  {
   "cell_type": "code",
   "execution_count": 23,
   "metadata": {
    "ExecuteTime": {
     "end_time": "2020-03-25T05:33:27.448834Z",
     "start_time": "2020-03-25T05:33:27.438331Z"
    }
   },
   "outputs": [
    {
     "ename": "NameError",
     "evalue": "name 'Mammal' is not defined",
     "output_type": "error",
     "traceback": [
      "\u001b[1;31m---------------------------------------------------------------------------\u001b[0m",
      "\u001b[1;31mNameError\u001b[0m                                 Traceback (most recent call last)",
      "\u001b[1;32m<ipython-input-23-f1a50a96a00b>\u001b[0m in \u001b[0;36m<module>\u001b[1;34m\u001b[0m\n\u001b[1;32m----> 1\u001b[1;33m \u001b[1;32mclass\u001b[0m \u001b[0mDog\u001b[0m\u001b[1;33m(\u001b[0m\u001b[0mMammal\u001b[0m\u001b[1;33m,\u001b[0m \u001b[0mRunnableMixIn\u001b[0m\u001b[1;33m,\u001b[0m \u001b[0mCarnivorousMixIn\u001b[0m\u001b[1;33m)\u001b[0m\u001b[1;33m:\u001b[0m\u001b[1;33m\u001b[0m\u001b[1;33m\u001b[0m\u001b[0m\n\u001b[0m\u001b[0;32m      2\u001b[0m     \u001b[1;32mpass\u001b[0m\u001b[1;33m\u001b[0m\u001b[1;33m\u001b[0m\u001b[0m\n",
      "\u001b[1;31mNameError\u001b[0m: name 'Mammal' is not defined"
     ]
    }
   ],
   "source": [
    "class Dog(Mammal, RunnableMixIn, CarnivorousMixIn):\n",
    "    pass"
   ]
  },
  {
   "cell_type": "markdown",
   "metadata": {},
   "source": [
    "这样一来，我们不需要复杂而庞大的继承链，只要选择组合不同的类的功能，就可以快速构造出所需的子类。"
   ]
  },
  {
   "cell_type": "code",
   "execution_count": null,
   "metadata": {},
   "outputs": [],
   "source": []
  },
  {
   "cell_type": "markdown",
   "metadata": {},
   "source": [
    "### 定制类\n",
    "\n",
    "参考：[廖雪峰](https://www.liaoxuefeng.com/wiki/1016959663602400/1017590712115904)\n"
   ]
  },
  {
   "cell_type": "markdown",
   "metadata": {},
   "source": [
    "#### \\_\\_str\\_\\_"
   ]
  },
  {
   "cell_type": "markdown",
   "metadata": {},
   "source": [
    "#### \\_\\_iter\\_\\_"
   ]
  },
  {
   "cell_type": "markdown",
   "metadata": {},
   "source": [
    "#### \\_\\_getitem\\_\\_"
   ]
  },
  {
   "cell_type": "markdown",
   "metadata": {},
   "source": [
    "#### \\_\\_getattr\\_\\_"
   ]
  },
  {
   "cell_type": "markdown",
   "metadata": {},
   "source": [
    "#### \\_\\_call\\_\\_"
   ]
  },
  {
   "cell_type": "code",
   "execution_count": 24,
   "metadata": {
    "ExecuteTime": {
     "end_time": "2020-03-25T05:38:56.777625Z",
     "start_time": "2020-03-25T05:38:56.771625Z"
    }
   },
   "outputs": [
    {
     "name": "stdout",
     "output_type": "stream",
     "text": [
      "My name is Michael.\n"
     ]
    }
   ],
   "source": [
    "class Student(object):\n",
    "    def __init__(self, name):\n",
    "        self.name = name\n",
    "\n",
    "    def __call__(self):\n",
    "        print('My name is %s.' % self.name)\n",
    "s = Student('Michael')\n",
    "s() # self参数不要传入"
   ]
  },
  {
   "cell_type": "code",
   "execution_count": 26,
   "metadata": {
    "ExecuteTime": {
     "end_time": "2020-03-25T05:53:58.015193Z",
     "start_time": "2020-03-25T05:53:58.007191Z"
    }
   },
   "outputs": [
    {
     "data": {
      "text/plain": [
       "type"
      ]
     },
     "execution_count": 26,
     "metadata": {},
     "output_type": "execute_result"
    },
    {
     "data": {
      "text/plain": [
       "type"
      ]
     },
     "execution_count": 26,
     "metadata": {},
     "output_type": "execute_result"
    }
   ],
   "source": [
    "type(Student)\n",
    "type(type)"
   ]
  },
  {
   "cell_type": "markdown",
   "metadata": {},
   "source": [
    "### super()\n",
    "参考：Onenote\n",
    "\n",
    "* 针对单继承\n",
    "    \n",
    "    在类的继承中，如果重定义某个方法，该方法会覆盖父类的同名方法，但有时，我们希望能同时实现父类的功能，这时，我们就需要调用父类的方法了，可通过super()来实现。\n",
    "    \n",
    "* 针对多继承：\n",
    "\n",
    "    super实质上和父类没有关联!\n",
    "\n",
    "MRO（method resolution order），事实上，对于你定义的每个类，python都会计算出一个方法解析顺序，它代表了类继承的顺序。我们可以利用下面的方式获得某个类的MRO列表。"
   ]
  },
  {
   "cell_type": "markdown",
   "metadata": {},
   "source": [
    "Python3.x 和 Python2.x 的一个区别是: Python 3 可以使用直接使用 super().xxx 代替 super(Class, self).xxx :"
   ]
  },
  {
   "cell_type": "markdown",
   "metadata": {},
   "source": [
    "#### 单继承"
   ]
  },
  {
   "cell_type": "code",
   "execution_count": 18,
   "metadata": {
    "ExecuteTime": {
     "end_time": "2020-03-27T03:33:04.492144Z",
     "start_time": "2020-03-27T03:33:04.487182Z"
    }
   },
   "outputs": [],
   "source": [
    "class Animal(object):\n",
    "    def __init__(self, name):\n",
    "        self.name = name\n",
    "\n",
    "    def greet(self):\n",
    "        print('the animal name is %s' % self.name)\n",
    "\n",
    "\n",
    "class Dog(Animal):\n",
    "    def greet(self):\n",
    "        super().greet()\n",
    "        print('wangwang')\n",
    "\n",
    "\n"
   ]
  },
  {
   "cell_type": "code",
   "execution_count": 19,
   "metadata": {
    "ExecuteTime": {
     "end_time": "2020-03-27T03:33:05.318788Z",
     "start_time": "2020-03-27T03:33:05.312829Z"
    }
   },
   "outputs": [
    {
     "name": "stdout",
     "output_type": "stream",
     "text": [
      "the animal name is huang\n",
      "wangwang\n"
     ]
    }
   ],
   "source": [
    "dog = Dog('huang')\n",
    "dog.greet()"
   ]
  },
  {
   "cell_type": "markdown",
   "metadata": {},
   "source": [
    "super一个常见的用法就是在子类中调用父类的初始化方法了，如："
   ]
  },
  {
   "cell_type": "code",
   "execution_count": 2,
   "metadata": {
    "ExecuteTime": {
     "end_time": "2020-03-29T07:20:01.231562Z",
     "start_time": "2020-03-29T07:20:01.219600Z"
    }
   },
   "outputs": [
    {
     "name": "stdout",
     "output_type": "stream",
     "text": [
      "daocoder\n",
      "mudai\n",
      "dao\n"
     ]
    }
   ],
   "source": [
    "class Base(object):\n",
    "    def __init__(self, a, b):\n",
    "        self.a = a\n",
    "        self.b = b\n",
    "\n",
    "\n",
    "class Inherit(Base):\n",
    "    def __init__(self, a, b, c):\n",
    "        # super(Inherit, self).__init__(a, b) py2支持的写法\n",
    "        super().__init__(a, b) # py3支持的写法\n",
    "        self.c = c\n",
    "        print(self.a)\n",
    "        print(self.b)\n",
    "        print(self.c)\n",
    "\n",
    "\n",
    "test = Inherit('daocoder', 'mudai', 'dao')"
   ]
  },
  {
   "cell_type": "markdown",
   "metadata": {},
   "source": [
    "#### super的真正原理——利用MRO列表\n",
    "\n",
    "MRO（method resolution order），事实上，对于你定义的每个类，python都会计算出一个方法解析顺序，它代表了类继承的顺序。我们可以利用下面的方式获得某个类的MRO列表。\n",
    "\n",
    "那么这个MRO列表的顺序是怎么定的呢，它是通过一个C3线性化算法来实现的，这里不讨论这个算法，简单来说，一个MRO列表就是合并所有父类的列表，并遵循下面几点：\n",
    "\n",
    "* 子类永远在父类的前面。\n",
    "* 如果有多个父类，会根据它们在列表中的顺序去检查。\n",
    "* 如果对下一个类存在两种不同的合法选择，那么选择第一个父类。\n",
    "\n"
   ]
  },
  {
   "cell_type": "code",
   "execution_count": 21,
   "metadata": {
    "ExecuteTime": {
     "end_time": "2020-03-27T03:49:29.142178Z",
     "start_time": "2020-03-27T03:49:29.126181Z"
    }
   },
   "outputs": [
    {
     "name": "stdout",
     "output_type": "stream",
     "text": [
      "enter C\n",
      "enter A\n",
      "enter B\n",
      "enter base\n",
      "leave base\n",
      "leave B\n",
      "leave A\n",
      "leave C\n"
     ]
    }
   ],
   "source": [
    "class Base(object):\n",
    "    def __init__(self):\n",
    "        print('enter base')\n",
    "        print('leave base')\n",
    "\n",
    "\n",
    "class A(Base):\n",
    "    def __init__(self):\n",
    "        print('enter A')\n",
    "        super(A, self).__init__()\n",
    "        print('leave A')\n",
    "\n",
    "\n",
    "class B(Base):\n",
    "    def __init__(self):\n",
    "        print('enter B')\n",
    "        super(B, self).__init__()\n",
    "        print('leave B')\n",
    "\n",
    "\n",
    "class C(A, B):\n",
    "    def __init__(self):\n",
    "        print('enter C')\n",
    "        super(C, self).__init__()\n",
    "        print('leave C')\n",
    "\n",
    "c = C()"
   ]
  },
  {
   "cell_type": "code",
   "execution_count": 22,
   "metadata": {
    "ExecuteTime": {
     "end_time": "2020-03-27T03:49:42.316768Z",
     "start_time": "2020-03-27T03:49:42.312787Z"
    }
   },
   "outputs": [
    {
     "name": "stdout",
     "output_type": "stream",
     "text": [
      "[<class '__main__.C'>, <class '__main__.A'>, <class '__main__.B'>, <class '__main__.Base'>, <class 'object'>]\n",
      "(<class '__main__.C'>, <class '__main__.A'>, <class '__main__.B'>, <class '__main__.Base'>, <class 'object'>)\n",
      "[<class '__main__.C'>, <class '__main__.A'>, <class '__main__.B'>, <class '__main__.Base'>, <class 'object'>]\n"
     ]
    }
   ],
   "source": [
    "print(C.mro())\n",
    "print(C.__mro__)\n",
    "print(c.__class__.mro())"
   ]
  },
  {
   "cell_type": "markdown",
   "metadata": {},
   "source": [
    "super的工作原理如下："
   ]
  },
  {
   "cell_type": "code",
   "execution_count": null,
   "metadata": {},
   "outputs": [],
   "source": [
    "def super(cls, inst):\n",
    "    \"\"\"\n",
    "    cls代表类，inst代表实例\n",
    "    \"\"\"\n",
    "    mro = inst.__class__.mro()\n",
    "    return mro[mro.index(cls) + 1]"
   ]
  },
  {
   "cell_type": "markdown",
   "metadata": {},
   "source": [
    "可以看出上面的代码做了两件事：\n",
    "\n",
    "1. 获取inst的MRO列表。\n",
    "2. 查找cls在MRO的index，并返回它的下一个类，即mro[index + 1]"
   ]
  },
  {
   "cell_type": "code",
   "execution_count": null,
   "metadata": {},
   "outputs": [],
   "source": []
  },
  {
   "cell_type": "code",
   "execution_count": null,
   "metadata": {},
   "outputs": [],
   "source": []
  },
  {
   "cell_type": "markdown",
   "metadata": {},
   "source": [
    "### 元类/元编程"
   ]
  },
  {
   "cell_type": "markdown",
   "metadata": {},
   "source": [
    "# 装饰器\n",
    "\n"
   ]
  },
  {
   "cell_type": "markdown",
   "metadata": {},
   "source": [
    "## \\*args和**kwargs\n",
    "\n",
    "注明：\n",
    "1. \\*args和\\*\\*kwargs这种写法不是必须的，只有前面的 \\* 才是必须的。当然你也可以写成\\*var和\\*\\*vars，而写成\\*args和\\*\\*kwargs是一个约定俗成的一个命名规范而已。\n",
    "2. 参数arg、\\*args、\\*\\*kwargs三个参数的位置必须是一定的。必须是(arg,\\*args,\\*\\*kwargs)这个顺序，否则程序会报错。\n",
    "\n",
    "函数在实际执行时，编程人员无法预先知道会被传入多少实参，这是不确定量，函数知道使用者会传多少个参数给它，幸好Python有\\*args和\\*\\*kwargs，有它俩帮我们统统接收。\n",
    "\n",
    "<span class=\"mark\">功能:是将**不确定**数量的参数传递给一个函数。注意是不确定的</span>。\n",
    "\n",
    "**\\*args的用法:*args 非键值对的可变数量的参数列表打包成tuple给函数体调用**\n",
    "\n",
    "**\\*\\*kwargs的使用方法\\*\\*kwargs 打包关键字参数成dict给函数体调用**"
   ]
  },
  {
   "cell_type": "code",
   "execution_count": 11,
   "metadata": {
    "ExecuteTime": {
     "end_time": "2020-03-19T03:19:24.253524Z",
     "start_time": "2020-03-19T03:19:24.248514Z"
    }
   },
   "outputs": [
    {
     "name": "stdout",
     "output_type": "stream",
     "text": [
      "6 7 (8, 9) {'a': 1, 'b': 2, 'c': 3}\n"
     ]
    }
   ],
   "source": [
    "def function(x,y,*args,**kwargs):\n",
    "    print(x,y,args,kwargs)\n",
    "\n",
    "function(6,7,8,9,a=1, b=2, c=3)"
   ]
  },
  {
   "cell_type": "markdown",
   "metadata": {},
   "source": [
    "### 使用\\*args和\\*\\*kwargs来传参"
   ]
  },
  {
   "cell_type": "code",
   "execution_count": 12,
   "metadata": {
    "ExecuteTime": {
     "end_time": "2020-03-19T03:23:43.529499Z",
     "start_time": "2020-03-19T03:23:43.521500Z"
    }
   },
   "outputs": [
    {
     "name": "stdout",
     "output_type": "stream",
     "text": [
      "arg1: two\n",
      "arg2: 3\n",
      "arg3: 5\n",
      "arg1: 5\n",
      "arg2: two\n",
      "arg3: 3\n"
     ]
    }
   ],
   "source": [
    "def test_args_kwargs(arg1, arg2, arg3):\n",
    "   print(\"arg1:\", arg1)\n",
    "   print(\"arg2:\", arg2)\n",
    "   print(\"arg3:\", arg3)\n",
    "# 首先使用 *args\n",
    "args = (\"two\", 3, 5)\n",
    "test_args_kwargs(*args)\n",
    "\n",
    "# 现在使用 **kwargs:\n",
    "kwargs = {\"arg3\": 3, \"arg2\": \"two\", \"arg1\": 5}\n",
    "test_args_kwargs(**kwargs)\n"
   ]
  },
  {
   "cell_type": "markdown",
   "metadata": {},
   "source": [
    "## 闭包\n",
    "\n",
    "闭包就是引用了自有变量的函数，这个函数保存了执行的上下文，可以脱离原本的作用域独立存在。"
   ]
  },
  {
   "cell_type": "code",
   "execution_count": null,
   "metadata": {},
   "outputs": [],
   "source": [
    "# print_msg是外围函数\n",
    "def print_msg():\n",
    "    msg = \"I'm closure\"\n",
    "\n",
    "    # printer是嵌套函数\n",
    "    def printer():\n",
    "        print(msg)\n",
    "\n",
    "    return printer\n",
    "\n",
    "\n",
    "# 这里获得的就是一个闭包\n",
    "closure = print_msg()\n",
    "# 输出 I'm closure\n",
    "closure()"
   ]
  },
  {
   "cell_type": "markdown",
   "metadata": {},
   "source": [
    "msg是一个局部变量，在print_msg函数执行之后应该就不会存在了。但是嵌套函数引用了这个变量，将这个局部变量封闭在了嵌套函数中，这样就形成了一个闭包。"
   ]
  },
  {
   "cell_type": "markdown",
   "metadata": {},
   "source": [
    "## 第一个手动装饰器及存在的问题"
   ]
  },
  {
   "cell_type": "code",
   "execution_count": 3,
   "metadata": {
    "ExecuteTime": {
     "end_time": "2020-03-19T05:23:36.819076Z",
     "start_time": "2020-03-19T05:23:36.811087Z"
    }
   },
   "outputs": [
    {
     "name": "stdout",
     "output_type": "stream",
     "text": [
      "I am the function which needs some decoration to remove my foul smell\n"
     ]
    }
   ],
   "source": [
    "def a_new_decorator(func):\n",
    "    def WrapTheFunction():\n",
    "        print('I am doing some boring work before executing {}'.format(func.__name__))\n",
    "        func()\n",
    "        print('I am doing some boring work after executing {}'.format(func.__name__))\n",
    "        return\n",
    "    return WrapTheFunction\n",
    "\n",
    "def a_function_requiring_decoration():\n",
    "    print(\"I am the function which needs some decoration to remove my foul smell\")\n",
    "    \n",
    "a_function_requiring_decoration()\n"
   ]
  },
  {
   "cell_type": "code",
   "execution_count": 4,
   "metadata": {
    "ExecuteTime": {
     "end_time": "2020-03-19T05:23:41.284862Z",
     "start_time": "2020-03-19T05:23:41.279903Z"
    }
   },
   "outputs": [
    {
     "name": "stdout",
     "output_type": "stream",
     "text": [
      "I am doing some boring work before executing a_function_requiring_decoration\n",
      "I am the function which needs some decoration to remove my foul smell\n",
      "I am doing some boring work after executing a_function_requiring_decoration\n"
     ]
    }
   ],
   "source": [
    "a_function_requiring_decoration = a_new_decorator(a_function_requiring_decoration)\n",
    "a_function_requiring_decoration()"
   ]
  },
  {
   "cell_type": "code",
   "execution_count": 5,
   "metadata": {
    "ExecuteTime": {
     "end_time": "2020-03-19T05:23:44.560423Z",
     "start_time": "2020-03-19T05:23:44.555471Z"
    }
   },
   "outputs": [
    {
     "data": {
      "text/plain": [
       "'WrapTheFunction'"
      ]
     },
     "execution_count": 5,
     "metadata": {},
     "output_type": "execute_result"
    }
   ],
   "source": [
    "a_function_requiring_decoration.__name__"
   ]
  },
  {
   "cell_type": "markdown",
   "metadata": {},
   "source": [
    "#### 使用@装饰器函数\n",
    "```\n",
    "@装饰器函数\n",
    "被包装函数()\n",
    "```\n",
    "==等价于执行==\n",
    "\n",
    "```\n",
    "新函数(name与被包装函数name一至) = 装饰器函数（被包装函数）\n",
    "\n",
    "```"
   ]
  },
  {
   "cell_type": "code",
   "execution_count": 3,
   "metadata": {
    "ExecuteTime": {
     "end_time": "2020-03-25T11:03:37.292438Z",
     "start_time": "2020-03-25T11:03:37.284452Z"
    }
   },
   "outputs": [
    {
     "name": "stdout",
     "output_type": "stream",
     "text": [
      "I am doing some boring work before executing a_function_requiring_decoration\n",
      "I am the function which needs some decoration to remove my foul smell\n",
      "I am doing some boring work after executing a_function_requiring_decoration\n"
     ]
    }
   ],
   "source": [
    "def a_new_decorator(func):\n",
    "    def WrapTheFunction():\n",
    "        print('I am doing some boring work before executing {}'.format(func.__name__))\n",
    "        func()\n",
    "        print('I am doing some boring work after executing {}'.format(func.__name__))\n",
    "        return\n",
    "    return WrapTheFunction\n",
    "@a_new_decorator\n",
    "def a_function_requiring_decoration():\n",
    "    print(\"I am the function which needs some decoration to remove my foul smell\")\n",
    "    \n",
    "a_function_requiring_decoration()\n",
    "#the @a_new_decorator is just a short way of saying: a_function_requiring_decoration = a_new_decorator(a_function_requiring_decoration)"
   ]
  },
  {
   "cell_type": "code",
   "execution_count": 8,
   "metadata": {
    "ExecuteTime": {
     "end_time": "2020-03-19T05:45:27.684555Z",
     "start_time": "2020-03-19T05:45:27.678513Z"
    }
   },
   "outputs": [
    {
     "data": {
      "text/plain": [
       "'WrapTheFunction'"
      ]
     },
     "execution_count": 8,
     "metadata": {},
     "output_type": "execute_result"
    }
   ],
   "source": [
    "a_function_requiring_decoration.__name__"
   ]
  },
  {
   "cell_type": "markdown",
   "metadata": {},
   "source": [
    "#### Problem\n",
    "\n",
    "1. 改变了原有函数的__name__等；\n",
    "2. 针对被包装函数需要传参的情况没有考虑"
   ]
  },
  {
   "cell_type": "markdown",
   "metadata": {},
   "source": [
    "## 针对保留原有函数的名字和注释文档做出的修改\n",
    "\n",
    "@functools.wraps(func)，这是python提供的装饰器。它能把原函数的元信息拷贝到装饰器里面的 func 函数中。函数的元信息包括docstring、name、参数列表等等。"
   ]
  },
  {
   "cell_type": "code",
   "execution_count": 10,
   "metadata": {
    "ExecuteTime": {
     "end_time": "2020-03-19T05:50:16.368467Z",
     "start_time": "2020-03-19T05:50:16.361466Z"
    }
   },
   "outputs": [
    {
     "data": {
      "text/plain": [
       "'a_function_requiring_decoration'"
      ]
     },
     "execution_count": 10,
     "metadata": {},
     "output_type": "execute_result"
    }
   ],
   "source": [
    "from functools import wraps\n",
    "\n",
    "def a_new_decorator(func):\n",
    "    @wraps(func)\n",
    "    def wrapTheFunction():\n",
    "        print('I am doing some boring work before executing {}'.format(func.__name__))\n",
    "        func()\n",
    "        print('I am doing some boring work after executing {}'.format(func.__name__))\n",
    "        return\n",
    "    return wrapTheFunction\n",
    "\n",
    "@a_new_decorator\n",
    "def a_function_requiring_decoration():\n",
    "    print(\"I am the function which needs some decoration to remove my foul smell\")\n",
    "    \n",
    "a_function_requiring_decoration.__name__"
   ]
  },
  {
   "cell_type": "markdown",
   "metadata": {},
   "source": [
    "functools.wraps和update_wrapper有什么区别:\n",
    "1. [中文](https://www.coder.work/article/341384)\n",
    "2. [英文](https://stackoverflow.com/questions/15357776/what-is-the-difference-between-functools-wraps-and-update-wrapper)"
   ]
  },
  {
   "cell_type": "markdown",
   "metadata": {},
   "source": [
    "## 针对被包装函数需要传参的修改"
   ]
  },
  {
   "cell_type": "markdown",
   "metadata": {},
   "source": [
    "**问题再现**"
   ]
  },
  {
   "cell_type": "code",
   "execution_count": 12,
   "metadata": {
    "ExecuteTime": {
     "end_time": "2020-03-19T06:01:41.575149Z",
     "start_time": "2020-03-19T06:01:41.548806Z"
    }
   },
   "outputs": [
    {
     "ename": "TypeError",
     "evalue": "wrapTheFunction() takes 0 positional arguments but 1 was given",
     "output_type": "error",
     "traceback": [
      "\u001b[1;31m---------------------------------------------------------------------------\u001b[0m",
      "\u001b[1;31mTypeError\u001b[0m                                 Traceback (most recent call last)",
      "\u001b[1;32m<ipython-input-12-552417502506>\u001b[0m in \u001b[0;36m<module>\u001b[1;34m\u001b[0m\n\u001b[0;32m     15\u001b[0m     \u001b[0mprint\u001b[0m\u001b[1;33m(\u001b[0m\u001b[0ma\u001b[0m\u001b[1;33m)\u001b[0m\u001b[1;33m\u001b[0m\u001b[1;33m\u001b[0m\u001b[0m\n\u001b[0;32m     16\u001b[0m \u001b[1;33m\u001b[0m\u001b[0m\n\u001b[1;32m---> 17\u001b[1;33m \u001b[0ma_function_requiring_decoration\u001b[0m\u001b[1;33m(\u001b[0m\u001b[1;34m'haha'\u001b[0m\u001b[1;33m)\u001b[0m\u001b[1;33m\u001b[0m\u001b[1;33m\u001b[0m\u001b[0m\n\u001b[0m",
      "\u001b[1;31mTypeError\u001b[0m: wrapTheFunction() takes 0 positional arguments but 1 was given"
     ]
    }
   ],
   "source": [
    "from functools import wraps\n",
    "\n",
    "def a_new_decorator(func):\n",
    "    @wraps(func)\n",
    "    def wrapTheFunction():\n",
    "        print('I am doing some boring work before executing {}'.format(func.__name__))\n",
    "        func()\n",
    "        print('I am doing some boring work after executing {}'.format(func.__name__))\n",
    "        return\n",
    "    return wrapTheFunction\n",
    "\n",
    "@a_new_decorator\n",
    "def a_function_requiring_decoration(a):\n",
    "    print(\"I am the function which needs some decoration to remove my foul smell\")\n",
    "    print(a)\n",
    "    \n",
    "a_function_requiring_decoration('haha')"
   ]
  },
  {
   "cell_type": "markdown",
   "metadata": {},
   "source": [
    "**解决方法**"
   ]
  },
  {
   "cell_type": "code",
   "execution_count": 46,
   "metadata": {
    "ExecuteTime": {
     "end_time": "2020-03-25T08:45:57.845950Z",
     "start_time": "2020-03-25T08:45:57.836456Z"
    }
   },
   "outputs": [
    {
     "name": "stdout",
     "output_type": "stream",
     "text": [
      "I am doing some boring work before executing a_function_requiring_decoration\n",
      "I am the function which needs some decoration to remove my foul smell\n",
      "haha\n",
      "I am doing some boring work after executing a_function_requiring_decoration\n"
     ]
    }
   ],
   "source": [
    "from functools import wraps\n",
    "\n",
    "def a_new_decorator(func):\n",
    "    @wraps(func)\n",
    "    def wrapTheFunction(*args, **kwargs):\n",
    "        print('I am doing some boring work before executing {}'.format(func.__name__))\n",
    "        func(*args, **kwargs)\n",
    "        print('I am doing some boring work after executing {}'.format(func.__name__))\n",
    "        return\n",
    "    return wrapTheFunction\n",
    "\n",
    "@a_new_decorator\n",
    "def a_function_requiring_decoration(a):\n",
    "    print(\"I am the function which needs some decoration to remove my foul smell\")\n",
    "    print(a)\n",
    "a_function_requiring_decoration('haha')"
   ]
  },
  {
   "cell_type": "markdown",
   "metadata": {},
   "source": [
    "**`a_function_requiring_decoration('haha')`相当于`wrapTheFunction('haha')`,因为a_new_decorator return的是`wrapTheFunction`**"
   ]
  },
  {
   "cell_type": "markdown",
   "metadata": {},
   "source": [
    "## 带参数的装饰器——在原来装饰器上再嵌套一个函数即可"
   ]
  },
  {
   "cell_type": "code",
   "execution_count": 19,
   "metadata": {
    "ExecuteTime": {
     "end_time": "2020-03-19T06:22:42.853855Z",
     "start_time": "2020-03-19T06:22:42.848819Z"
    }
   },
   "outputs": [],
   "source": [
    "from functools import wraps\n",
    "\n",
    "def log_with_param(text):\n",
    "    def decorator(func):\n",
    "        @wraps(func)\n",
    "        def wrapper(*args, **kwargs):\n",
    "            print('call {}'.format(func.__name__))\n",
    "            print('args = {}'.format(*args))\n",
    "            print('log_param = {}'.format(text))\n",
    "            return func(*args, **kwargs)\n",
    "        return wrapper\n",
    "    return decorator"
   ]
  },
  {
   "cell_type": "code",
   "execution_count": 14,
   "metadata": {
    "ExecuteTime": {
     "end_time": "2020-03-19T06:19:55.344261Z",
     "start_time": "2020-03-19T06:19:55.338252Z"
    }
   },
   "outputs": [
    {
     "name": "stdout",
     "output_type": "stream",
     "text": [
      "call test_with_param\n",
      "args = haha\n",
      "log_param = param\n",
      "test_with_param\n"
     ]
    }
   ],
   "source": [
    "@log_with_param(\"param\")\n",
    "def test_with_param(a):\n",
    "    print(test_with_param.__name__)\n",
    "test_with_param('haha')"
   ]
  },
  {
   "cell_type": "markdown",
   "metadata": {},
   "source": [
    "**相当于执行：**"
   ]
  },
  {
   "cell_type": "code",
   "execution_count": 20,
   "metadata": {
    "ExecuteTime": {
     "end_time": "2020-03-19T06:22:45.309649Z",
     "start_time": "2020-03-19T06:22:45.305651Z"
    }
   },
   "outputs": [
    {
     "name": "stdout",
     "output_type": "stream",
     "text": [
      "call test_with_param\n",
      "args = haha\n",
      "log_param = param\n",
      "test_with_param\n"
     ]
    }
   ],
   "source": [
    "def test_with_param(a):\n",
    "    print(test_with_param.__name__)\n",
    "    \n",
    "# 传入装饰器的参数，并接收返回的decorator函数\n",
    "decorator = log_with_param(\"param\")\n",
    "# 传入test_with_param函数\n",
    "wrapper = decorator(test_with_param)\n",
    "# 调用装饰器函数\n",
    "wrapper(\"haha\")"
   ]
  },
  {
   "cell_type": "markdown",
   "metadata": {},
   "source": [
    "## 装饰器类——比嵌套函数的方式更加整洁\n",
    "\n",
    "装饰器不仅可以是函数，还可以是类，相比函数装饰器，类装饰器具有灵活度大、高内聚、封装性等优点。使用类装饰器主要依靠类的\\_\\_call\\_\\_方法，当使用 @ 形式将装饰器附加到函数上时，就会调用此方法。\n",
    "\n",
    "使用类装饰器可以直接依靠类内部的\\_\\_call\\_\\_方法来实现，当使用 @ 形式将类装饰器附加到函数上时，就会调用类装饰器的\\_\\_call\\_\\_方法。而不需要向函数装饰器那样，在装饰器函数中定义嵌套函数，来实现装饰功能。"
   ]
  },
  {
   "cell_type": "code",
   "execution_count": null,
   "metadata": {},
   "outputs": [],
   "source": [
    "\n",
    "\n"
   ]
  },
  {
   "cell_type": "code",
   "execution_count": 37,
   "metadata": {
    "ExecuteTime": {
     "end_time": "2020-03-19T07:14:01.638869Z",
     "start_time": "2020-03-19T07:13:59.115479Z"
    }
   },
   "outputs": [
    {
     "name": "stdout",
     "output_type": "stream",
     "text": [
      "bar函数的执行时间为：\n",
      "花费了 2.52\n"
     ]
    }
   ],
   "source": [
    "from functools import wraps\n",
    "import time\n",
    "\n",
    "class Foo():\n",
    "    def __init__(self, func):    # 初始化函数中传入函数对象的参数\n",
    "        wraps(func)(self)\n",
    "        #self._func = func\n",
    "    def __call__(self,*args, **kwargs):    # 定义__call__方法，直接实现装饰功能\n",
    "        start_time = time.time()\n",
    "        #self._func()\n",
    "        self.__wrapped__(*args, **kwargs)\n",
    "        end_time = time.time()\n",
    "        print('花费了 %.2f' % (end_time - start_time))\n",
    " \n",
    "@Foo  # bar=Foo(bar)\n",
    "def bar():\n",
    "    print('bar函数的执行时间为：')\n",
    "    time.sleep(2.5) \n",
    "    \n",
    "bar()    # bar=Foo(bar)()，没有嵌套关系了,直接执行Foo的 __call__方法，实现装饰功能   \n"
   ]
  },
  {
   "cell_type": "markdown",
   "metadata": {},
   "source": [
    "## 装饰器顺序\n",
    "```\n",
    "@a\n",
    "@b\n",
    "@c\n",
    "def f ():\n",
    "    pass\n",
    "```\n",
    "它的执行顺序是从里到外，最先调用最里层的装饰器，最后调用最外层的装饰器，它等效于\n",
    "\n",
    "    f = a(b(c(f)))"
   ]
  },
  {
   "cell_type": "code",
   "execution_count": 26,
   "metadata": {
    "ExecuteTime": {
     "end_time": "2020-03-26T05:45:28.523725Z",
     "start_time": "2020-03-26T05:45:28.506679Z"
    }
   },
   "outputs": [
    {
     "ename": "TypeError",
     "evalue": "'_IffHasAttrDescriptor' object is not callable",
     "output_type": "error",
     "traceback": [
      "\u001b[1;31m---------------------------------------------------------------------------\u001b[0m",
      "\u001b[1;31mTypeError\u001b[0m                                 Traceback (most recent call last)",
      "\u001b[1;32m<ipython-input-26-b29b20346b9f>\u001b[0m in \u001b[0;36m<module>\u001b[1;34m\u001b[0m\n\u001b[0;32m     36\u001b[0m     \"\"\"\n\u001b[0;32m     37\u001b[0m \u001b[0mgy\u001b[0m \u001b[1;33m=\u001b[0m \u001b[0mGY\u001b[0m\u001b[1;33m(\u001b[0m\u001b[1;33m)\u001b[0m\u001b[1;33m\u001b[0m\u001b[1;33m\u001b[0m\u001b[0m\n\u001b[1;32m---> 38\u001b[1;33m \u001b[0mpredict_proba\u001b[0m\u001b[1;33m(\u001b[0m\u001b[1;36m1\u001b[0m\u001b[1;33m)\u001b[0m\u001b[1;33m\u001b[0m\u001b[1;33m\u001b[0m\u001b[0m\n\u001b[0m",
      "\u001b[1;31mTypeError\u001b[0m: '_IffHasAttrDescriptor' object is not callable"
     ]
    }
   ],
   "source": [
    "from functools import update_wrapper\n",
    "from operator import attrgetter\n",
    "class _IffHasAttrDescriptor:\n",
    "    def __init__(self, fn, delegate_names, attribute_name):\n",
    "        self.fn = fn\n",
    "        self.delegate_names = delegate_names\n",
    "        self.attribute_name = attribute_name\n",
    "        # update the docstring of the descriptor\n",
    "        update_wrapper(self, fn)\n",
    "\n",
    "    def __get__(self, obj, type=None):\n",
    "        print(obj)\n",
    "        # lambda, but not partial, allows help() to work with update_wrapper\n",
    "        out = lambda *args, **kwargs: self.fn(obj, *args, **kwargs)\n",
    "        # update the docstring of the returned function\n",
    "        print(out)\n",
    "        update_wrapper(out, self.fn)\n",
    "        print(out)\n",
    "        return out\n",
    "def if_delegate_has_method(delegate):\n",
    "    if isinstance(delegate, list):\n",
    "        delegate = tuple(delegate)\n",
    "    if not isinstance(delegate, tuple):\n",
    "        delegate = (delegate,)\n",
    "    return lambda fn: _IffHasAttrDescriptor(fn, delegate,\n",
    "                                            attribute_name=fn.__name__)\n",
    "class GY():\n",
    "    \n",
    "    @if_delegate_has_method(delegate='final_estimator_')\n",
    "    def predict_proba(self,a):\n",
    "        print(a)\n",
    "    \n",
    "gy = GY()\n",
    "gy.predict_proba(1)"
   ]
  },
  {
   "cell_type": "code",
   "execution_count": 24,
   "metadata": {
    "ExecuteTime": {
     "end_time": "2020-03-26T05:44:16.111829Z",
     "start_time": "2020-03-26T05:44:16.107825Z"
    }
   },
   "outputs": [],
   "source": [
    "out = lambda *args, **kwargs: gy.predict_proba( *args, **kwargs)"
   ]
  },
  {
   "cell_type": "markdown",
   "metadata": {},
   "source": [
    "## 参考文档\n",
    "\n",
    "1. https://www.runoob.com/w3cnote/python-func-decorators.html\n",
    "2. https://www.jianshu.com/p/ee82b941772a\n",
    "3. https://python3-cookbook.readthedocs.io/zh_CN/latest/c09/p10_apply_decorators_to_class_and_static_methods.html\n",
    "4. (类装饰器最简单讲解)[https://www.cnblogs.com/wgbo/archive/2018/11/13/9953446.html]"
   ]
  },
  {
   "cell_type": "markdown",
   "metadata": {
    "ExecuteTime": {
     "end_time": "2020-03-19T02:55:33.037406Z",
     "start_time": "2020-03-19T02:55:33.030455Z"
    }
   },
   "source": [
    "装饰器这一语法体现了Python中函数是第一公民，函数是对象、是变量，可以作为参数、可以是返回值，非常的灵活与强大。"
   ]
  },
  {
   "cell_type": "markdown",
   "metadata": {},
   "source": [
    "## 常用的装饰器"
   ]
  },
  {
   "cell_type": "markdown",
   "metadata": {},
   "source": [
    "### @abstractmethod——抽象方法\n",
    "\n",
    "1. 抽象方法表示基类的一个方法，没有实现，所以**基类不能实例化**，**子类实现了该抽象方法才能被实例化**。Python的abc提供了@abstractmethod装饰器实现抽象方法\n",
    "2. 在Python3.4中，声明抽象基类最简单的方式是子类话abc.ABC；Python3.0到Python3.3，必须在class语句中使用metaclass=ABCMeta；Python2中使用\\_\\_metaclass\\_\\_=ABCMeta"
   ]
  },
  {
   "cell_type": "markdown",
   "metadata": {},
   "source": [
    "没有继承ABC或者ABCMeta："
   ]
  },
  {
   "cell_type": "code",
   "execution_count": 39,
   "metadata": {
    "ExecuteTime": {
     "end_time": "2020-03-25T07:06:35.326287Z",
     "start_time": "2020-03-25T07:06:35.312317Z"
    }
   },
   "outputs": [],
   "source": [
    "from abc import ABCMeta,abstractmethod\n",
    "\n",
    "class AbstractClass(object):\n",
    "    # the metaclass attribute must always be set as a class variable\n",
    "\n",
    "   # the abstractmethod decorator registers this method as undefined\n",
    "   @abstractmethod\n",
    "   def virtual_method_subclasses_must_define(self):\n",
    "       # Can be left completely blank, or a base implementation can be provided\n",
    "       # Note that ordinarily a blank interpretation implicitly returns `None`,\n",
    "       # but by registering, this behaviour is no longer enforced.\n",
    "       return\n",
    "class Subclass(AbstractClass):\n",
    "    def haha(self):\n",
    "        return\n",
    "sb = Subclass()"
   ]
  },
  {
   "cell_type": "markdown",
   "metadata": {},
   "source": [
    "继承ABC或者ABCMeta："
   ]
  },
  {
   "cell_type": "code",
   "execution_count": 30,
   "metadata": {
    "ExecuteTime": {
     "end_time": "2020-03-25T06:54:00.603727Z",
     "start_time": "2020-03-25T06:54:00.587657Z"
    }
   },
   "outputs": [
    {
     "ename": "TypeError",
     "evalue": "Can't instantiate abstract class AbstractClass with abstract methods virtual_method_subclasses_must_define",
     "output_type": "error",
     "traceback": [
      "\u001b[1;31m---------------------------------------------------------------------------\u001b[0m",
      "\u001b[1;31mTypeError\u001b[0m                                 Traceback (most recent call last)",
      "\u001b[1;32m<ipython-input-30-b16e25213f1b>\u001b[0m in \u001b[0;36m<module>\u001b[1;34m\u001b[0m\n\u001b[0;32m     14\u001b[0m     \u001b[1;32mdef\u001b[0m \u001b[0mha\u001b[0m\u001b[1;33m(\u001b[0m\u001b[0mself\u001b[0m\u001b[1;33m)\u001b[0m\u001b[1;33m:\u001b[0m\u001b[1;33m\u001b[0m\u001b[1;33m\u001b[0m\u001b[0m\n\u001b[0;32m     15\u001b[0m         \u001b[1;32mreturn\u001b[0m\u001b[1;33m\u001b[0m\u001b[1;33m\u001b[0m\u001b[0m\n\u001b[1;32m---> 16\u001b[1;33m \u001b[0msb\u001b[0m \u001b[1;33m=\u001b[0m \u001b[0mAbstractClass\u001b[0m\u001b[1;33m(\u001b[0m\u001b[1;33m)\u001b[0m\u001b[1;33m\u001b[0m\u001b[1;33m\u001b[0m\u001b[0m\n\u001b[0m",
      "\u001b[1;31mTypeError\u001b[0m: Can't instantiate abstract class AbstractClass with abstract methods virtual_method_subclasses_must_define"
     ]
    }
   ],
   "source": [
    "from abc import ABCMeta,abstractmethod\n",
    "\n",
    "class AbstractClass(object,metaclass=ABCMeta):\n",
    "    # the metaclass attribute must always be set as a class variable\n",
    "\n",
    "   # the abstractmethod decorator registers this method as undefined\n",
    "   @abstractmethod\n",
    "   def virtual_method_subclasses_must_define(self):\n",
    "       # Can be left completely blank, or a base implementation can be provided\n",
    "       # Note that ordinarily a blank interpretation implicitly returns `None`,\n",
    "       # but by registering, this behaviour is no longer enforced.\n",
    "       return\n",
    "class Subclass(AbstractClass):\n",
    "    def ha(self):\n",
    "        return\n",
    "sb = AbstractClass()"
   ]
  },
  {
   "cell_type": "code",
   "execution_count": 36,
   "metadata": {
    "ExecuteTime": {
     "end_time": "2020-03-25T06:55:22.674098Z",
     "start_time": "2020-03-25T06:55:22.670097Z"
    }
   },
   "outputs": [],
   "source": [
    "from abc import ABCMeta,abstractmethod\n",
    "\n",
    "class AbstractClass(object,metaclass=ABCMeta):\n",
    "    # the metaclass attribute must always be set as a class variable\n",
    "\n",
    "   # the abstractmethod decorator registers this method as undefined\n",
    "   @abstractmethod\n",
    "   def virtual_method_subclasses_must_define(self):\n",
    "       # Can be left completely blank, or a base implementation can be provided\n",
    "       # Note that ordinarily a blank interpretation implicitly returns `None`,\n",
    "       # but by registering, this behaviour is no longer enforced.\n",
    "       return\n",
    "class Subclass(AbstractClass):\n",
    "    def virtual_method_subclasses_must_define(self):\n",
    "        return\n",
    "sb = Subclass()"
   ]
  },
  {
   "cell_type": "markdown",
   "metadata": {},
   "source": [
    "#### metaclass=ABCMeta (python3)与 \\_\\_metaclass\\_\\_=ABCMeta (python2)的区别：\n",
    "参考：https://www.cnblogs.com/idontknowthisperson/p/10090012.html"
   ]
  },
  {
   "cell_type": "markdown",
   "metadata": {},
   "source": [
    "* **Python3.4 以上实现方法：**\n",
    "\n",
    "```python\n",
    "from abc import ABC, abstractmethod\n",
    "\n",
    "class Foo(ABC):\n",
    "    @abstractmethod\n",
    "    def fun(self):\n",
    "        '''please Implemente in subclass'''\n",
    "\n",
    "\n",
    "class SubFoo(Foo):\n",
    "    def fun(self):\n",
    "        print('fun in SubFoo')\n",
    "\n",
    "a = SubFoo()\n",
    "a.fun()\n",
    "```\n",
    "\n",
    "* **Python3 以上实现方法：**\n",
    "\n",
    "```python\n",
    "from abc import abstractmethod, ABCMeta\n",
    "\n",
    "class Bar(metaclass=ABCMeta):\n",
    "    @abstractmethod\n",
    "    def fun(self):\n",
    "        '''please Implemente in subclass'''\n",
    "\n",
    "\n",
    "class SubBar(Bar):\n",
    "    def fun(self):\n",
    "        print('fun in SubBar')\n",
    "\n",
    "\n",
    "b = SubBar()\n",
    "b.fun()\n",
    "```\n",
    "\n",
    "* **Python2 实现方法：**\n",
    "\n",
    "```python\n",
    "from abc import ABCMeta, abstractmethod\n",
    "\n",
    "\n",
    "class FooBar():\n",
    "    __metaclass__ = ABCMeta\n",
    "    @abstractmethod\n",
    "    def fun(self):\n",
    "         '''please Implemente in subclass'''\n",
    "       \n",
    "         \n",
    "class SubFooBar(FooBar):\n",
    "    def fun(self):\n",
    "        print('fun in SubFooBar')\n",
    "        \n",
    "a = SubFooBar()\n",
    "a.fun()\n",
    "```"
   ]
  },
  {
   "cell_type": "markdown",
   "metadata": {},
   "source": [
    "### @staticmethod——静态方法\n",
    "使用@staticmethod或@classmethod，就可以不需要实例化，直接类名.方法名()来调用。\n",
    "这有利于组织代码，把某些应该属于某个类的函数给放到那个类里去，同时有利于命名空间的整洁。\n",
    "\n",
    "* 静态方法是独立于类的一个单独函数，只是寄存在一个类名下。\n",
    "* @staticmethod不需要表示自身对象的self和自身类的cls参数，就跟使用函数一样。\n",
    "* 如果需要调用带self的方法，必须得先对类进行实例化。\n",
    "\n",
    "参考：https://blog.csdn.net/u010571844/article/details/50728991"
   ]
  },
  {
   "cell_type": "code",
   "execution_count": 42,
   "metadata": {
    "ExecuteTime": {
     "end_time": "2020-03-25T07:34:22.707681Z",
     "start_time": "2020-03-25T07:34:22.693755Z"
    }
   },
   "outputs": [
    {
     "name": "stdout",
     "output_type": "stream",
     "text": [
      "[2]say bad\n",
      "[3]Test.name:stephen\n",
      "[1]hello wrold\n"
     ]
    },
    {
     "ename": "NameError",
     "evalue": "name 'say_bad' is not defined",
     "output_type": "error",
     "traceback": [
      "\u001b[1;31m---------------------------------------------------------------------------\u001b[0m",
      "\u001b[1;31mNameError\u001b[0m                                 Traceback (most recent call last)",
      "\u001b[1;32m<ipython-input-42-b16b5cec2ad7>\u001b[0m in \u001b[0;36m<module>\u001b[1;34m\u001b[0m\n\u001b[0;32m     23\u001b[0m         \u001b[0mcls\u001b[0m\u001b[1;33m(\u001b[0m\u001b[1;33m)\u001b[0m\u001b[1;33m.\u001b[0m\u001b[0msay_hi\u001b[0m\u001b[1;33m(\u001b[0m\u001b[1;33m)\u001b[0m  \u001b[1;31m#先要实例化，才能调用say_hi()\u001b[0m\u001b[1;33m\u001b[0m\u001b[1;33m\u001b[0m\u001b[0m\n\u001b[0;32m     24\u001b[0m \u001b[0mTest\u001b[0m\u001b[1;33m.\u001b[0m\u001b[0msay_bad\u001b[0m\u001b[1;33m(\u001b[0m\u001b[1;33m)\u001b[0m\u001b[1;33m\u001b[0m\u001b[1;33m\u001b[0m\u001b[0m\n\u001b[1;32m---> 25\u001b[1;33m \u001b[0msay_bad\u001b[0m\u001b[1;33m(\u001b[0m\u001b[1;33m)\u001b[0m\u001b[1;33m\u001b[0m\u001b[1;33m\u001b[0m\u001b[0m\n\u001b[0m",
      "\u001b[1;31mNameError\u001b[0m: name 'say_bad' is not defined"
     ]
    }
   ],
   "source": [
    "class Test(object):\n",
    "    name = 'stephen'\n",
    "\n",
    "    \"\"\"docstring for Test\"\"\"\n",
    "    def __init__(self, arg=None):\n",
    "        super(Test, self).__init__()\n",
    "        self.arg = arg\n",
    "\n",
    "    def say_hi(self):\n",
    "        print('[1]hello wrold')\n",
    "\n",
    "    @staticmethod\n",
    "    def say_bad():\n",
    "        print('[2]say bad')\n",
    "        print('[3]Test.name:%s'%Test.name)  # 不需要实例化\n",
    "        Test().say_hi() # 先要实例化，才能调用say_hi()\n",
    "\n",
    "    @classmethod\n",
    "    def say_good(cls):\n",
    "        print('[4]say good')\n",
    "        print( '[5]cls.name:%s'%cls.name) # 不需要实例化\n",
    "        cls.say_bad() #不需要实例化\n",
    "        cls().say_hi()  #先要实例化，才能调用say_hi()\n",
    "        \n",
    "Test.say_bad() # OK\n",
    "say_bad() # NameError"
   ]
  },
  {
   "cell_type": "markdown",
   "metadata": {},
   "source": [
    "### @classmethod——类方法\n",
    "使用@staticmethod或@classmethod，就可以不需要实例化，直接类名.方法名()来调用。\n",
    "这有利于组织代码，把某些应该属于某个类的函数给放到那个类里去，同时有利于命名空间的整洁。\n",
    "\n",
    "* 类方法是将类本身作为操作对象，可以用过类属性的一些初始化操作。\n",
    "* @classmethod也不需要self参数，但第一个参数需要是表示自身类的cls参数。\n",
    "* @classmethod因为持有cls参数，可以来调用类的属性，类的方法，实例化对象等，避免硬编码。\n",
    "* 如果需要调用带self的方法，必须得先对类进行实例化。\n",
    "* 该函数只能访问到类的数据属性，不能获取实例的数据属性\n",
    "\n",
    "参考：https://blog.csdn.net/u010571844/article/details/50728991"
   ]
  },
  {
   "cell_type": "code",
   "execution_count": 43,
   "metadata": {
    "ExecuteTime": {
     "end_time": "2020-03-25T07:36:25.012118Z",
     "start_time": "2020-03-25T07:36:25.006393Z"
    }
   },
   "outputs": [
    {
     "name": "stdout",
     "output_type": "stream",
     "text": [
      "[4]say good\n",
      "[5]cls.name:stephen\n",
      "[2]say bad\n",
      "[3]Test.name:stephen\n",
      "[1]hello wrold\n",
      "[1]hello wrold\n"
     ]
    }
   ],
   "source": [
    "class Test(object):\n",
    "    name = 'stephen'\n",
    "\n",
    "    \"\"\"docstring for Test\"\"\"\n",
    "    def __init__(self, arg=None):\n",
    "        super(Test, self).__init__()\n",
    "        self.arg = arg\n",
    "\n",
    "    def say_hi(self):\n",
    "        print('[1]hello wrold')\n",
    "\n",
    "    @staticmethod\n",
    "    def say_bad():\n",
    "        print('[2]say bad')\n",
    "        print('[3]Test.name:%s'%Test.name)  # 不需要实例化\n",
    "        Test().say_hi() # 先要实例化，才能调用say_hi()\n",
    "\n",
    "    @classmethod\n",
    "    def say_good(cls):\n",
    "        print('[4]say good')\n",
    "        print( '[5]cls.name:%s'%cls.name) # 不需要实例化,可以直接访问类属性\n",
    "        cls.say_bad() #不需要实例化，可以直接访问类方法\n",
    "        cls().say_hi()  #先要实例化，才能调用say_hi()\n",
    "Test.say_good()\n",
    "\n"
   ]
  },
  {
   "cell_type": "code",
   "execution_count": 44,
   "metadata": {
    "ExecuteTime": {
     "end_time": "2020-03-25T07:42:24.170068Z",
     "start_time": "2020-03-25T07:42:24.165126Z"
    }
   },
   "outputs": [
    {
     "name": "stdout",
     "output_type": "stream",
     "text": [
      "[4]say good\n",
      "[5]cls.name:stephen\n",
      "[2]say bad\n",
      "[3]Test.name:stephen\n",
      "[1]hello wrold\n",
      "[1]hello wrold\n"
     ]
    }
   ],
   "source": [
    "gy = Test('haha')\n",
    "gy.say_good()"
   ]
  },
  {
   "cell_type": "markdown",
   "metadata": {},
   "source": [
    "注：从源码角度来理解静态方法和类方法\n",
    "\n",
    "* 静态方法相当于不自动传入实例对象作为方法的第一个参数，类方法相当于将默认传入的第一个参数由实例改为类\n",
    "* 使用@classmethod后无论类调用还是实例调用，都会自动转入类作为第一个参数，不用手动传入就可以调用类属性，而没有@classmethod的需要手动传入类\n",
    "* 既不用@classmethod也不用@staticmethod则类调用时不会自动传入参数，实例调用时自动传入实例作为第一个参数\n",
    "* 所以说加@classmethod是为了更方便调用类属性，加@staticmethod是为了防止自动传入的实例的干扰\n",
    "* 除此之外要说明一点：当属性和方法重名时，调用会自动访问属性，是因为这些方法调用的描述器都是非资料描述器。而当我们使用@property装饰器后，自动调用的就是新定义的get set方法，是因为@property装饰器是资料描述器"
   ]
  },
  {
   "cell_type": "markdown",
   "metadata": {},
   "source": [
    "### @property——见本文档1.1.7"
   ]
  },
  {
   "cell_type": "markdown",
   "metadata": {},
   "source": [
    "### @deprecated——弃用类/函数的说明"
   ]
  },
  {
   "cell_type": "code",
   "execution_count": 3,
   "metadata": {
    "ExecuteTime": {
     "end_time": "2020-04-01T03:34:40.317585Z",
     "start_time": "2020-04-01T03:34:40.312622Z"
    }
   },
   "outputs": [
    {
     "name": "stderr",
     "output_type": "stream",
     "text": [
      "D:\\1-Anaconda3\\envs\\tf2.0\\lib\\site-packages\\sklearn\\utils\\deprecation.py:87: FutureWarning: Function some_function is deprecated; 操你妈\n",
      "  warnings.warn(msg, category=FutureWarning)\n"
     ]
    }
   ],
   "source": [
    "from sklearn.utils import deprecated\n",
    "\n",
    "@deprecated(\"操你妈\")\n",
    "def some_function(): \n",
    "    pass\n",
    "\n",
    "some_function()"
   ]
  },
  {
   "cell_type": "code",
   "execution_count": null,
   "metadata": {},
   "outputs": [],
   "source": []
  },
  {
   "cell_type": "code",
   "execution_count": null,
   "metadata": {},
   "outputs": [],
   "source": []
  },
  {
   "cell_type": "markdown",
   "metadata": {},
   "source": [
    "# 描述器\n",
    "\n",
    "参考：\n",
    "1. [Python描述器详解](https://www.cnblogs.com/JetpropelledSnake/p/8953988.html)"
   ]
  },
  {
   "cell_type": "markdown",
   "metadata": {},
   "source": [
    "## 引入描述器的原因\n",
    "\n",
    "我们可以用@property装饰器将方法包装成属性，这样的属性，相比于其他属性有一个优点就是可以在对属性赋值时，进行变量检查，当我们有很多这样的属性时，如果每一个都去使用@property，代码就会过于冗余。因为每一次检验的方法都是一样的，所以最好有方法可以批量实现这件事，只写一次if isinstance。描述器就可以用来实现这件事。"
   ]
  },
  {
   "cell_type": "code",
   "execution_count": 27,
   "metadata": {
    "ExecuteTime": {
     "end_time": "2020-03-26T07:04:08.972088Z",
     "start_time": "2020-03-26T07:04:08.943087Z"
    }
   },
   "outputs": [],
   "source": [
    "class A:\n",
    "    def __init__(self, name, score, age):\n",
    "        self.name = name # 普通属性\n",
    "        self._score = score\n",
    "        self._age = age\n",
    "        \n",
    "    @property\n",
    "    def score(self):\n",
    "        return self._score\n",
    "    \n",
    "    @score.setter\n",
    "    def score(self, value):\n",
    "        print('setting score here')\n",
    "        if isinstance(value, int):\n",
    "            self._score = value\n",
    "        else:\n",
    "            print('please input an int')\n",
    "            \n",
    "    @property\n",
    "    def age(self):\n",
    "        return self._age\n",
    "    \n",
    "    @age.setter\n",
    "    def age(self, value):\n",
    "        print('setting age here')\n",
    "        if isinstance(value, int):\n",
    "            self._age = value\n",
    "        else:\n",
    "            print('please input an int')\n",
    "            \n",
    "a = A('Bob', 90, 20)"
   ]
  },
  {
   "cell_type": "markdown",
   "metadata": {},
   "source": [
    "## 描述器基本理论及简单实例\n",
    "描述器功能强大，应用广泛，它可以控制我们访问属性、方法的行为，是**@property、super、静态方法、类方法、甚至属性、实例**背后的实现机制，是一种比较底层的设计，因此理解起来也会有一些困难。\n",
    "\n",
    "定义：从描述器的创建来说，一个类中定义了\\_\\_get\\_\\_、\\_\\_set\\_\\_、\\_\\_delete\\_\\_中的一个或几个，这个类的实例就可以叫做一个描述器。"
   ]
  },
  {
   "cell_type": "markdown",
   "metadata": {},
   "source": [
    "**创建一个描述器的类，它的实例就是一个描述器,这种类是当做工具使用的，不单独使用:**"
   ]
  },
  {
   "cell_type": "code",
   "execution_count": 42,
   "metadata": {
    "ExecuteTime": {
     "end_time": "2020-03-26T07:17:33.688974Z",
     "start_time": "2020-03-26T07:17:33.682972Z"
    }
   },
   "outputs": [
    {
     "name": "stdout",
     "output_type": "stream",
     "text": [
      "M instance x = 3\n"
     ]
    }
   ],
   "source": [
    "class M:\n",
    "    def __init__(self, x=1):\n",
    "        print('M instance x = {}'.format(x))\n",
    "        self.x = x\n",
    "        \n",
    "    def __get__(self, instance, owner):\n",
    "        \"\"\" 访问描述器类的实例——即描述器的话，自动触发描述器的__get__方法\n",
    "        instance：调用描述器的类的实例\n",
    "        owner：调用描述器的类\n",
    "        \"\"\"\n",
    "        print(instance)\n",
    "        print(owner)\n",
    "        return self.x\n",
    "    \n",
    "    def __set__(self, instance, value):\n",
    "        \"\"\"修改设置描述器的话，就自动触发描述器的__set__方法        \n",
    "        instance：调用描述器的类的实例\n",
    "        valuea: \n",
    "        \"\"\"\n",
    "        print(instance)\n",
    "        self.x = value\n",
    "        \n",
    "# 调用描述器的类\n",
    "class AA:\n",
    "    m = M(3) # m就是一个描述器\n",
    "    \n",
    "\n"
   ]
  },
  {
   "cell_type": "code",
   "execution_count": 43,
   "metadata": {
    "ExecuteTime": {
     "end_time": "2020-03-26T07:17:34.451417Z",
     "start_time": "2020-03-26T07:17:34.433994Z"
    }
   },
   "outputs": [
    {
     "name": "stdout",
     "output_type": "stream",
     "text": [
      "<__main__.AA object at 0x00000246870D8888>\n",
      "<class '__main__.AA'>\n"
     ]
    },
    {
     "data": {
      "text/plain": [
       "3"
      ]
     },
     "execution_count": 43,
     "metadata": {},
     "output_type": "execute_result"
    },
    {
     "name": "stdout",
     "output_type": "stream",
     "text": [
      "<__main__.AA object at 0x00000246870D8888>\n",
      "<__main__.AA object at 0x00000246870D8888>\n",
      "<class '__main__.AA'>\n"
     ]
    },
    {
     "data": {
      "text/plain": [
       "2"
      ]
     },
     "execution_count": 43,
     "metadata": {},
     "output_type": "execute_result"
    }
   ],
   "source": [
    "aa = AA()\n",
    "aa.m # 1 #触发了__get__方法\n",
    "aa.m = 2 #触发了__set__方法\n",
    "aa.m # 2"
   ]
  },
  {
   "cell_type": "markdown",
   "metadata": {},
   "source": [
    "下面我们来说一下，当我们调用aa.m时的访问顺序：\n",
    "\n",
    "* 程序会先查找 aa.\\_\\_dict\\_\\_['m'] 是否存在\n",
    "* 不存在再到type(aa).\\_\\_dict\\_\\_['m']中查找\n",
    "* 然后找type(aa)的父类\n",
    "* 期间找到的是普通值就输出，如果找到的是一个描述器，则调用\\_\\_get\\_\\_方法"
   ]
  },
  {
   "cell_type": "markdown",
   "metadata": {},
   "source": [
    "进一步思考：当访问一个属性时，我们可以不直接给一个值，而是接一个描述器，让访问和修改设置时自动调用\\_\\_get\\_\\_方法和\\_\\_set\\_\\_方法。再在\\_\\_get\\_\\_方法和\\_\\_set\\_\\_方法中进行某种处理，就可以实现更改操作属性行为的目的。这就是描述器做的事情。"
   ]
  },
  {
   "cell_type": "markdown",
   "metadata": {},
   "source": [
    "## \\_\\_get\\_\\_和\\_\\_set\\_\\_方法中的参数解释\n",
    "\n",
    "* `descr.__get__(self, obj, type=None) --> value`\n",
    "* `descr.__set__(self, obj, value) --> None`\n",
    "* `descr.__delete__(self, obj) --> None `\n",
    "\n",
    "\n",
    "* self是描述器类中的实例\n",
    "* obj是调用描述器的类的实例\n",
    "* type是调用描述器的类\n",
    "* value是对这个属性赋值时传入的值"
   ]
  },
  {
   "cell_type": "code",
   "execution_count": null,
   "metadata": {},
   "outputs": [],
   "source": [
    "class M:\n",
    "    def __init__(self, name):\n",
    "        self.name = name\n",
    "        \n",
    "    def __get__(self, obj, type):\n",
    "        print('get第一个参数self: ', self.name)\n",
    "        print('get第二个参数obj: ', obj.age)\n",
    "        print('get第三个参数type: ', type.name)\n",
    "        \n",
    "    def __set__(self, obj, value):\n",
    "        obj.__dict__[self.name] = value\n",
    "        \n",
    "class A:\n",
    "    name = 'Bob'\n",
    "    m = M('age')\n",
    "    def __init__(self, age):\n",
    "        self.age = age\n",
    "\n",
    "a = A(20) # age是20\n",
    "a.m\n",
    "# get第一个参数self:  age\n",
    "# get第二个参数obj:  20\n",
    "# get第三个参数type:  Bob\n",
    "a.m = 30\n",
    "a.age # 30"
   ]
  },
  {
   "cell_type": "markdown",
   "metadata": {},
   "source": [
    "## 描述器的调用机制"
   ]
  },
  {
   "cell_type": "markdown",
   "metadata": {},
   "source": [
    "### 实例属性的查找过程——__dict__方法\n",
    "\n",
    "__dict__方法返回的是一个字典，类和实例都可以调用__dict__，键就是类或实例所拥有的属性、方法，可以用这个字典访问属性，但是方法就不能这样直接访问。"
   ]
  },
  {
   "cell_type": "code",
   "execution_count": 4,
   "metadata": {
    "ExecuteTime": {
     "end_time": "2020-03-26T12:05:04.748591Z",
     "start_time": "2020-03-26T12:05:04.632865Z"
    }
   },
   "outputs": [
    {
     "name": "stdout",
     "output_type": "stream",
     "text": [
      "{'y': 2}\n",
      "{'__module__': '__main__', 'x': 1, '__init__': <function C.__init__ at 0x00000151D52A0168>, 'fun': <function C.fun at 0x00000151D52A01F8>, '__dict__': <attribute '__dict__' of 'C' objects>, '__weakref__': <attribute '__weakref__' of 'C' objects>, '__doc__': None}\n",
      "{'__module__': '__main__', 'x': 1, '__init__': <function C.__init__ at 0x00000151D52A0168>, 'fun': <function C.fun at 0x00000151D52A01F8>, '__dict__': <attribute '__dict__' of 'C' objects>, '__weakref__': <attribute '__weakref__' of 'C' objects>, '__doc__': None}\n",
      "2\n"
     ]
    },
    {
     "data": {
      "text/plain": [
       "2"
      ]
     },
     "execution_count": 4,
     "metadata": {},
     "output_type": "execute_result"
    },
    {
     "ename": "TypeError",
     "evalue": "fun() missing 1 required positional argument: 'self'",
     "output_type": "error",
     "traceback": [
      "\u001b[1;31m---------------------------------------------------------------------------\u001b[0m",
      "\u001b[1;31mTypeError\u001b[0m                                 Traceback (most recent call last)",
      "\u001b[1;32m<ipython-input-4-5889ea99d7ec>\u001b[0m in \u001b[0;36m<module>\u001b[1;34m\u001b[0m\n\u001b[0;32m     20\u001b[0m \u001b[1;33m\u001b[0m\u001b[0m\n\u001b[0;32m     21\u001b[0m \u001b[1;31m# 调用方法\u001b[0m\u001b[1;33m\u001b[0m\u001b[1;33m\u001b[0m\u001b[1;33m\u001b[0m\u001b[0m\n\u001b[1;32m---> 22\u001b[1;33m \u001b[0mtype\u001b[0m\u001b[1;33m(\u001b[0m\u001b[0mc\u001b[0m\u001b[1;33m)\u001b[0m\u001b[1;33m.\u001b[0m\u001b[0m__dict__\u001b[0m\u001b[1;33m[\u001b[0m\u001b[1;34m'fun'\u001b[0m\u001b[1;33m]\u001b[0m\u001b[1;33m(\u001b[0m\u001b[1;33m)\u001b[0m \u001b[1;31m# 报错，说明函数不是这么调用的\u001b[0m\u001b[1;33m\u001b[0m\u001b[1;33m\u001b[0m\u001b[0m\n\u001b[0m",
      "\u001b[1;31mTypeError\u001b[0m: fun() missing 1 required positional argument: 'self'"
     ]
    }
   ],
   "source": [
    "class C:\n",
    "    x = 1\n",
    "    def __init__(self, y):\n",
    "        self.y = y       \n",
    "    def fun(self):\n",
    "        print(self.y)\n",
    "        \n",
    "c = C(2)\n",
    "\n",
    "# 实例有哪些属性\n",
    "print(c.__dict__) \n",
    "\n",
    "# 类有什么属性\n",
    "print(C.__dict__) \n",
    "print(type(c).__dict__) # 和上一条一样\n",
    "\n",
    "# 调用属性\n",
    "c.fun() # 2\n",
    "c.__dict__['y'] # 和上一条一样\n",
    "\n",
    "# 调用方法\n",
    "type(c).__dict__['fun']() # 报错，说明函数不是这么调用的"
   ]
  },
  {
   "cell_type": "code",
   "execution_count": 5,
   "metadata": {
    "ExecuteTime": {
     "end_time": "2020-03-26T12:09:25.952055Z",
     "start_time": "2020-03-26T12:09:25.939090Z"
    }
   },
   "outputs": [
    {
     "name": "stdout",
     "output_type": "stream",
     "text": [
      "--------------------\n",
      "{'score': 3}\n",
      "3\n",
      "3\n",
      "--------------------\n",
      "{'__module__': '__main__', 'm': <__main__.M object at 0x00000151D5348F08>, 'n': 2, '__init__': <function AA.__init__ at 0x00000151D5346B88>, '__dict__': <attribute '__dict__' of 'AA' objects>, '__weakref__': <attribute '__weakref__' of 'AA' objects>, '__doc__': None}\n",
      "2\n",
      "2\n",
      "--------------------\n",
      "1\n",
      "1\n",
      "--------------------\n",
      "1\n",
      "1\n"
     ]
    }
   ],
   "source": [
    "class M:\n",
    "    def __init__(self):\n",
    "        self.x = 1        \n",
    "    def __get__(self, instance, owner):\n",
    "        return self.x\n",
    "    def __set__(self, instance, value):\n",
    "        self.x = value\n",
    "        \n",
    "# 调用描述器的类\n",
    "class AA:\n",
    "    m = M() # m就是一个描述器\n",
    "    n = 2\n",
    "    def __init__(self, score):\n",
    "        self.score = score\n",
    "    \n",
    "        \n",
    "aa = AA(3)\n",
    "print('-'*20)\n",
    "print(aa.__dict__) # {'score': 3}\n",
    "print(aa.score) # 3, 在 aa.__dict__ 中寻找，找到了score直接返回\n",
    "print(aa.__dict__['score']) # 上面的调用机制实际上是这样的\n",
    "print('-'*20)\n",
    "print(type(aa).__dict__) # 里面有n和m\n",
    "print(aa.n) # 2, 在aa.__dict__中找不到n，于是到type(aa).__dict__中找到了n，并返回其值\n",
    "print(type(aa).__dict__['n']) # 其实是上面一条的调用机制\n",
    "print('-'*20)\n",
    "print(aa.m) # 1, 在aa.__dict__中找不到n，于是到type(aa).__dict__中找到了m\n",
    "# m是一个描述器对象，于是调用__get__方法，将self.x的值返回，即1\n",
    "print(type(aa).__dict__['m'].__get__(aa,AA)) # 1, 上面一条的调用方式是这样的\n",
    "# __get__的定义中，除了self，还有instance和owner，其实分别表示的就是描述器所在的实例和类，这里的细节我们后文会讲\n",
    "\n",
    "print('-'*20)\n",
    "print(AA.m) # 1, 也是一样调用了描述器\n",
    "print(AA.__dict__['m'].__get__(None, AA)) # 类相当于调用这个"
   ]
  },
  {
   "cell_type": "markdown",
   "metadata": {},
   "source": [
    "### 资料描述器&非资料描述器\n",
    "\n",
    "* 同时定义了\\_\\_get\\_\\_和\\_\\_set\\_\\_方法的描述器称为**资料描述器**\n",
    "* 只定义了\\_\\_get\\_\\_的描述器称为**非资料描述器**\n",
    "* 二者的区别是：当属性名和描述器名相同时，在访问这个同名属性时，如果是**资料描述器就会先访问描述器**，如果是**非资料描述器就会先访问属性** 举例如下:\n"
   ]
  },
  {
   "cell_type": "code",
   "execution_count": 7,
   "metadata": {
    "ExecuteTime": {
     "end_time": "2020-03-26T12:13:33.918191Z",
     "start_time": "2020-03-26T12:13:33.903231Z"
    }
   },
   "outputs": [
    {
     "name": "stdout",
     "output_type": "stream",
     "text": [
      "set m here\n",
      "{'n': 5}\n",
      "{'__module__': '__main__', 'm': <__main__.M object at 0x00000151D535E748>, 'n': <__main__.N object at 0x00000151D535E8C8>, '__init__': <function AA.__init__ at 0x00000151D534BB88>, '__dict__': <attribute '__dict__' of 'AA' objects>, '__weakref__': <attribute '__weakref__' of 'AA' objects>, '__doc__': None}\n",
      "5\n",
      "get n here\n",
      "1\n",
      "get m here\n",
      "3\n",
      "set m here\n",
      "get m here\n",
      "7\n",
      "--------------------\n",
      "get n here\n",
      "1\n",
      "get n here\n",
      "1\n"
     ]
    }
   ],
   "source": [
    "class M:\n",
    "    \"\"\"\n",
    "    既有__get__又有__set__，是一个资料描述器\n",
    "    \"\"\"\n",
    "    def __init__(self):\n",
    "        self.x = 1\n",
    "        \n",
    "    def __get__(self, instance, owner):\n",
    "        print('get m here') # 打印一些信息，看这个方法何时被调用\n",
    "        return self.x\n",
    "    \n",
    "    def __set__(self, instance, value):\n",
    "        print('set m here') # 打印一些信息，看这个方法何时被调用\n",
    "        self.x = value + 1 # 这里设置一个+1来更清楚了解调用机制\n",
    "\n",
    "class N:\n",
    "    \"\"\"\n",
    "    只有__get__是一个非资料描述器\n",
    "    \"\"\"\n",
    "    def __init__(self):\n",
    "        self.x = 1\n",
    "        \n",
    "    def __get__(self, instance, owner):\n",
    "        print('get n here') # 打印一些信息，看这个方法何时被调用\n",
    "        return self.x\n",
    "        \n",
    "# 调用描述器的类\n",
    "class AA:\n",
    "    m = M() # m就是一个描述器\n",
    "    n = N()\n",
    "    def __init__(self, m, n):\n",
    "        self.m = m # 属性m和描述器m名字相同，调用时发生一些冲突\n",
    "        self.n = n # 非资料描述器的情况，与m对比\n",
    "    \n",
    "aa = AA(2,5)\n",
    "print(aa.__dict__) # 只有n没有m, 因为资料描述器同名时，不会访问到属性，会直接访问描述器，所以属性里就查不到m这个属性了\n",
    "print(AA.__dict__) # m和n都有\n",
    "print(aa.n) # 5, 非资料描述器同名时调用的是属性，为传入的5\n",
    "print(AA.n) # 1, 如果是类来访问，就调用的是描述器，返回self.x的值\n",
    "\n",
    "print(aa.m) # 3, 其实在aa=AA(2,5)创建实例时，进行了属性赋值，其中相当于进行了aa.m=2\n",
    "# 但是aa调用m时却不是常规地调用属性m，而是资料描述器m\n",
    "# 所以定义实例aa时，其实触发了m的__set__方法，将2传给value，self.x变成3\n",
    "# aa.m调用时也访问的是描述器，返回self.x即3的结果\n",
    "# 其实看打印信息也能看出什么时候调用了__get__和__set__\n",
    "\n",
    "aa.m = 6 # 另外对属性赋值也是调用了m的__set__方法\n",
    "print(aa.m) # 7，调用__get__方法\n",
    "\n",
    "print('-'*20)\n",
    "# 在代码中显式调用__get__方法\n",
    "print(AA.__dict__['n'].__get__(None, AA)) # 1\n",
    "print(AA.__dict__['n'].__get__(aa, AA)) # 1"
   ]
  },
  {
   "cell_type": "markdown",
   "metadata": {},
   "source": [
    "注：要想制作一个只读的资料描述器，需要同时定义\\_\\_set\\_\\_ 和 \\_\\_get\\_\\_,并在 \\_\\_set\\_\\_ 中引发一个 AttributeError 异常。定义一个引发异常的 \\_\\_set\\_\\_ 方法就足够让一个描述器成为资料描述器。"
   ]
  },
  {
   "cell_type": "markdown",
   "metadata": {},
   "source": [
    "### 描述器的细节调用\n",
    "\n",
    "当调用一个属性，而属性指向一个描述器时，为什么就会去调用这个描述器呢，其实这是由object.\\_\\_getattribute\\_\\_()方法控制的，其中object是新式类定义时默认继承的类，即py2这么写的class(object)中的object。新定义的一个类继承了object类，也就继承了\\_\\_getattribute\\_\\_方法。当访问一个属性比如b.x时，会自动调用这个方法 \\_\\_getattribute\\_\\_()的定义如下:"
   ]
  },
  {
   "cell_type": "code",
   "execution_count": 8,
   "metadata": {
    "ExecuteTime": {
     "end_time": "2020-03-26T13:06:26.437843Z",
     "start_time": "2020-03-26T13:06:26.426874Z"
    }
   },
   "outputs": [],
   "source": [
    "def __getattribute__(self, key):\n",
    "    \"Emulate type_getattro() in Objects/typeobject.c\"\n",
    "    v = object.__getattribute__(self, key)\n",
    "    if hasattr(v, '__get__'):\n",
    "        return v.__get__(None, self)\n",
    "    return v"
   ]
  },
  {
   "cell_type": "markdown",
   "metadata": {},
   "source": [
    "上面的定义显示，如果b.x是一个描述器对象，即能找到\\_\\_get\\_\\_方法，则会调用这个get方法，否则就使用普通的属性。 如果在一个类中重写\\_\\_getattribute\\_\\_，将会改变描述器的行为，甚至将描述器这一功能关闭。"
   ]
  },
  {
   "cell_type": "markdown",
   "metadata": {},
   "source": [
    "## 实例方法、静态方法和类方法的描述器原理\n",
    "\n",
    "访问些方法其实都访问的是描述器"
   ]
  },
  {
   "cell_type": "code",
   "execution_count": 2,
   "metadata": {
    "ExecuteTime": {
     "end_time": "2020-03-27T01:28:13.390588Z",
     "start_time": "2020-03-27T01:28:13.383087Z"
    }
   },
   "outputs": [
    {
     "name": "stdout",
     "output_type": "stream",
     "text": [
      "Bob\n",
      "my name is bob\n",
      "this name\n",
      "{'__module__': '__main__', 'classmethod_print': <classmethod object at 0x00000168D5496108>, 'staticmethod_print': <staticmethod object at 0x00000168D5E7D2C8>, 'normal_print': <function B.normal_print at 0x00000168D5ACFAF8>, '__dict__': <attribute '__dict__' of 'B' objects>, '__weakref__': <attribute '__weakref__' of 'B' objects>, '__doc__': None}\n"
     ]
    }
   ],
   "source": [
    "class B:\n",
    "    @classmethod\n",
    "    def classmethod_print(cls):\n",
    "        print('Bob')\n",
    "        \n",
    "    @staticmethod\n",
    "    def staticmethod_print():\n",
    "        print('my name is bob')\n",
    "        \n",
    "    def normal_print(self):\n",
    "        print('this name')\n",
    "        \n",
    "b = B()\n",
    "b.classmethod_print() # 调用类方法\n",
    "b.staticmethod_print() # 调用静态方法\n",
    "b.normal_print() # 调用实例方法\n",
    "print(B.__dict__) # 里面有实例方法、静态方法和类方法"
   ]
  },
  {
   "cell_type": "code",
   "execution_count": 5,
   "metadata": {
    "ExecuteTime": {
     "end_time": "2020-03-27T01:31:18.267817Z",
     "start_time": "2020-03-27T01:31:18.259318Z"
    }
   },
   "outputs": [
    {
     "name": "stdout",
     "output_type": "stream",
     "text": [
      "----------------------------------------\n",
      "类方法：\n",
      "<classmethod object at 0x00000168D5496108>\n",
      "<bound method B.classmethod_print of <class '__main__.B'>>\n",
      "----------------------------------------\n",
      "静态方法：\n",
      "<staticmethod object at 0x00000168D5E7D2C8>\n",
      "<function B.staticmethod_print at 0x00000168D5ACF3A8>\n",
      "----------------------------------------\n",
      "实例方法：\n",
      "<function B.normal_print at 0x00000168D5ACFAF8>\n",
      "<bound method B.normal_print of <__main__.B object at 0x00000168D5496608>>\n"
     ]
    }
   ],
   "source": [
    "print('-'*40)\n",
    "print('类方法：')\n",
    "print(B.__dict__['classmethod_print'])\n",
    "print(b.classmethod_print) # 和上不一样\n",
    "print('-'*40)\n",
    "print('静态方法：')\n",
    "print(B.__dict__['staticmethod_print'])\n",
    "print(b.staticmethod_print) # 和上不一样\n",
    "print('-'*40)\n",
    "print('实例方法：')\n",
    "print(B.__dict__['normal_print'])\n",
    "print(b.normal_print) # 和上不一样"
   ]
  },
  {
   "cell_type": "markdown",
   "metadata": {},
   "source": [
    "* 实例直接调用时，类方法和实例方法都是bound method，而静态方法是function。因为静态方法本身就是定义在类里面的函数，所以不属于方法范畴；\n",
    "* 由于实例直接调用后得到的结果可以直接接一个括号，当成函数来调用。而使用字典调用时，得到的结果和实例调用都不一样，所以它们是不可以直接接括号当成函数使用的。\n",
    "* 静态方法和类方法用字典调用得到的其实分别是staticmethod和classmethod两个类的对象，这两个类其实是定义描述器的类，所以用字典访问的两个方法得到的都是描述器对象。它们需要用一个\\_\\_get\\_\\_方法才可以在后面接括号当成函数调用。\n",
    "* 普通实例方法用字典调用得到的是一个function即函数，理论上是可以用括号直接调用的，但是调用时报错说少了self参数，其实它也是描述器对象，用通过\\_\\_get\\_\\_方法将self传入来调用"
   ]
  },
  {
   "cell_type": "code",
   "execution_count": 6,
   "metadata": {
    "ExecuteTime": {
     "end_time": "2020-03-27T01:35:09.966606Z",
     "start_time": "2020-03-27T01:35:09.960116Z"
    }
   },
   "outputs": [
    {
     "name": "stdout",
     "output_type": "stream",
     "text": [
      "Bob\n",
      "my name is bob\n",
      "this name\n"
     ]
    }
   ],
   "source": [
    "B.__dict__['classmethod_print'].__get__(None, B)()\n",
    "B.__dict__['staticmethod_print'].__get__(None, B)()\n",
    "B.__dict__['normal_print'].__get__(b, B)() # 相当于执行 b.normal_print()\n"
   ]
  },
  {
   "cell_type": "markdown",
   "metadata": {},
   "source": [
    "* 前两个\\_\\_get\\_\\_的第一个参数都是None，而实例方法是一个b，这是因为实例方法需要具体的实例来调用而不能用类直接调用。"
   ]
  },
  {
   "cell_type": "code",
   "execution_count": 7,
   "metadata": {
    "ExecuteTime": {
     "end_time": "2020-03-27T01:52:27.882552Z",
     "start_time": "2020-03-27T01:52:27.876552Z"
    }
   },
   "outputs": [
    {
     "name": "stdout",
     "output_type": "stream",
     "text": [
      "<bound method B.classmethod_print of <class '__main__.B'>>\n",
      "<function B.staticmethod_print at 0x00000168D5ACF3A8>\n",
      "<function B.normal_print at 0x00000168D5ACFAF8>\n",
      "<function B.normal_print at 0x00000168D5ACFAF8>\n",
      "<bound method B.normal_print of <__main__.B object at 0x00000168D5496608>>\n"
     ]
    }
   ],
   "source": [
    "print(B.__dict__['classmethod_print'].__get__(None, B))\n",
    "print(B.__dict__['staticmethod_print'].__get__(None, B))\n",
    "\n",
    "print(B.__dict__['normal_print'])\n",
    "print(B.__dict__['normal_print'].__get__(None, B)) # 这是不传入实例即self的情况，和直接从字典调用结果相同，在python2中是一个unbound method\n",
    "print(B.__dict__['normal_print'].__get__(b, B))\n",
    "\n",
    "# B.print_name() # 报错，说少输入一个self参数\n",
    "# B.print_name(B()) # this name  输入实例即不会报错"
   ]
  },
  {
   "cell_type": "markdown",
   "metadata": {},
   "source": [
    "### classmethod这个描述器的类\n",
    "\n",
    "python中这些类的定义是用底层的C语言实现的，为了理解其工作原理，这里展示一个用python语言实现classmethod装饰器的方法，（来源），即构建能产生类方法对应描述器对象的类。"
   ]
  },
  {
   "cell_type": "code",
   "execution_count": 14,
   "metadata": {
    "ExecuteTime": {
     "end_time": "2020-03-27T02:28:39.235559Z",
     "start_time": "2020-03-27T02:28:39.227558Z"
    }
   },
   "outputs": [
    {
     "name": "stdout",
     "output_type": "stream",
     "text": [
      "5\n"
     ]
    }
   ],
   "source": [
    "class myclassmethod(object):\n",
    "    def __init__(self, method):\n",
    "        self.method = method\n",
    "    def __get__(self, instance, cls):\n",
    "        return lambda *args, **kw: self.method(cls, *args, **kw)\n",
    "    \n",
    "class Myclass:\n",
    "    x = 3\n",
    "    @myclassmethod\n",
    "    def method(cls, a):\n",
    "        print(cls.x+a)\n",
    "        \n",
    "m = Myclass()\n",
    "Myclass.method(a=2)"
   ]
  },
  {
   "cell_type": "markdown",
   "metadata": {},
   "source": [
    "执行过程：\n",
    "\n",
    "1. 我们看到使用@myclassmethod装饰器达到的效果和使用@classmethod装饰器没有什么区别\n",
    "2. 首先定义了myclassmethod类，里面使用了\\_\\_get\\_\\_方法，所以它的**实例**会是一个描述器对象\n",
    "3. 将myclassmethod当做装饰器作用于method函数，根据装饰器的知识，相当于这样设置method=myclassmethod(method)\n",
    "4. 调用Myclass.method()时调用了改变后了的method方法，即相当于**myclassmethod(method)(a)**\n",
    "5. myclassmethod(method)这是myclassmethod类的一个实例，即一个描述器，此处访问于是调用\\_\\_get\\_\\_方法，返回一个匿名函数；\n",
    "6. \\_\\_get\\_\\_中其实是将cls部分传入method方法，因为method在Myclass类中调用，这个owner也就是Myclass类。这一步其实是提前传入了method的第一个参数cls，后面的参数a由myclassmethod(method)(a)第二个括号调用\n",
    "7. 仔细分析上面的定义与调用过程，我们会发现，我们常常说的**类方法**第一个参数要是cls，其实是不对的，第一个参数是任意都可以，它只是占第一个位置，用于接收类实例引用类属性，随便换成任意变量都可以，用cls只是约定俗成的。比如下面的代码正常运行"
   ]
  },
  {
   "cell_type": "code",
   "execution_count": 8,
   "metadata": {
    "ExecuteTime": {
     "end_time": "2020-03-27T01:59:23.491852Z",
     "start_time": "2020-03-27T01:59:23.485841Z"
    }
   },
   "outputs": [
    {
     "name": "stdout",
     "output_type": "stream",
     "text": [
      "5\n"
     ]
    }
   ],
   "source": [
    "class Myclass:\n",
    "    x = 3\n",
    "    @classmethod\n",
    "    def method(b, a):\n",
    "        print(b.x+a)\n",
    "        \n",
    "m = Myclass()\n",
    "Myclass.method(a=2) # 5\n"
   ]
  },
  {
   "cell_type": "markdown",
   "metadata": {},
   "source": [
    "### staticmethod类的等价python定义"
   ]
  },
  {
   "cell_type": "code",
   "execution_count": 12,
   "metadata": {
    "ExecuteTime": {
     "end_time": "2020-03-27T02:17:16.388052Z",
     "start_time": "2020-03-27T02:17:16.381100Z"
    }
   },
   "outputs": [
    {
     "name": "stdout",
     "output_type": "stream",
     "text": [
      "<function Myclass.method at 0x00000168D5EA54C8>\n",
      "<__main__.Myclass object at 0x00000168D51A9B88>\n",
      "<class '__main__.Myclass'>\n",
      "5\n"
     ]
    }
   ],
   "source": [
    "class mystaticmethod:\n",
    "    def __init__(self, fn):\n",
    "        \"\"\"\n",
    "        fn: Myclass.method\n",
    "        \"\"\"\n",
    "        print(fn)\n",
    "        self.fn = fn\n",
    "    def __get__(self, obj, type=None):\n",
    "        \"\"\"\n",
    "        obj: 调用mystaticmethod描述器的实例\n",
    "        type: 调用mystaticmethod描述器的实例的类\n",
    "        \"\"\"\n",
    "        print(obj)\n",
    "        print(type)\n",
    "        return self.fn\n",
    "    \n",
    "class Myclass:\n",
    "    x = 3\n",
    "    @mystaticmethod\n",
    "    def method(a, b):\n",
    "        print(a + b)\n",
    "        \n",
    "m = Myclass()\n",
    "m.method(a=2, b=3)"
   ]
  },
  {
   "cell_type": "markdown",
   "metadata": {},
   "source": [
    "执行过程：\n",
    "\n",
    "1. 静态方法相当于不自动传入实例对象作为方法的第一个参数\n",
    "2. 首先定义了mystaticmethod类，里面使用了\\_\\_get\\_\\_方法，所以它的实例会是一个描述器对象\n",
    "3. 将mystaticmethod当做装饰器作用于method函数，根据装饰器的知识，相当于这样设置method=mystaticmethod(method)\n",
    "4. 调用m.method()时调用了改变后了的method方法，即相当于**mystaticmethod(method)(a,b)**\n",
    "5. mystaticmethod(method)这是mystaticmethod类的一个实例，即一个描述器，此处访问于是调用\\_\\_get\\_\\_方法，返回函数；\n",
    "6. 后面的参数a和b由mystaticmethod(method)(a,b)第二个括号调用"
   ]
  },
  {
   "cell_type": "code",
   "execution_count": null,
   "metadata": {},
   "outputs": [],
   "source": []
  },
  {
   "cell_type": "code",
   "execution_count": 6,
   "metadata": {
    "ExecuteTime": {
     "end_time": "2020-03-26T12:10:10.599010Z",
     "start_time": "2020-03-26T12:10:10.583053Z"
    }
   },
   "outputs": [
    {
     "data": {
      "text/plain": [
       "int"
      ]
     },
     "execution_count": 6,
     "metadata": {},
     "output_type": "execute_result"
    }
   ],
   "source": [
    "class M:\n",
    "    def __init__(self):\n",
    "        self.x = 1\n",
    "        \n",
    "    def __get__(self, instance, owner):\n",
    "        return self.x\n",
    "    \n",
    "    def __set__(self, instance, value):\n",
    "        self.x = value\n",
    "# 调用描述器的类\n",
    "class AA:\n",
    "    m = M() # m就是一个描述器\n",
    "    n = 2\n",
    "    def __init__(self, score):\n",
    "        self.score = score\n",
    "a = AA(2)\n",
    "type(a.m)"
   ]
  },
  {
   "cell_type": "code",
   "execution_count": 8,
   "metadata": {
    "ExecuteTime": {
     "end_time": "2020-03-20T01:56:09.150942Z",
     "start_time": "2020-03-20T01:56:09.143981Z"
    }
   },
   "outputs": [
    {
     "name": "stdout",
     "output_type": "stream",
     "text": [
      "fn\n"
     ]
    }
   ],
   "source": [
    "def fn(*args, **kwargs):\n",
    "    print('fn')\n",
    "out = lambda *args, **kwargs: fn(*args, **kwargs)\n",
    "out(1)"
   ]
  },
  {
   "cell_type": "code",
   "execution_count": 12,
   "metadata": {
    "ExecuteTime": {
     "end_time": "2020-03-26T03:48:57.306642Z",
     "start_time": "2020-03-26T03:48:57.287679Z"
    }
   },
   "outputs": [
    {
     "data": {
      "text/plain": [
       "{'y': 2}"
      ]
     },
     "execution_count": 12,
     "metadata": {},
     "output_type": "execute_result"
    },
    {
     "data": {
      "text/plain": [
       "mappingproxy({'__module__': '__main__',\n",
       "              'x': 1,\n",
       "              '__init__': <function __main__.C.__init__(self, y)>,\n",
       "              'fun': <function __main__.C.fun(self)>,\n",
       "              '__dict__': <attribute '__dict__' of 'C' objects>,\n",
       "              '__weakref__': <attribute '__weakref__' of 'C' objects>,\n",
       "              '__doc__': None})"
      ]
     },
     "execution_count": 12,
     "metadata": {},
     "output_type": "execute_result"
    }
   ],
   "source": [
    "class C:\n",
    "    x = 1\n",
    "    def __init__(self, y):\n",
    "        self.y = y\n",
    "        \n",
    "    def fun(self):\n",
    "        print(self.y)\n",
    "        \n",
    "c = C(2)\n",
    "c.__dict__\n",
    "C.__dict__"
   ]
  },
  {
   "cell_type": "code",
   "execution_count": 16,
   "metadata": {
    "ExecuteTime": {
     "end_time": "2020-03-26T03:50:14.815414Z",
     "start_time": "2020-03-26T03:50:14.808910Z"
    }
   },
   "outputs": [
    {
     "data": {
      "text/plain": [
       "mappingproxy({'__module__': '__main__',\n",
       "              'x': 1,\n",
       "              '__init__': <function __main__.C.__init__(self, y)>,\n",
       "              'fun': <function __main__.C.fun(self)>,\n",
       "              '__dict__': <attribute '__dict__' of 'C' objects>,\n",
       "              '__weakref__': <attribute '__weakref__' of 'C' objects>,\n",
       "              '__doc__': None})"
      ]
     },
     "execution_count": 16,
     "metadata": {},
     "output_type": "execute_result"
    }
   ],
   "source": [
    "type(c).__dict__"
   ]
  },
  {
   "cell_type": "code",
   "execution_count": null,
   "metadata": {},
   "outputs": [],
   "source": []
  },
  {
   "cell_type": "code",
   "execution_count": null,
   "metadata": {},
   "outputs": [],
   "source": []
  },
  {
   "cell_type": "code",
   "execution_count": null,
   "metadata": {},
   "outputs": [],
   "source": []
  },
  {
   "cell_type": "code",
   "execution_count": null,
   "metadata": {},
   "outputs": [],
   "source": []
  },
  {
   "cell_type": "code",
   "execution_count": null,
   "metadata": {},
   "outputs": [],
   "source": []
  },
  {
   "cell_type": "markdown",
   "metadata": {},
   "source": [
    "# operator模块"
   ]
  },
  {
   "attachments": {
    "image.png": {
     "image/png": "[encoded data removed]"
    }
   },
   "cell_type": "markdown",
   "metadata": {},
   "source": [
    "## attrgetter()\n",
    "\n",
    "功能：取任意实例上的属性\n",
    "![image.png](attachment:image.png)"
   ]
  },
  {
   "cell_type": "code",
   "execution_count": 10,
   "metadata": {
    "ExecuteTime": {
     "end_time": "2020-03-20T03:45:15.634253Z",
     "start_time": "2020-03-20T03:45:15.610275Z"
    }
   },
   "outputs": [
    {
     "name": "stdout",
     "output_type": "stream",
     "text": [
      "1\n",
      "(1, 2)\n"
     ]
    }
   ],
   "source": [
    "import operator\n",
    "class C:\n",
    "    def __init__(self, a, b):\n",
    "        self.a = a\n",
    "        self.b = b\n",
    "\n",
    "c = C(1, 2)\n",
    "\n",
    "getter = operator.attrgetter(\"a\")\n",
    "print (getter(c))\n",
    "\n",
    "\n",
    "getter = operator.attrgetter(\"a\", \"b\")\n",
    "print (getter(c))"
   ]
  },
  {
   "cell_type": "code",
   "execution_count": null,
   "metadata": {},
   "outputs": [],
   "source": []
  },
  {
   "cell_type": "code",
   "execution_count": 42,
   "metadata": {
    "ExecuteTime": {
     "end_time": "2020-03-19T07:53:55.385333Z",
     "start_time": "2020-03-19T07:53:55.374333Z"
    }
   },
   "outputs": [
    {
     "data": {
      "text/plain": [
       "('lr', 'svr')"
      ]
     },
     "execution_count": 42,
     "metadata": {},
     "output_type": "execute_result"
    },
    {
     "data": {
      "text/plain": [
       "('gy', 'LinearSVR(random_state=42)')"
      ]
     },
     "execution_count": 42,
     "metadata": {},
     "output_type": "execute_result"
    }
   ],
   "source": [
    "estimators = [('lr','gy'),('svr', 'LinearSVR(random_state=42)')]\n",
    "name,dw = zip(*estimators)\n",
    "name\n",
    "dw"
   ]
  },
  {
   "cell_type": "code",
   "execution_count": 44,
   "metadata": {
    "ExecuteTime": {
     "end_time": "2020-03-19T08:19:28.498919Z",
     "start_time": "2020-03-19T08:19:28.489917Z"
    }
   },
   "outputs": [
    {
     "data": {
      "text/plain": [
       "<function __main__.bar()>"
      ]
     },
     "execution_count": 44,
     "metadata": {},
     "output_type": "execute_result"
    }
   ],
   "source": [
    "from joblib import Parallel, delayed\n",
    "def bar():\n",
    "    print('bar函数的执行时间为：')\n",
    "    time.sleep(2.5) \n",
    "delayed(bar)"
   ]
  },
  {
   "cell_type": "code",
   "execution_count": 52,
   "metadata": {
    "ExecuteTime": {
     "end_time": "2020-03-19T08:26:23.927697Z",
     "start_time": "2020-03-19T08:26:23.916704Z"
    }
   },
   "outputs": [
    {
     "data": {
      "text/plain": [
       "[(<function math.sqrt(x, /)>, (0,), {}),\n",
       " (<function math.sqrt(x, /)>, (1,), {}),\n",
       " (<function math.sqrt(x, /)>, (4,), {}),\n",
       " (<function math.sqrt(x, /)>, (9,), {}),\n",
       " (<function math.sqrt(x, /)>, (16,), {}),\n",
       " (<function math.sqrt(x, /)>, (25,), {}),\n",
       " (<function math.sqrt(x, /)>, (36,), {}),\n",
       " (<function math.sqrt(x, /)>, (49,), {}),\n",
       " (<function math.sqrt(x, /)>, (64,), {}),\n",
       " (<function math.sqrt(x, /)>, (81,), {})]"
      ]
     },
     "execution_count": 52,
     "metadata": {},
     "output_type": "execute_result"
    }
   ],
   "source": [
    "from math import sqrt\n",
    "from joblib import Parallel, delayed\n",
    "[delayed(sqrt)(i ** 2) for i in range(10)]"
   ]
  },
  {
   "cell_type": "markdown",
   "metadata": {},
   "source": [
    "# Pythonic Ways\n",
    "\n",
    "## Role of Underscore(_) in Python\n",
    "\n",
    "参考:\n",
    "* [Role of Underscore(_) in Python](https://www.datacamp.com/community/tutorials/role-underscore-python?from=timeline&isappinstalled=0#name)"
   ]
  },
  {
   "cell_type": "markdown",
   "metadata": {},
   "source": [
    "### 命名使用下划线'_'\n",
    "\n",
    "下划线（_）可用于命名变量，函数和类等。\n",
    "\n",
    "* **Single Pre Underscore:\\- \\_variable**\n",
    "* **Signle Post Underscore:\\- variable\\_**\n",
    "* **Double Pre Underscores:\\- \\_\\_variable**\n",
    "* **Double Pre and Post Underscores:\\- \\_\\_variable\\_\\_**"
   ]
  },
  {
   "cell_type": "markdown",
   "metadata": {},
   "source": [
    "#### \\_variable\n",
    "\n",
    "单个前下划线用于内部使用。**但是单个pre下划线并不会阻止你访问单个pre下划线变量。**"
   ]
  },
  {
   "cell_type": "code",
   "execution_count": 11,
   "metadata": {
    "ExecuteTime": {
     "end_time": "2020-03-29T12:25:11.892153Z",
     "start_time": "2020-03-29T12:25:11.884200Z"
    }
   },
   "outputs": [
    {
     "name": "stdout",
     "output_type": "stream",
     "text": [
      "datacamp\n",
      "7\n"
     ]
    }
   ],
   "source": [
    "class Test:\n",
    "\n",
    "    def __init__(self):\n",
    "        self.name = \"datacamp\"\n",
    "        self._num = 7\n",
    "\n",
    "obj = Test()\n",
    "print(obj.name)\n",
    "print(obj._num)"
   ]
  },
  {
   "attachments": {
    "image.png": {
     "image/png": "[encoded data removed]"
    }
   },
   "cell_type": "markdown",
   "metadata": {},
   "source": [
    "**但是，单个前置下划线会影响从模块导入的名称**\n",
    "![image.png](attachment:image.png)"
   ]
  },
  {
   "cell_type": "markdown",
   "metadata": {},
   "source": [
    "#### variable_\n",
    "\n",
    "有时候，如果您想使用Python关键字作为变量、函数或类名，您可以使用variable_。您可以通过在要使用的名称的末尾添加下划线来避免与Python关键字冲突。"
   ]
  },
  {
   "cell_type": "code",
   "execution_count": 13,
   "metadata": {
    "ExecuteTime": {
     "end_time": "2020-03-29T12:34:13.871523Z",
     "start_time": "2020-03-29T12:34:13.864578Z"
    }
   },
   "outputs": [
    {
     "ename": "SyntaxError",
     "evalue": "invalid syntax (<ipython-input-13-5f959271564f>, line 1)",
     "output_type": "error",
     "traceback": [
      "\u001b[1;36m  File \u001b[1;32m\"<ipython-input-13-5f959271564f>\"\u001b[1;36m, line \u001b[1;32m1\u001b[0m\n\u001b[1;33m    def function(class):\u001b[0m\n\u001b[1;37m                     ^\u001b[0m\n\u001b[1;31mSyntaxError\u001b[0m\u001b[1;31m:\u001b[0m invalid syntax\n"
     ]
    }
   ],
   "source": [
    "def function(class):\n",
    "    pass"
   ]
  },
  {
   "cell_type": "code",
   "execution_count": 14,
   "metadata": {
    "ExecuteTime": {
     "end_time": "2020-03-29T12:34:14.933201Z",
     "start_time": "2020-03-29T12:34:14.929211Z"
    }
   },
   "outputs": [],
   "source": [
    "def function(class_):\n",
    "    pass"
   ]
  },
  {
   "cell_type": "markdown",
   "metadata": {},
   "source": [
    "#### __variable——声明私有变量的第二种方法\n",
    "\n",
    "通常用在类里面，将变量（**属性、方法**）的名字进行修改。也叫name mangling"
   ]
  },
  {
   "cell_type": "markdown",
   "metadata": {},
   "source": [
    "##### 用在私有属性上"
   ]
  },
  {
   "cell_type": "code",
   "execution_count": 15,
   "metadata": {
    "ExecuteTime": {
     "end_time": "2020-03-29T12:55:03.631706Z",
     "start_time": "2020-03-29T12:55:03.617745Z"
    }
   },
   "outputs": [
    {
     "data": {
      "text/plain": [
       "['_Sample__c',\n",
       " '__class__',\n",
       " '__delattr__',\n",
       " '__dict__',\n",
       " '__dir__',\n",
       " '__doc__',\n",
       " '__eq__',\n",
       " '__format__',\n",
       " '__ge__',\n",
       " '__getattribute__',\n",
       " '__gt__',\n",
       " '__hash__',\n",
       " '__init__',\n",
       " '__init_subclass__',\n",
       " '__le__',\n",
       " '__lt__',\n",
       " '__module__',\n",
       " '__ne__',\n",
       " '__new__',\n",
       " '__reduce__',\n",
       " '__reduce_ex__',\n",
       " '__repr__',\n",
       " '__setattr__',\n",
       " '__sizeof__',\n",
       " '__str__',\n",
       " '__subclasshook__',\n",
       " '__weakref__',\n",
       " '_b',\n",
       " 'a']"
      ]
     },
     "execution_count": 15,
     "metadata": {},
     "output_type": "execute_result"
    }
   ],
   "source": [
    "class Sample():\n",
    "\n",
    "    def __init__(self):\n",
    "        self.a = 1\n",
    "        self._b = 2\n",
    "        self.__c = 3\n",
    "obj1 = Sample()\n",
    "dir(obj1)"
   ]
  },
  {
   "cell_type": "markdown",
   "metadata": {},
   "source": [
    "让我们通过**继承Sample类**来创建另一个类，看看重写是如何工作的。"
   ]
  },
  {
   "cell_type": "code",
   "execution_count": 3,
   "metadata": {
    "ExecuteTime": {
     "end_time": "2020-03-29T13:37:59.677698Z",
     "start_time": "2020-03-29T13:37:59.661741Z"
    }
   },
   "outputs": [
    {
     "name": "stdout",
     "output_type": "stream",
     "text": [
      "overridden\n",
      "overridden\n",
      "overridden\n"
     ]
    },
    {
     "ename": "AttributeError",
     "evalue": "'SecondClass' object has no attribute '__c'",
     "output_type": "error",
     "traceback": [
      "\u001b[1;31m---------------------------------------------------------------------------\u001b[0m",
      "\u001b[1;31mAttributeError\u001b[0m                            Traceback (most recent call last)",
      "\u001b[1;32m<ipython-input-3-d1a4bef1ed92>\u001b[0m in \u001b[0;36m<module>\u001b[1;34m\u001b[0m\n\u001b[0;32m     19\u001b[0m \u001b[0mprint\u001b[0m\u001b[1;33m(\u001b[0m\u001b[0mobj2\u001b[0m\u001b[1;33m.\u001b[0m\u001b[0m_b\u001b[0m\u001b[1;33m)\u001b[0m\u001b[1;33m\u001b[0m\u001b[1;33m\u001b[0m\u001b[0m\n\u001b[0;32m     20\u001b[0m \u001b[0mobj2\u001b[0m\u001b[1;33m.\u001b[0m\u001b[0mprint_c\u001b[0m\u001b[1;33m(\u001b[0m\u001b[1;33m)\u001b[0m\u001b[1;31m#*********** 当前实例下的__c属性\u001b[0m\u001b[1;33m\u001b[0m\u001b[1;33m\u001b[0m\u001b[0m\n\u001b[1;32m---> 21\u001b[1;33m \u001b[0mprint\u001b[0m\u001b[1;33m(\u001b[0m\u001b[0mobj2\u001b[0m\u001b[1;33m.\u001b[0m\u001b[0m__c\u001b[0m\u001b[1;33m)\u001b[0m \u001b[1;31m# obj2._SecondClass__c\u001b[0m\u001b[1;33m\u001b[0m\u001b[1;33m\u001b[0m\u001b[0m\n\u001b[0m",
      "\u001b[1;31mAttributeError\u001b[0m: 'SecondClass' object has no attribute '__c'"
     ]
    }
   ],
   "source": [
    "class Sample():\n",
    "\n",
    "    def __init__(self):\n",
    "        self.a = 1\n",
    "        self._b = 2\n",
    "        self.__c = 3\n",
    "class SecondClass(Sample):\n",
    "\n",
    "    def __init__(self):\n",
    "        # super().__init__()\n",
    "        self.a = \"overridden\"\n",
    "        self._b = \"overridden\"\n",
    "        self.__c = \"overridden\"\n",
    "        \n",
    "    def print_c(self,):\n",
    "        print(self.__c)\n",
    "obj2 = SecondClass()\n",
    "print(obj2.a)\n",
    "print(obj2._b)\n",
    "obj2.print_c()#*********** 当前实例下的__c属性\n",
    "print(obj2.__c) # obj2._SecondClass__c"
   ]
  },
  {
   "cell_type": "code",
   "execution_count": 4,
   "metadata": {
    "ExecuteTime": {
     "end_time": "2020-03-29T13:38:00.845276Z",
     "start_time": "2020-03-29T13:38:00.831375Z"
    }
   },
   "outputs": [
    {
     "name": "stdout",
     "output_type": "stream",
     "text": [
      "overridden\n"
     ]
    },
    {
     "ename": "AttributeError",
     "evalue": "'SecondClass' object has no attribute '_Sample__c'",
     "output_type": "error",
     "traceback": [
      "\u001b[1;31m---------------------------------------------------------------------------\u001b[0m",
      "\u001b[1;31mAttributeError\u001b[0m                            Traceback (most recent call last)",
      "\u001b[1;32m<ipython-input-4-3144ec078b2b>\u001b[0m in \u001b[0;36m<module>\u001b[1;34m\u001b[0m\n\u001b[0;32m      1\u001b[0m \u001b[0mprint\u001b[0m\u001b[1;33m(\u001b[0m\u001b[0mobj2\u001b[0m\u001b[1;33m.\u001b[0m\u001b[0m_SecondClass__c\u001b[0m\u001b[1;33m)\u001b[0m\u001b[1;33m\u001b[0m\u001b[1;33m\u001b[0m\u001b[0m\n\u001b[1;32m----> 2\u001b[1;33m \u001b[0mprint\u001b[0m\u001b[1;33m(\u001b[0m\u001b[0mobj2\u001b[0m\u001b[1;33m.\u001b[0m\u001b[0m_Sample__c\u001b[0m\u001b[1;33m)\u001b[0m\u001b[1;33m\u001b[0m\u001b[1;33m\u001b[0m\u001b[0m\n\u001b[0m\u001b[0;32m      3\u001b[0m \u001b[0mprint\u001b[0m\u001b[1;33m(\u001b[0m\u001b[0mobj1\u001b[0m\u001b[1;33m.\u001b[0m\u001b[0m_Sample__c\u001b[0m\u001b[1;33m)\u001b[0m\u001b[1;33m\u001b[0m\u001b[1;33m\u001b[0m\u001b[0m\n",
      "\u001b[1;31mAttributeError\u001b[0m: 'SecondClass' object has no attribute '_Sample__c'"
     ]
    }
   ],
   "source": [
    "print(obj2._SecondClass__c)\n",
    "print(obj2._Sample__c)\n",
    "print(obj1._Sample__c)"
   ]
  },
  {
   "cell_type": "markdown",
   "metadata": {},
   "source": [
    "##### 用在私有方法上"
   ]
  },
  {
   "cell_type": "code",
   "execution_count": 5,
   "metadata": {
    "ExecuteTime": {
     "end_time": "2020-03-29T13:38:48.287896Z",
     "start_time": "2020-03-29T13:38:48.272428Z"
    }
   },
   "outputs": [
    {
     "name": "stdout",
     "output_type": "stream",
     "text": [
      "datacamp\n"
     ]
    },
    {
     "ename": "AttributeError",
     "evalue": "'SimpleClass' object has no attribute '__datacamp'",
     "output_type": "error",
     "traceback": [
      "\u001b[1;31m---------------------------------------------------------------------------\u001b[0m",
      "\u001b[1;31mAttributeError\u001b[0m                            Traceback (most recent call last)",
      "\u001b[1;32m<ipython-input-5-55dca09e2322>\u001b[0m in \u001b[0;36m<module>\u001b[1;34m\u001b[0m\n\u001b[0;32m      9\u001b[0m \u001b[0mobj\u001b[0m \u001b[1;33m=\u001b[0m \u001b[0mSimpleClass\u001b[0m\u001b[1;33m(\u001b[0m\u001b[1;33m)\u001b[0m\u001b[1;33m\u001b[0m\u001b[1;33m\u001b[0m\u001b[0m\n\u001b[0;32m     10\u001b[0m \u001b[0mprint\u001b[0m\u001b[1;33m(\u001b[0m\u001b[0mobj\u001b[0m\u001b[1;33m.\u001b[0m\u001b[0mcall_datacamp\u001b[0m\u001b[1;33m(\u001b[0m\u001b[1;33m)\u001b[0m\u001b[1;33m)\u001b[0m \u001b[1;31m## same as above it returns the Dobule pre underscore method\u001b[0m\u001b[1;33m\u001b[0m\u001b[1;33m\u001b[0m\u001b[0m\n\u001b[1;32m---> 11\u001b[1;33m \u001b[0mprint\u001b[0m\u001b[1;33m(\u001b[0m\u001b[0mobj\u001b[0m\u001b[1;33m.\u001b[0m\u001b[0m__datacamp\u001b[0m\u001b[1;33m(\u001b[0m\u001b[1;33m)\u001b[0m\u001b[1;33m)\u001b[0m    \u001b[1;31m## we get an error here\u001b[0m\u001b[1;33m\u001b[0m\u001b[1;33m\u001b[0m\u001b[0m\n\u001b[0m",
      "\u001b[1;31mAttributeError\u001b[0m: 'SimpleClass' object has no attribute '__datacamp'"
     ]
    }
   ],
   "source": [
    "class SimpleClass:\n",
    "\n",
    "    def __datacamp(self):\n",
    "        return \"datacamp\"\n",
    "\n",
    "    def call_datacamp(self):\n",
    "        return self.__datacamp()\n",
    "\n",
    "obj = SimpleClass()\n",
    "print(obj.call_datacamp()) ## same as above it returns the Dobule pre underscore method\n",
    "print(obj.__datacamp())    ## we get an error here"
   ]
  },
  {
   "cell_type": "markdown",
   "metadata": {},
   "source": [
    "Let's look at the name mangling in another way. First, we will create a variable with name **\\_SimpleClass\\_\\_name**, and then we will try to access that variable using Doble Pre Underscore name."
   ]
  },
  {
   "cell_type": "code",
   "execution_count": 6,
   "metadata": {
    "ExecuteTime": {
     "end_time": "2020-03-29T13:40:31.542451Z",
     "start_time": "2020-03-29T13:40:31.535398Z"
    }
   },
   "outputs": [
    {
     "name": "stdout",
     "output_type": "stream",
     "text": [
      "datacamp\n"
     ]
    }
   ],
   "source": [
    "_SimpleClass__name = \"datacamp\"\n",
    "\n",
    "class SimpleClass:\n",
    "\n",
    "    def return_name(self):\n",
    "        return __name\n",
    "\n",
    "obj = SimpleClass()\n",
    "print(obj.return_name()) ## it prints the __name variable"
   ]
  },
  {
   "cell_type": "markdown",
   "metadata": {},
   "source": [
    "#### \\_\\_variable\\_\\_\n",
    "\n",
    "它们被称为**魔术方法**或**dunder方法**。\n",
    "\n",
    "* 如果使用这些方法作为变量名，则会导致冲突。所以，最好远离他们。"
   ]
  },
  {
   "cell_type": "markdown",
   "metadata": {},
   "source": [
    "### 单一下划线的用法"
   ]
  },
  {
   "cell_type": "markdown",
   "metadata": {},
   "source": [
    "#### 在Ipython中\n",
    "\n",
    "Python自动将解释器中最后一个表达式的值存储到一个名为“_”的特定变量中。如果需要，还可以将这些值分配给另一个变量。"
   ]
  },
  {
   "cell_type": "code",
   "execution_count": 6,
   "metadata": {
    "ExecuteTime": {
     "end_time": "2020-03-29T11:56:51.840339Z",
     "start_time": "2020-03-29T11:56:51.831849Z"
    }
   },
   "outputs": [
    {
     "data": {
      "text/plain": [
       "9"
      ]
     },
     "execution_count": 6,
     "metadata": {},
     "output_type": "execute_result"
    },
    {
     "data": {
      "text/plain": [
       "9"
      ]
     },
     "execution_count": 6,
     "metadata": {},
     "output_type": "execute_result"
    }
   ],
   "source": [
    "5 + 4\n",
    "_"
   ]
  },
  {
   "cell_type": "code",
   "execution_count": 7,
   "metadata": {
    "ExecuteTime": {
     "end_time": "2020-03-29T11:57:03.359480Z",
     "start_time": "2020-03-29T11:57:03.351464Z"
    }
   },
   "outputs": [
    {
     "data": {
      "text/plain": [
       "15"
      ]
     },
     "execution_count": 7,
     "metadata": {},
     "output_type": "execute_result"
    },
    {
     "data": {
      "text/plain": [
       "15"
      ]
     },
     "execution_count": 7,
     "metadata": {},
     "output_type": "execute_result"
    }
   ],
   "source": [
    "_ + 6\n",
    "_"
   ]
  },
  {
   "cell_type": "markdown",
   "metadata": {},
   "source": [
    "#### 将后面代码不会用到的值赋值给'_'"
   ]
  },
  {
   "cell_type": "code",
   "execution_count": 8,
   "metadata": {
    "ExecuteTime": {
     "end_time": "2020-03-29T11:59:02.832689Z",
     "start_time": "2020-03-29T11:59:02.825709Z"
    }
   },
   "outputs": [
    {
     "name": "stdout",
     "output_type": "stream",
     "text": [
      "1 3\n",
      "7 1\n"
     ]
    }
   ],
   "source": [
    "## ignoring a value\n",
    "a, _, b = (1, 2, 3) # a = 1, b = 3\n",
    "print(a, b)\n",
    "\n",
    "## ignoring multiple values\n",
    "## *(variable) used to assign multiple value to a variable as list while unpacking\n",
    "## it's called \"Extended Unpacking\", only available in Python 3.x\n",
    "a, *_, b = (7, 6, 5, 4, 3, 2, 1)\n",
    "print(a, b)"
   ]
  },
  {
   "cell_type": "markdown",
   "metadata": {},
   "source": [
    "#### 用在循环中作为循环变量\n",
    "\n"
   ]
  },
  {
   "cell_type": "code",
   "execution_count": 9,
   "metadata": {
    "ExecuteTime": {
     "end_time": "2020-03-29T12:04:27.280531Z",
     "start_time": "2020-03-29T12:04:27.272553Z"
    }
   },
   "outputs": [
    {
     "name": "stdout",
     "output_type": "stream",
     "text": [
      "0\n",
      "1\n",
      "2\n",
      "3\n",
      "4\n",
      "Python\n",
      "JS\n",
      "PHP\n",
      "Java\n",
      "5 6 7 8 9 "
     ]
    }
   ],
   "source": [
    "## lopping ten times using _\n",
    "for _ in range(5):\n",
    "    print(_)\n",
    "\n",
    "## iterating over a list using _\n",
    "## you can use _ same as a variable\n",
    "languages = [\"Python\", \"JS\", \"PHP\", \"Java\"]\n",
    "for _ in languages:\n",
    "    print(_)\n",
    "\n",
    "_ = 5\n",
    "while _ < 10:\n",
    "    print(_, end = ' ') # default value of 'end' id '\\n' in python. we're changing it to space\n",
    "    _ += 1"
   ]
  },
  {
   "cell_type": "markdown",
   "metadata": {},
   "source": [
    "#### 分隔数字\n",
    "\n",
    "If you have a long digits number, you can separate the group of digits as you like for better understanding.\n",
    "\n",
    "Ex:- million = 1_000_000\n",
    "\n",
    "Next, you can also use underscore(_) to separate the binary, octal or hex parts of numbers.\n",
    "\n",
    "Ex:- binary = 0b_0010, octa = 0o_64, hexa = 0x_23_ab\n",
    "\n",
    "Execute all the above examples to see the results."
   ]
  },
  {
   "cell_type": "code",
   "execution_count": 10,
   "metadata": {
    "ExecuteTime": {
     "end_time": "2020-03-29T12:17:57.652521Z",
     "start_time": "2020-03-29T12:17:57.643544Z"
    }
   },
   "outputs": [
    {
     "name": "stdout",
     "output_type": "stream",
     "text": [
      "1000000\n",
      "2\n",
      "52\n",
      "9131\n"
     ]
    }
   ],
   "source": [
    "## different number systems\n",
    "## you can also check whether they are correct or not by coverting them into integer using \"int\" method\n",
    "million = 1_000_000\n",
    "binary = 0b_0010\n",
    "octa = 0o_64\n",
    "hexa = 0x_23_ab\n",
    "\n",
    "print(million)\n",
    "print(binary)\n",
    "print(octa)\n",
    "print(hexa)"
   ]
  },
  {
   "cell_type": "markdown",
   "metadata": {},
   "source": [
    "# 迭代器\n",
    "\n",
    "* 迭代是Python最强大的功能之一，是访问集合元素的一种方式。\n",
    "\n",
    "* 迭代器是一个可以记住遍历的位置的对象。\n",
    "\n",
    "* 迭代器对象从集合的第一个元素开始访问，直到所有的元素被访问完结束。迭代器只能往前不会后退。\n"
   ]
  },
  {
   "cell_type": "markdown",
   "metadata": {},
   "source": [
    "## 字符串，列表或元组对象都可用于创建迭代器\n",
    "\n",
    "字符串，列表或元组对象都可用于创建迭代器：\n",
    "\n",
    "迭代器有两个基本的方法：iter() 和 next()。"
   ]
  },
  {
   "cell_type": "code",
   "execution_count": 1,
   "metadata": {
    "ExecuteTime": {
     "end_time": "2020-05-28T03:27:14.507885Z",
     "start_time": "2020-05-28T03:27:14.498899Z"
    }
   },
   "outputs": [
    {
     "name": "stdout",
     "output_type": "stream",
     "text": [
      "1\n",
      "2\n"
     ]
    }
   ],
   "source": [
    "list=[1,2,3,4]\n",
    "it = iter(list)    # 创建迭代器对象\n",
    "print (next(it))   # 输出迭代器的下一个元素\n",
    "\n",
    "print (next(it))"
   ]
  },
  {
   "cell_type": "markdown",
   "metadata": {},
   "source": [
    "迭代器对象可以使用常规for语句进行遍历："
   ]
  },
  {
   "cell_type": "code",
   "execution_count": 2,
   "metadata": {
    "ExecuteTime": {
     "end_time": "2020-05-28T03:28:14.212347Z",
     "start_time": "2020-05-28T03:28:14.206363Z"
    }
   },
   "outputs": [
    {
     "name": "stdout",
     "output_type": "stream",
     "text": [
      "1\n",
      "2\n",
      "3\n",
      "4\n"
     ]
    }
   ],
   "source": [
    "list=[1,2,3,4]\n",
    "it = iter(list)    # 创建迭代器对象\n",
    "for x in it:\n",
    "    print(x)"
   ]
  },
  {
   "cell_type": "markdown",
   "metadata": {},
   "source": [
    "也可以使用 next() 函数："
   ]
  },
  {
   "cell_type": "code",
   "execution_count": null,
   "metadata": {
    "ExecuteTime": {
     "end_time": "2020-05-28T03:29:29.991060Z",
     "start_time": "2020-05-28T03:29:28.346Z"
    }
   },
   "outputs": [],
   "source": [
    "import sys         # 引入 sys 模块\n",
    " \n",
    "list=[1,2,3,4]\n",
    "it = iter(list)    # 创建迭代器对象\n",
    " \n",
    "while True:\n",
    "    try:\n",
    "        print (next(it))\n",
    "    except StopIteration:\n",
    "        pass\n",
    "        #sys.exit()"
   ]
  },
  {
   "cell_type": "markdown",
   "metadata": {},
   "source": [
    "## 把一个类作为一个迭代器\n",
    "\n",
    "使用需要在类中实现两个方法 __iter__() 与 __next__() 。\n",
    "\n",
    "\n",
    "* \\_\\_iter\\_\\_() 方法返回一个特殊的迭代器对象， 这个迭代器对象实现了 __next__() 方法并通过 `StopIteration` 异常标识迭代的完成。\n",
    "\n",
    "* \\_\\_next\\_\\_() 方法（Python 2 里是 next()）会返回下一个迭代器对象。\n",
    "\n"
   ]
  },
  {
   "cell_type": "markdown",
   "metadata": {},
   "source": [
    "创建一个返回数字的迭代器，初始值为 1，逐步递增 1："
   ]
  },
  {
   "cell_type": "code",
   "execution_count": 6,
   "metadata": {
    "ExecuteTime": {
     "end_time": "2020-05-28T04:42:37.231380Z",
     "start_time": "2020-05-28T04:42:37.210436Z"
    }
   },
   "outputs": [
    {
     "name": "stdout",
     "output_type": "stream",
     "text": [
      "1\n",
      "2\n",
      "3\n",
      "4\n",
      "5\n"
     ]
    }
   ],
   "source": [
    "class MyNumbers:\n",
    "  def __iter__(self):\n",
    "    self.a = 1\n",
    "    return self\n",
    " \n",
    "  def __next__(self):\n",
    "    x = self.a\n",
    "    self.a += 1\n",
    "    return x\n",
    " \n",
    "myclass = MyNumbers()\n",
    "myiter = iter(myclass)\n",
    " \n",
    "print(next(myiter))\n",
    "print(next(myiter))\n",
    "print(next(myiter))\n",
    "print(next(myiter))\n",
    "print(next(myiter))"
   ]
  },
  {
   "cell_type": "markdown",
   "metadata": {},
   "source": [
    "**StopIteration**\n",
    "StopIteration 异常用于标识迭代的完成，防止出现无限循环的情况，在 __next__() 方法中我们可以设置在完成指定循环次数后触发 StopIteration 异常来结束迭代。"
   ]
  },
  {
   "cell_type": "code",
   "execution_count": 7,
   "metadata": {
    "ExecuteTime": {
     "end_time": "2020-05-28T07:08:09.275382Z",
     "start_time": "2020-05-28T07:08:09.251449Z"
    }
   },
   "outputs": [
    {
     "name": "stdout",
     "output_type": "stream",
     "text": [
      "1\n",
      "2\n",
      "3\n",
      "4\n",
      "5\n",
      "6\n",
      "7\n",
      "8\n",
      "9\n",
      "10\n",
      "11\n",
      "12\n",
      "13\n",
      "14\n",
      "15\n",
      "16\n",
      "17\n",
      "18\n",
      "19\n",
      "20\n"
     ]
    }
   ],
   "source": [
    "class MyNumbers:\n",
    "  def __iter__(self):\n",
    "    self.a = 1\n",
    "    return self\n",
    " \n",
    "  def __next__(self):\n",
    "    if self.a <= 20:\n",
    "      x = self.a\n",
    "      self.a += 1\n",
    "      return x\n",
    "    else:\n",
    "      raise StopIteration\n",
    " \n",
    "myclass = MyNumbers()\n",
    "myiter = iter(myclass)\n",
    " \n",
    "for x in myiter:\n",
    "  print(x)"
   ]
  },
  {
   "cell_type": "markdown",
   "metadata": {},
   "source": [
    "### `__getitem__`方法\n",
    "\n",
    "Python的魔法方法`__getitem__` 可以让对象实现迭代功能，这样就可以使用`for...in...` 来迭代该对象了\n",
    "\n",
    "在用 for..in.. 迭代对象时，如果对象没有实现 `__iter__ `,`__next__` 迭代器协议，Python的解释器就会去寻找\\_\\_getitem\\_\\_ 来迭代对象，如果连\\_\\_getitem\\_\\_ 都没有定义，这解释器就会报对象不是迭代器的错误：\n",
    "\n",
    "> `TypeError: 'Animal' object is not iterable`"
   ]
  },
  {
   "cell_type": "code",
   "execution_count": 12,
   "metadata": {
    "ExecuteTime": {
     "end_time": "2020-05-28T07:30:19.667557Z",
     "start_time": "2020-05-28T07:30:19.640499Z"
    }
   },
   "outputs": [
    {
     "name": "stdout",
     "output_type": "stream",
     "text": [
      "dog\n",
      "cat\n",
      "fish\n"
     ]
    }
   ],
   "source": [
    "class Animal():\n",
    "    \n",
    "    def __init__(self, animal_list):\n",
    "        self.animal_list = animal_list\n",
    "        \n",
    "    def __getitem__(self, index):\n",
    "        return self.animal_list[index]\n",
    "\n",
    "animals = Animal([\"dog\",\"cat\",\"fish\"])\n",
    "for animal in animals:\n",
    "    print(animal)"
   ]
  },
  {
   "cell_type": "markdown",
   "metadata": {},
   "source": [
    "使用这个方法最大的印象就是调用对象的属性可以像字典取值一样使用中括号['key']。使用中括号对对象中的属性进行取值、赋值或者删除时，会自动触发对应的`__getitem__`、`__setitem__`、`__delitem__`方法:\n",
    "\n",
    "[参考](https://www.jb51.net/article/168915.htm)\n",
    "[参考](https://blog.csdn.net/weixin_42557907/article/details/81589574)"
   ]
  },
  {
   "cell_type": "code",
   "execution_count": null,
   "metadata": {},
   "outputs": [],
   "source": []
  },
  {
   "cell_type": "markdown",
   "metadata": {},
   "source": [
    "# 生成器\n",
    "在 Python 中，使用了 yield 的函数被称为生成器（generator）。\n",
    "\n",
    "跟普通函数不同的是，**生成器是一个返回迭代器的函数**，只能用于迭代操作，**更简单点理解生成器就是一个迭代器。**\n",
    "\n",
    "在调用生成器运行的过程中，每次遇到 `yield` 时函数会暂停并保存当前所有的运行信息，返回 `yield` 的值, 并在下一次执行 `next() `方法时从当前位置继续运行。\n",
    "\n",
    "调用一个生成器函数，返回的是一个迭代器对象。\n",
    "\n",
    "以下实例使用 yield 实现斐波那契数列："
   ]
  },
  {
   "cell_type": "code",
   "execution_count": null,
   "metadata": {},
   "outputs": [],
   "source": []
  },
  {
   "cell_type": "code",
   "execution_count": 1,
   "metadata": {
    "ExecuteTime": {
     "end_time": "2020-05-28T07:13:20.407693Z",
     "start_time": "2020-05-28T07:11:21.809182Z"
    }
   },
   "outputs": [
    {
     "data": {
      "text/plain": [
       "{0: 1, 1: 2, 2: 3, 3: 5, 5: 8, 8: 13, 13: 21, 21: 34, 34: 55, 55: 89}"
      ]
     },
     "execution_count": 1,
     "metadata": {},
     "output_type": "execute_result"
    }
   ],
   "source": [
    "import sys\n",
    " \n",
    "def fibonacci(n): # 生成器函数 - 斐波那契\n",
    "    a, b, counter = 0, 1, 0\n",
    "    while True:\n",
    "        if (counter > n): \n",
    "            return\n",
    "        yield (a,b)\n",
    "        a, b = b, a + b\n",
    "        counter += 1\n",
    "f = fibonacci(10) # f 是一个迭代器，由生成器返回生成\n",
    "dict(f)\n",
    "# while True:\n",
    "#     try:\n",
    "#         print (next(f), end=\" \")\n",
    "#     except StopIteration:\n",
    "#         pass\n",
    "#         #sys.exit()"
   ]
  }
 ],
 "metadata": {
  "hide_input": false,
  "kernelspec": {
   "display_name": "Python 3 (ipykernel)",
   "language": "python",
   "name": "python3"
  },
  "language_info": {
   "codemirror_mode": {
    "name": "ipython",
    "version": 3
   },
   "file_extension": ".py",
   "mimetype": "text/x-python",
   "name": "python",
   "nbconvert_exporter": "python",
   "pygments_lexer": "ipython3",
   "version": "3.9.13"
  },
  "pycharm": {
   "stem_cell": {
    "cell_type": "raw",
    "metadata": {
     "collapsed": false
    },
    "source": []
   }
  },
  "toc": {
   "base_numbering": 1,
   "nav_menu": {},
   "number_sections": true,
   "sideBar": true,
   "skip_h1_title": false,
   "title_cell": "Table of Contents",
   "title_sidebar": "Contents",
   "toc_cell": false,
   "toc_position": {
    "height": "calc(100% - 180px)",
    "left": "10px",
    "top": "150px",
    "width": "312.517px"
   },
   "toc_section_display": true,
   "toc_window_display": true
  },
  "toc-autonumbering": true,
  "toc-showtags": false,
  "varInspector": {
   "cols": {
    "lenName": 16,
    "lenType": 16,
    "lenVar": 40
   },
   "kernels_config": {
    "python": {
     "delete_cmd_postfix": "",
     "delete_cmd_prefix": "del ",
     "library": "var_list.py",
     "varRefreshCmd": "print(var_dic_list())"
    },
    "r": {
     "delete_cmd_postfix": ") ",
     "delete_cmd_prefix": "rm(",
     "library": "var_list.r",
     "varRefreshCmd": "cat(var_dic_list()) "
    }
   },
   "types_to_exclude": [
    "module",
    "function",
    "builtin_function_or_method",
    "instance",
    "_Feature"
   ],
   "window_display": false
  }
 },
 "nbformat": 4,
 "nbformat_minor": 4
}
