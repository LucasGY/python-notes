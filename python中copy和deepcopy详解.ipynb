{
 "cells": [
  {
   "cell_type": "markdown",
   "metadata": {},
   "source": [
    "deepcopy是真正意义上的复制，深拷贝，被复制对象完全复制一遍作为独立的新个体，新开辟一块空间。\n",
    "\n",
    "浅拷贝，不会产生独立对象，等于赋值，只是对原有数据块打上新标签，其中一个标签改变，数据块就会变化。浅拷贝等于赋值，也可以通过copy实现，copy仅拷贝对象本身，浅拷贝不会对其中的子对象进行拷贝，如果对子对象进行修改，拷贝结果也会随着修改。\n",
    "————————————————\n",
    "版权声明：本文为CSDN博主「整天梦游的小jerry」的原创文章，遵循CC 4.0 BY-SA版权协议，转载请附上原文出处链接及本声明。\n",
    "原文链接：https://blog.csdn.net/weixin_43804047/article/details/125028916"
   ]
  },
  {
   "cell_type": "code",
   "execution_count": 3,
   "metadata": {},
   "outputs": [
    {
     "name": "stdout",
     "output_type": "stream",
     "text": [
      "[1, 2, 3, [4, 5, 6], 1, 9]\n",
      "[1, 2, 3, [4, 5, 6], 1, 9]\n",
      "[1, 2, 3, [4, 5, 6], 1]\n",
      "[1, 2, 3, [4, 5], 1]\n",
      "140167017941344\n",
      "140167017941344\n",
      "140167017959504\n",
      "140167017928496\n",
      "------------------------------\n",
      "140167016640240\n",
      "140167016640240\n",
      "140167016640240\n",
      "140167016640240\n"
     ]
    }
   ],
   "source": [
    "import copy\n",
    "a = [1,2,3,[4,5],1]\n",
    "b = a\n",
    "c = copy.copy(a)\n",
    "d = copy.deepcopy(a)\n",
    "\n",
    "a.append(9)\n",
    "a[3].append(6)\n",
    "\n",
    "print(a) \t#[1, 2, 3, [4, 5, 6], 1, 9]\n",
    "print(b)\t#[1, 2, 3, [4, 5, 6], 1, 9]\n",
    "print(c)\t#[1, 2, 3, [4, 5, 6], 1]\n",
    "print(d)\t#[1, 2, 3, [4, 5], 1]\n",
    "\n",
    "print(id(a))\t#4594148288\n",
    "print(id(b))\t#4594148288\n",
    "print(id(c))\t#4594455328\n",
    "print(id(d))\t#4592688496\n",
    "print('-'*30)\n",
    "\n",
    "x = 'Hello World'\n",
    "y = x\n",
    "z = copy.copy(x)\n",
    "w = copy.deepcopy(x)\n",
    "print(id(x)) #4617118576\n",
    "print(id(y)) #4617118576\n",
    "print(id(z)) #4617118576\n",
    "print(id(w)) #4617118576\n",
    "\n",
    "# 对于不可变类型(元组、数值，字符串等)为浅拷贝,对象的id值与浅复制原来的值相同\n",
    "# 对于可变类型(列表、字典等)为深拷贝，\n"
   ]
  },
  {
   "cell_type": "code",
   "execution_count": null,
   "metadata": {},
   "outputs": [],
   "source": []
  }
 ],
 "metadata": {
  "kernelspec": {
   "display_name": "Python 3",
   "language": "python",
   "name": "python3"
  },
  "language_info": {
   "codemirror_mode": {
    "name": "ipython",
    "version": 3
   },
   "file_extension": ".py",
   "mimetype": "text/x-python",
   "name": "python",
   "nbconvert_exporter": "python",
   "pygments_lexer": "ipython3",
   "version": "3.7.9"
  }
 },
 "nbformat": 4,
 "nbformat_minor": 4
}
