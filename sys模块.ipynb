{
 "cells": [
  {
   "cell_type": "code",
   "execution_count": 1,
   "metadata": {},
   "outputs": [],
   "source": [
    "import sys\n",
    "sys.argv = ['main.py']"
   ]
  },
  {
   "cell_type": "markdown",
   "metadata": {},
   "source": [
    "# SYS：\n",
    "\n",
    "“sys”即“system”，“系统”之意。该模块提供了一些接口，用于访问 Python 解释器自身使用和维护的变量，同时模块中还提供了一部分函数，可以与解释器进行比较深度的交互。"
   ]
  },
  {
   "cell_type": "markdown",
   "metadata": {},
   "source": [
    "## sys.argv:\n",
    "sys.argv 是获取运行python文件的时候命令行参数，且以list形式存储参数.\n",
    "\n",
    "[参考](https://blog.csdn.net/lyb3b3b/article/details/81221396)"
   ]
  },
  {
   "cell_type": "code",
   "execution_count": 2,
   "metadata": {},
   "outputs": [
    {
     "data": {
      "text/plain": [
       "['/Users/macuser/opt/anaconda3/envs/tf2.0/lib/python3.7/site-packages/ipykernel_launcher.py',\n",
       " '-f',\n",
       " '/Users/macuser/Library/Jupyter/runtime/kernel-bc9651e6-4066-4d82-a52c-a622236f6e11.json']"
      ]
     },
     "execution_count": 2,
     "metadata": {},
     "output_type": "execute_result"
    }
   ],
   "source": [
    "sys.argv #jupyter和py运行的结果不同，py file sys.argv[0]为python命令后的文件名（包含路径）"
   ]
  },
  {
   "cell_type": "code",
   "execution_count": 4,
   "metadata": {},
   "outputs": [
    {
     "name": "stdout",
     "output_type": "stream",
     "text": [
      "['../pythonBase/sys_try.py', '-h', '1', '--haha', '2']\n"
     ]
    }
   ],
   "source": [
    "!python ../pythonBase/sys_try.py -h 1 --haha 2"
   ]
  },
  {
   "cell_type": "markdown",
   "metadata": {},
   "source": [
    "## sys.path:\n",
    "\n",
    "如果python中导入的package或module不在环境变量PATH中，那么可以使用sys.path将要导入的package或module所在的地址加入到PATH环境变量中。\n",
    "\n",
    "`sys.path.append(’引用模块的地址')`"
   ]
  },
  {
   "cell_type": "code",
   "execution_count": 5,
   "metadata": {},
   "outputs": [
    {
     "data": {
      "text/plain": [
       "['/Users/macuser/SynologyDrive/pythonBase',\n",
       " '/Users/macuser/opt/anaconda3/envs/tf2.0/lib/python37.zip',\n",
       " '/Users/macuser/opt/anaconda3/envs/tf2.0/lib/python3.7',\n",
       " '/Users/macuser/opt/anaconda3/envs/tf2.0/lib/python3.7/lib-dynload',\n",
       " '',\n",
       " '/Users/macuser/opt/anaconda3/envs/tf2.0/lib/python3.7/site-packages',\n",
       " '/Users/macuser/opt/anaconda3/envs/tf2.0/lib/python3.7/site-packages/fastdtw-0.3.2-py3.7-macosx-10.9-x86_64.egg',\n",
       " '/Users/macuser/opt/anaconda3/envs/tf2.0/lib/python3.7/site-packages/pai_easynlp-0.0.7-py3.7.egg',\n",
       " '/Users/macuser/opt/anaconda3/envs/tf2.0/lib/python3.7/site-packages/wheel-0.37.1-py3.7.egg',\n",
       " '/Users/macuser/opt/anaconda3/envs/tf2.0/lib/python3.7/site-packages/IPython/extensions',\n",
       " '/Users/macuser/.ipython']"
      ]
     },
     "execution_count": 5,
     "metadata": {},
     "output_type": "execute_result"
    }
   ],
   "source": [
    "sys.path"
   ]
  },
  {
   "cell_type": "code",
   "execution_count": 1,
   "metadata": {},
   "outputs": [
    {
     "name": "stdout",
     "output_type": "stream",
     "text": [
      "/Users/macuser/SynologyDrive/pythonBase\n",
      "['/Users/macuser/SynologyDrive/pythonBase', '/Users/macuser/opt/anaconda3/envs/tf2.0/lib/python37.zip', '/Users/macuser/opt/anaconda3/envs/tf2.0/lib/python3.7', '/Users/macuser/opt/anaconda3/envs/tf2.0/lib/python3.7/lib-dynload', '', '/Users/macuser/opt/anaconda3/envs/tf2.0/lib/python3.7/site-packages', '/Users/macuser/opt/anaconda3/envs/tf2.0/lib/python3.7/site-packages/fastdtw-0.3.2-py3.7-macosx-10.9-x86_64.egg', '/Users/macuser/opt/anaconda3/envs/tf2.0/lib/python3.7/site-packages/pai_easynlp-0.0.7-py3.7.egg', '/Users/macuser/opt/anaconda3/envs/tf2.0/lib/python3.7/site-packages/wheel-0.37.1-py3.7.egg', '/Users/macuser/opt/anaconda3/envs/tf2.0/lib/python3.7/site-packages/IPython/extensions', '/Users/macuser/.ipython', '..']\n",
      "/Users/macuser/SynologyDrive/pythonBase/argparseStudy/global_vars.py\n",
      "/Users/macuser/SynologyDrive/pythonBase/argparseStudy\n"
     ]
    }
   ],
   "source": [
    "from argparseStudy import global_vars"
   ]
  },
  {
   "cell_type": "code",
   "execution_count": null,
   "metadata": {},
   "outputs": [],
   "source": []
  }
 ],
 "metadata": {
  "kernelspec": {
   "display_name": "Python 3",
   "language": "python",
   "name": "python3"
  },
  "language_info": {
   "codemirror_mode": {
    "name": "ipython",
    "version": 3
   },
   "file_extension": ".py",
   "mimetype": "text/x-python",
   "name": "python",
   "nbconvert_exporter": "python",
   "pygments_lexer": "ipython3",
   "version": "3.7.9"
  }
 },
 "nbformat": 4,
 "nbformat_minor": 4
}
